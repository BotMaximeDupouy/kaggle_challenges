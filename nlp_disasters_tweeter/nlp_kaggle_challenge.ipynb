{
 "cells": [
  {
   "cell_type": "markdown",
   "id": "63d93416",
   "metadata": {
    "heading_collapsed": true
   },
   "source": [
    "# Import"
   ]
  },
  {
   "cell_type": "code",
   "execution_count": 173,
   "id": "3b7bde3c",
   "metadata": {
    "hidden": true
   },
   "outputs": [],
   "source": [
    "import pandas as pd\n",
    "import numpy as np\n",
    "import matplotlib.pyplot as plt\n",
    "import seaborn as sns\n",
    "import string\n",
    "from nltk.corpus import stopwords\n",
    "from nltk.tokenize import word_tokenize\n",
    "from nltk.stem import WordNetLemmatizer\n",
    "from tensorflow.keras.preprocessing.sequence import pad_sequences\n",
    "from gensim.models import Word2Vec\n",
    "from tensorflow.keras.preprocessing.text import Tokenizer\n",
    "from tensorflow.keras.callbacks import EarlyStopping\n",
    "from tensorflow.keras.losses import BinaryCrossentropy\n",
    "from gensim.models import Word2Vec\n",
    "from sklearn.model_selection import train_test_split\n",
    "from tensorflow.keras import layers, Sequential\n",
    "from sklearn.naive_bayes import MultinomialNB\n",
    "from sklearn.feature_extraction.text import TfidfVectorizer"
   ]
  },
  {
   "cell_type": "markdown",
   "id": "5969035e",
   "metadata": {
    "heading_collapsed": true
   },
   "source": [
    "# Load Data"
   ]
  },
  {
   "cell_type": "code",
   "execution_count": 154,
   "id": "45041abb",
   "metadata": {
    "hidden": true
   },
   "outputs": [
    {
     "data": {
      "text/html": [
       "<div>\n",
       "<style scoped>\n",
       "    .dataframe tbody tr th:only-of-type {\n",
       "        vertical-align: middle;\n",
       "    }\n",
       "\n",
       "    .dataframe tbody tr th {\n",
       "        vertical-align: top;\n",
       "    }\n",
       "\n",
       "    .dataframe thead th {\n",
       "        text-align: right;\n",
       "    }\n",
       "</style>\n",
       "<table border=\"1\" class=\"dataframe\">\n",
       "  <thead>\n",
       "    <tr style=\"text-align: right;\">\n",
       "      <th></th>\n",
       "      <th>id</th>\n",
       "      <th>keyword</th>\n",
       "      <th>location</th>\n",
       "      <th>text</th>\n",
       "      <th>target</th>\n",
       "    </tr>\n",
       "  </thead>\n",
       "  <tbody>\n",
       "    <tr>\n",
       "      <th>0</th>\n",
       "      <td>1</td>\n",
       "      <td>NaN</td>\n",
       "      <td>NaN</td>\n",
       "      <td>Our Deeds are the Reason of this #earthquake M...</td>\n",
       "      <td>1</td>\n",
       "    </tr>\n",
       "    <tr>\n",
       "      <th>1</th>\n",
       "      <td>4</td>\n",
       "      <td>NaN</td>\n",
       "      <td>NaN</td>\n",
       "      <td>Forest fire near La Ronge Sask. Canada</td>\n",
       "      <td>1</td>\n",
       "    </tr>\n",
       "    <tr>\n",
       "      <th>2</th>\n",
       "      <td>5</td>\n",
       "      <td>NaN</td>\n",
       "      <td>NaN</td>\n",
       "      <td>All residents asked to 'shelter in place' are ...</td>\n",
       "      <td>1</td>\n",
       "    </tr>\n",
       "    <tr>\n",
       "      <th>3</th>\n",
       "      <td>6</td>\n",
       "      <td>NaN</td>\n",
       "      <td>NaN</td>\n",
       "      <td>13,000 people receive #wildfires evacuation or...</td>\n",
       "      <td>1</td>\n",
       "    </tr>\n",
       "    <tr>\n",
       "      <th>4</th>\n",
       "      <td>7</td>\n",
       "      <td>NaN</td>\n",
       "      <td>NaN</td>\n",
       "      <td>Just got sent this photo from Ruby #Alaska as ...</td>\n",
       "      <td>1</td>\n",
       "    </tr>\n",
       "  </tbody>\n",
       "</table>\n",
       "</div>"
      ],
      "text/plain": [
       "   id keyword location                                               text  \\\n",
       "0   1     NaN      NaN  Our Deeds are the Reason of this #earthquake M...   \n",
       "1   4     NaN      NaN             Forest fire near La Ronge Sask. Canada   \n",
       "2   5     NaN      NaN  All residents asked to 'shelter in place' are ...   \n",
       "3   6     NaN      NaN  13,000 people receive #wildfires evacuation or...   \n",
       "4   7     NaN      NaN  Just got sent this photo from Ruby #Alaska as ...   \n",
       "\n",
       "   target  \n",
       "0       1  \n",
       "1       1  \n",
       "2       1  \n",
       "3       1  \n",
       "4       1  "
      ]
     },
     "execution_count": 154,
     "metadata": {},
     "output_type": "execute_result"
    }
   ],
   "source": [
    "path = \"../data/train.csv\"\n",
    "data = pd.read_csv(path)\n",
    "df = data.copy()\n",
    "df.head()"
   ]
  },
  {
   "cell_type": "markdown",
   "id": "0f655d7f",
   "metadata": {
    "heading_collapsed": true
   },
   "source": [
    "# Data explo"
   ]
  },
  {
   "cell_type": "markdown",
   "id": "c32d3575",
   "metadata": {
    "hidden": true
   },
   "source": [
    "## Shape, size, info"
   ]
  },
  {
   "cell_type": "code",
   "execution_count": 155,
   "id": "27373e57",
   "metadata": {
    "hidden": true
   },
   "outputs": [
    {
     "data": {
      "text/plain": [
       "(7613, 5)"
      ]
     },
     "execution_count": 155,
     "metadata": {},
     "output_type": "execute_result"
    }
   ],
   "source": [
    "df.shape"
   ]
  },
  {
   "cell_type": "code",
   "execution_count": 156,
   "id": "d352ff1e",
   "metadata": {
    "hidden": true
   },
   "outputs": [
    {
     "name": "stdout",
     "output_type": "stream",
     "text": [
      "<class 'pandas.core.frame.DataFrame'>\n",
      "RangeIndex: 7613 entries, 0 to 7612\n",
      "Data columns (total 5 columns):\n",
      " #   Column    Non-Null Count  Dtype \n",
      "---  ------    --------------  ----- \n",
      " 0   id        7613 non-null   int64 \n",
      " 1   keyword   7552 non-null   object\n",
      " 2   location  5080 non-null   object\n",
      " 3   text      7613 non-null   object\n",
      " 4   target    7613 non-null   int64 \n",
      "dtypes: int64(2), object(3)\n",
      "memory usage: 297.5+ KB\n"
     ]
    }
   ],
   "source": [
    "df.info()"
   ]
  },
  {
   "cell_type": "markdown",
   "id": "11bc6be8",
   "metadata": {
    "hidden": true
   },
   "source": [
    "## Balanced?"
   ]
  },
  {
   "cell_type": "code",
   "execution_count": 157,
   "id": "6420aeca",
   "metadata": {
    "hidden": true
   },
   "outputs": [
    {
     "data": {
      "text/plain": [
       "0    0.57034\n",
       "1    0.42966\n",
       "Name: target, dtype: float64"
      ]
     },
     "execution_count": 157,
     "metadata": {},
     "output_type": "execute_result"
    }
   ],
   "source": [
    "df['target'].value_counts(1)"
   ]
  },
  {
   "cell_type": "markdown",
   "id": "1577551c",
   "metadata": {
    "hidden": true
   },
   "source": [
    "## Nan number ?"
   ]
  },
  {
   "cell_type": "code",
   "execution_count": 158,
   "id": "e5d7d973",
   "metadata": {
    "hidden": true
   },
   "outputs": [
    {
     "data": {
      "text/plain": [
       "id             0\n",
       "keyword       61\n",
       "location    2533\n",
       "text           0\n",
       "target         0\n",
       "dtype: int64"
      ]
     },
     "execution_count": 158,
     "metadata": {},
     "output_type": "execute_result"
    }
   ],
   "source": [
    "df.isnull().sum()"
   ]
  },
  {
   "cell_type": "markdown",
   "id": "2de81ba9",
   "metadata": {
    "hidden": true
   },
   "source": [
    "Lets drop location and id columns and explore keyword column"
   ]
  },
  {
   "cell_type": "markdown",
   "id": "a68ab869",
   "metadata": {
    "hidden": true
   },
   "source": [
    "## keyword column"
   ]
  },
  {
   "cell_type": "code",
   "execution_count": 168,
   "id": "7f4fccb9",
   "metadata": {
    "hidden": true
   },
   "outputs": [],
   "source": [
    "df_copy = df.copy()"
   ]
  },
  {
   "cell_type": "code",
   "execution_count": 169,
   "id": "6bb1eb6c",
   "metadata": {
    "hidden": true
   },
   "outputs": [],
   "source": [
    "df_copy.drop(columns=['id'], inplace=True)"
   ]
  },
  {
   "cell_type": "code",
   "execution_count": 170,
   "id": "2ae4777c",
   "metadata": {
    "hidden": true
   },
   "outputs": [],
   "source": [
    "df_copy.dropna(inplace=True)"
   ]
  },
  {
   "cell_type": "code",
   "execution_count": 171,
   "id": "058012cb",
   "metadata": {
    "hidden": true
   },
   "outputs": [
    {
     "data": {
      "text/plain": [
       "(5080, 4)"
      ]
     },
     "execution_count": 171,
     "metadata": {},
     "output_type": "execute_result"
    }
   ],
   "source": [
    "df_copy.shape"
   ]
  },
  {
   "cell_type": "code",
   "execution_count": 163,
   "id": "180718fd",
   "metadata": {
    "hidden": true
   },
   "outputs": [
    {
     "data": {
      "text/plain": [
       "array(['ablaze', 'accident', 'aftershock', 'airplane%20accident',\n",
       "       'ambulance', 'annihilated', 'annihilation', 'apocalypse',\n",
       "       'armageddon', 'army', 'arson', 'arsonist', 'attack', 'attacked',\n",
       "       'avalanche', 'battle', 'bioterror', 'bioterrorism', 'blaze',\n",
       "       'blazing', 'bleeding', 'blew%20up', 'blight', 'blizzard', 'blood',\n",
       "       'bloody', 'blown%20up', 'body%20bag', 'body%20bagging',\n",
       "       'body%20bags', 'bomb', 'bombed', 'bombing', 'bridge%20collapse',\n",
       "       'buildings%20burning', 'buildings%20on%20fire', 'burned',\n",
       "       'burning', 'burning%20buildings', 'bush%20fires', 'casualties',\n",
       "       'casualty', 'catastrophe', 'catastrophic', 'chemical%20emergency',\n",
       "       'cliff%20fall', 'collapse', 'collapsed', 'collide', 'collided',\n",
       "       'collision', 'crash', 'crashed', 'crush', 'crushed', 'curfew',\n",
       "       'cyclone', 'damage', 'danger', 'dead', 'death', 'deaths', 'debris',\n",
       "       'deluge', 'deluged', 'demolish', 'demolished', 'demolition',\n",
       "       'derail', 'derailed', 'derailment', 'desolate', 'desolation',\n",
       "       'destroy', 'destroyed', 'destruction', 'detonate', 'detonation',\n",
       "       'devastated', 'devastation', 'disaster', 'displaced', 'drought',\n",
       "       'drown', 'drowned', 'drowning', 'dust%20storm', 'earthquake',\n",
       "       'electrocute', 'electrocuted', 'emergency', 'emergency%20plan',\n",
       "       'emergency%20services', 'engulfed', 'epicentre', 'evacuate',\n",
       "       'evacuated', 'evacuation', 'explode', 'exploded', 'explosion',\n",
       "       'eyewitness', 'famine', 'fatal', 'fatalities', 'fatality', 'fear',\n",
       "       'fire', 'fire%20truck', 'first%20responders', 'flames',\n",
       "       'flattened', 'flood', 'flooding', 'floods', 'forest%20fire',\n",
       "       'forest%20fires', 'hail', 'hailstorm', 'harm', 'hazard',\n",
       "       'hazardous', 'heat%20wave', 'hellfire', 'hijack', 'hijacker',\n",
       "       'hijacking', 'hostage', 'hostages', 'hurricane', 'injured',\n",
       "       'injuries', 'injury', 'inundated', 'inundation', 'landslide',\n",
       "       'lava', 'lightning', 'loud%20bang', 'mass%20murder',\n",
       "       'mass%20murderer', 'massacre', 'mayhem', 'meltdown', 'military',\n",
       "       'mudslide', 'natural%20disaster', 'nuclear%20disaster',\n",
       "       'nuclear%20reactor', 'obliterate', 'obliterated', 'obliteration',\n",
       "       'oil%20spill', 'outbreak', 'pandemonium', 'panic', 'panicking',\n",
       "       'police', 'quarantine', 'quarantined', 'radiation%20emergency',\n",
       "       'rainstorm', 'razed', 'refugees', 'rescue', 'rescued', 'rescuers',\n",
       "       'riot', 'rioting', 'rubble', 'ruin', 'sandstorm', 'screamed',\n",
       "       'screaming', 'screams', 'seismic', 'sinkhole', 'sinking', 'siren',\n",
       "       'sirens', 'smoke', 'snowstorm', 'storm', 'stretcher',\n",
       "       'structural%20failure', 'suicide%20bomb', 'suicide%20bomber',\n",
       "       'suicide%20bombing', 'sunk', 'survive', 'survived', 'survivors',\n",
       "       'terrorism', 'terrorist', 'threat', 'thunder', 'thunderstorm',\n",
       "       'tornado', 'tragedy', 'trapped', 'trauma', 'traumatised',\n",
       "       'trouble', 'tsunami', 'twister', 'typhoon', 'upheaval',\n",
       "       'violent%20storm', 'volcano', 'war%20zone', 'weapon', 'weapons',\n",
       "       'whirlwind', 'wild%20fires', 'wildfire', 'windstorm', 'wounded',\n",
       "       'wounds', 'wreck', 'wreckage', 'wrecked'], dtype=object)"
      ]
     },
     "execution_count": 163,
     "metadata": {},
     "output_type": "execute_result"
    }
   ],
   "source": [
    "df_copy['keyword'].unique()"
   ]
  },
  {
   "cell_type": "markdown",
   "id": "b94a63fc",
   "metadata": {
    "hidden": true
   },
   "source": [
    "For the moment i will not use the keyword column, because of the nan number, but i think it is an interesting data"
   ]
  },
  {
   "cell_type": "markdown",
   "id": "743df386",
   "metadata": {
    "hidden": true
   },
   "source": [
    "## data viz"
   ]
  },
  {
   "cell_type": "code",
   "execution_count": 164,
   "id": "ebbdc9f1",
   "metadata": {
    "hidden": true
   },
   "outputs": [
    {
     "data": {
      "text/plain": [
       "Text(0.5, 0, 'Count of Keywords')"
      ]
     },
     "execution_count": 164,
     "metadata": {},
     "output_type": "execute_result"
    },
    {
     "data": {
      "image/png": "[encoded data removed]",
      "text/plain": [
       "<Figure size 432x288 with 1 Axes>"
      ]
     },
     "metadata": {
      "needs_background": "light"
     },
     "output_type": "display_data"
    }
   ],
   "source": [
    "chains=df_copy['keyword'].value_counts()[:20]\n",
    "sns.barplot(x=chains,y=chains.index,palette='deep')\n",
    "plt.title(\"Top 20 Keywords\")\n",
    "plt.xlabel(\"Count of Keywords\")"
   ]
  },
  {
   "cell_type": "code",
   "execution_count": 166,
   "id": "4427f1bb",
   "metadata": {
    "hidden": true
   },
   "outputs": [
    {
     "data": {
      "image/png": "[encoded data removed]",
      "text/plain": [
       "<Figure size 1440x576 with 2 Axes>"
      ]
     },
     "metadata": {
      "needs_background": "light"
     },
     "output_type": "display_data"
    }
   ],
   "source": [
    "disaster_keywords = df_copy.loc[df_copy[\"target\"] == 1][\"keyword\"].value_counts()\n",
    "nondisaster_keywords = df_copy.loc[df_copy[\"target\"] == 0][\"keyword\"].value_counts()\n",
    "\n",
    "fig, ax = plt.subplots(1,2, figsize=(20,8))\n",
    "sns.barplot(y=disaster_keywords[0:20].index, x=disaster_keywords[0:20], orient='h', ax=ax[0], palette=\"Reds_d\")\n",
    "ax[0].set_title(\"Top 20 Keywords - Disaster Tweets\")\n",
    "ax[0].set_xlabel(\"Keyword Frequency\")\n",
    "\n",
    "sns.barplot(y=nondisaster_keywords[0:20].index, x=nondisaster_keywords[0:20], orient='h', ax=ax[1], palette=\"Blues_d\")\n",
    "ax[1].set_title(\"Top 20 Keywords - Non-Disaster Tweets\")\n",
    "ax[1].set_xlabel(\"Keyword Frequency\")\n",
    "\n",
    "\n",
    "plt.tight_layout()\n",
    "plt.show()\n"
   ]
  },
  {
   "cell_type": "code",
   "execution_count": null,
   "id": "a058d3b4",
   "metadata": {
    "hidden": true
   },
   "outputs": [],
   "source": []
  },
  {
   "cell_type": "code",
   "execution_count": null,
   "id": "6369791f",
   "metadata": {
    "hidden": true
   },
   "outputs": [],
   "source": []
  },
  {
   "cell_type": "code",
   "execution_count": 172,
   "id": "200e5347",
   "metadata": {
    "hidden": true
   },
   "outputs": [
    {
     "data": {
      "image/png": "[encoded data removed]",
      "text/plain": [
       "<Figure size 720x504 with 1 Axes>"
      ]
     },
     "metadata": {
      "needs_background": "light"
     },
     "output_type": "display_data"
    }
   ],
   "source": [
    "locations = df_copy[\"location\"].value_counts()\n",
    "plt.figure(figsize=(10,7))\n",
    "\n",
    "\n",
    "sns.barplot(y=locations[0:20].index, x=locations[0:20], orient='h')\n",
    "\n",
    "plt.title(\"Top 20 Locations\")\n",
    "plt.show()"
   ]
  },
  {
   "cell_type": "code",
   "execution_count": null,
   "id": "e282ac6c",
   "metadata": {
    "hidden": true
   },
   "outputs": [],
   "source": []
  },
  {
   "cell_type": "code",
   "execution_count": null,
   "id": "b1d5058f",
   "metadata": {
    "hidden": true
   },
   "outputs": [],
   "source": []
  },
  {
   "cell_type": "markdown",
   "id": "f6d17608",
   "metadata": {
    "heading_collapsed": true
   },
   "source": [
    "# Data preprocess"
   ]
  },
  {
   "cell_type": "markdown",
   "id": "a92fb898",
   "metadata": {
    "hidden": true
   },
   "source": [
    "## Clean data"
   ]
  },
  {
   "cell_type": "code",
   "execution_count": null,
   "id": "dbf8ab06",
   "metadata": {
    "hidden": true
   },
   "outputs": [],
   "source": [
    "# approche de base : on se concentre sur les commentaires uniquement\n",
    "df.drop(columns=['location', 'id', 'keyword'], inplace=True)"
   ]
  },
  {
   "cell_type": "code",
   "execution_count": 13,
   "id": "d2fb68b4",
   "metadata": {
    "hidden": true
   },
   "outputs": [],
   "source": [
    "def clean_data(text, remove_punctuations=False, lower_case=False,remove_numb=False, remove_symbol=False):\n",
    "    for index, sentence in enumerate(text) : \n",
    "        if remove_punctuations == True :\n",
    "            for punctuation in string.punctuation:\n",
    "                sentence = sentence.replace(punctuation, '')\n",
    "        if lower_case == True :\n",
    "            sentence = sentence.lower()\n",
    "        if remove_numb == True :\n",
    "            sentence = ''.join(word for word in sentence if not word.isdigit())\n",
    "        if remove_symbol == True :\n",
    "            sentence = ''.join(char if char not in ['#', '@', \"&\", \"\\(\", \"\\)\", \"_\", \"$\", \"£\", \"%\", \"/\", \"\\\\\"] else ' ' for char in sentence)\n",
    "        text[index] = sentence\n",
    "    return text"
   ]
  },
  {
   "cell_type": "code",
   "execution_count": 452,
   "id": "2a73b42c",
   "metadata": {
    "hidden": true
   },
   "outputs": [
    {
     "name": "stderr",
     "output_type": "stream",
     "text": [
      "/var/folders/rm/v4zjj0453jl2v5pmlsvnhgnc0000gn/T/ipykernel_41468/2174276971.py:12: SettingWithCopyWarning: \n",
      "A value is trying to be set on a copy of a slice from a DataFrame\n",
      "\n",
      "See the caveats in the documentation: https://pandas.pydata.org/pandas-docs/stable/user_guide/indexing.html#returning-a-view-versus-a-copy\n",
      "  text[index] = sentence\n"
     ]
    }
   ],
   "source": [
    "df['text'] = clean_data(df['text'], remove_punctuations=True, lower_case=True,remove_numb=True, remove_symbol=True)"
   ]
  },
  {
   "cell_type": "code",
   "execution_count": 453,
   "id": "ee2bbb2d",
   "metadata": {
    "hidden": true
   },
   "outputs": [
    {
     "name": "stderr",
     "output_type": "stream",
     "text": [
      "/var/folders/rm/v4zjj0453jl2v5pmlsvnhgnc0000gn/T/ipykernel_41468/1419358768.py:3: SettingWithCopyWarning: \n",
      "A value is trying to be set on a copy of a slice from a DataFrame\n",
      "\n",
      "See the caveats in the documentation: https://pandas.pydata.org/pandas-docs/stable/user_guide/indexing.html#returning-a-view-versus-a-copy\n",
      "  df['text'][index] = word_tokenize(df['text'][index])\n",
      "/var/folders/rm/v4zjj0453jl2v5pmlsvnhgnc0000gn/T/ipykernel_41468/1419358768.py:4: SettingWithCopyWarning: \n",
      "A value is trying to be set on a copy of a slice from a DataFrame\n",
      "\n",
      "See the caveats in the documentation: https://pandas.pydata.org/pandas-docs/stable/user_guide/indexing.html#returning-a-view-versus-a-copy\n",
      "  df['text'][index] = [t for t in df['text'][index] if t not in stop_words]\n"
     ]
    },
    {
     "data": {
      "text/html": [
       "<div>\n",
       "<style scoped>\n",
       "    .dataframe tbody tr th:only-of-type {\n",
       "        vertical-align: middle;\n",
       "    }\n",
       "\n",
       "    .dataframe tbody tr th {\n",
       "        vertical-align: top;\n",
       "    }\n",
       "\n",
       "    .dataframe thead th {\n",
       "        text-align: right;\n",
       "    }\n",
       "</style>\n",
       "<table border=\"1\" class=\"dataframe\">\n",
       "  <thead>\n",
       "    <tr style=\"text-align: right;\">\n",
       "      <th></th>\n",
       "      <th>text</th>\n",
       "      <th>target</th>\n",
       "    </tr>\n",
       "  </thead>\n",
       "  <tbody>\n",
       "    <tr>\n",
       "      <th>0</th>\n",
       "      <td>[deeds, reason, earthquake, may, allah, forgiv...</td>\n",
       "      <td>1</td>\n",
       "    </tr>\n",
       "    <tr>\n",
       "      <th>1</th>\n",
       "      <td>[forest, fire, near, la, ronge, sask, canada]</td>\n",
       "      <td>1</td>\n",
       "    </tr>\n",
       "    <tr>\n",
       "      <th>2</th>\n",
       "      <td>[residents, asked, shelter, place, notified, o...</td>\n",
       "      <td>1</td>\n",
       "    </tr>\n",
       "    <tr>\n",
       "      <th>3</th>\n",
       "      <td>[people, receive, wildfires, evacuation, order...</td>\n",
       "      <td>1</td>\n",
       "    </tr>\n",
       "    <tr>\n",
       "      <th>4</th>\n",
       "      <td>[got, sent, photo, ruby, alaska, smoke, wildfi...</td>\n",
       "      <td>1</td>\n",
       "    </tr>\n",
       "  </tbody>\n",
       "</table>\n",
       "</div>"
      ],
      "text/plain": [
       "                                                text  target\n",
       "0  [deeds, reason, earthquake, may, allah, forgiv...       1\n",
       "1      [forest, fire, near, la, ronge, sask, canada]       1\n",
       "2  [residents, asked, shelter, place, notified, o...       1\n",
       "3  [people, receive, wildfires, evacuation, order...       1\n",
       "4  [got, sent, photo, ruby, alaska, smoke, wildfi...       1"
      ]
     },
     "execution_count": 453,
     "metadata": {},
     "output_type": "execute_result"
    }
   ],
   "source": [
    "stop_words = set(stopwords.words('english'))\n",
    "for index, com in enumerate(df['text']) :\n",
    "    df['text'][index] = word_tokenize(df['text'][index])\n",
    "    df['text'][index] = [t for t in df['text'][index] if t not in stop_words]\n",
    "    \n",
    "df.head()"
   ]
  },
  {
   "cell_type": "code",
   "execution_count": 454,
   "id": "0d944980",
   "metadata": {
    "hidden": true
   },
   "outputs": [
    {
     "name": "stderr",
     "output_type": "stream",
     "text": [
      "/var/folders/rm/v4zjj0453jl2v5pmlsvnhgnc0000gn/T/ipykernel_41468/1521806483.py:4: SettingWithCopyWarning: \n",
      "A value is trying to be set on a copy of a slice from a DataFrame\n",
      "\n",
      "See the caveats in the documentation: https://pandas.pydata.org/pandas-docs/stable/user_guide/indexing.html#returning-a-view-versus-a-copy\n",
      "  df['text'][index] = [lemmatizer.lemmatize(word) for word in df['text'][index]]\n"
     ]
    }
   ],
   "source": [
    "lemmatizer = WordNetLemmatizer()\n",
    "for index, com in enumerate(df['text']) :\n",
    "    df['text'][index] = [lemmatizer.lemmatize(word) for word in df['text'][index]]"
   ]
  },
  {
   "cell_type": "code",
   "execution_count": 455,
   "id": "98f2e90e",
   "metadata": {
    "hidden": true
   },
   "outputs": [
    {
     "data": {
      "text/plain": [
       "0       [deed, reason, earthquake, may, allah, forgive...\n",
       "1           [forest, fire, near, la, ronge, sask, canada]\n",
       "2       [resident, asked, shelter, place, notified, of...\n",
       "3       [people, receive, wildfire, evacuation, order,...\n",
       "4       [got, sent, photo, ruby, alaska, smoke, wildfi...\n",
       "                              ...                        \n",
       "7608    [two, giant, crane, holding, bridge, collapse,...\n",
       "7609    [ariaahrary, thetawniest, control, wild, fire,...\n",
       "7610           [utckm, volcano, hawaii, httptcozdtoydebj]\n",
       "7611    [police, investigating, ebike, collided, car, ...\n",
       "7612    [latest, home, razed, northern, california, wi...\n",
       "Name: text, Length: 7613, dtype: object"
      ]
     },
     "execution_count": 455,
     "metadata": {},
     "output_type": "execute_result"
    }
   ],
   "source": [
    "df['text']"
   ]
  },
  {
   "cell_type": "markdown",
   "id": "7b9d4e8d",
   "metadata": {
    "hidden": true
   },
   "source": [
    "## Vocab Size"
   ]
  },
  {
   "cell_type": "code",
   "execution_count": 456,
   "id": "28d4de12",
   "metadata": {
    "hidden": true
   },
   "outputs": [],
   "source": [
    "list_all_words = []\n",
    "for sentence in df['text'] :\n",
    "    for word in sentence :\n",
    "        list_all_words.append(word)"
   ]
  },
  {
   "cell_type": "code",
   "execution_count": 457,
   "id": "d58ffd86",
   "metadata": {
    "hidden": true
   },
   "outputs": [
    {
     "data": {
      "text/plain": [
       "20395"
      ]
     },
     "execution_count": 457,
     "metadata": {},
     "output_type": "execute_result"
    }
   ],
   "source": [
    "vocab_size = len(set(list_all_words))\n",
    "vocab_size"
   ]
  },
  {
   "cell_type": "code",
   "execution_count": 458,
   "id": "b8125793",
   "metadata": {
    "hidden": true
   },
   "outputs": [
    {
     "name": "stderr",
     "output_type": "stream",
     "text": [
      "/var/folders/rm/v4zjj0453jl2v5pmlsvnhgnc0000gn/T/ipykernel_41468/3410932662.py:2: SettingWithCopyWarning: \n",
      "A value is trying to be set on a copy of a slice from a DataFrame\n",
      "\n",
      "See the caveats in the documentation: https://pandas.pydata.org/pandas-docs/stable/user_guide/indexing.html#returning-a-view-versus-a-copy\n",
      "  df['text'][index] = ' '.join(df['text'][index])\n"
     ]
    }
   ],
   "source": [
    "# je passe les listes de mots en string\n",
    "for index, com in enumerate(df['text']) :\n",
    "    df['text'][index] = ' '.join(df['text'][index])   "
   ]
  },
  {
   "cell_type": "code",
   "execution_count": 459,
   "id": "02a2391b",
   "metadata": {
    "hidden": true
   },
   "outputs": [
    {
     "data": {
      "text/plain": [
       "0              deed reason earthquake may allah forgive u\n",
       "1                   forest fire near la ronge sask canada\n",
       "2       resident asked shelter place notified officer ...\n",
       "3       people receive wildfire evacuation order calif...\n",
       "4       got sent photo ruby alaska smoke wildfire pour...\n",
       "                              ...                        \n",
       "7608    two giant crane holding bridge collapse nearby...\n",
       "7609    ariaahrary thetawniest control wild fire calif...\n",
       "7610                utckm volcano hawaii httptcozdtoydebj\n",
       "7611    police investigating ebike collided car little...\n",
       "7612    latest home razed northern california wildfire...\n",
       "Name: text, Length: 7613, dtype: object"
      ]
     },
     "execution_count": 459,
     "metadata": {},
     "output_type": "execute_result"
    }
   ],
   "source": [
    "df['text']"
   ]
  },
  {
   "cell_type": "code",
   "execution_count": 460,
   "id": "f408e80b",
   "metadata": {
    "hidden": true
   },
   "outputs": [
    {
     "data": {
      "text/html": [
       "<div>\n",
       "<style scoped>\n",
       "    .dataframe tbody tr th:only-of-type {\n",
       "        vertical-align: middle;\n",
       "    }\n",
       "\n",
       "    .dataframe tbody tr th {\n",
       "        vertical-align: top;\n",
       "    }\n",
       "\n",
       "    .dataframe thead th {\n",
       "        text-align: right;\n",
       "    }\n",
       "</style>\n",
       "<table border=\"1\" class=\"dataframe\">\n",
       "  <thead>\n",
       "    <tr style=\"text-align: right;\">\n",
       "      <th></th>\n",
       "      <th>text</th>\n",
       "      <th>target</th>\n",
       "    </tr>\n",
       "  </thead>\n",
       "  <tbody>\n",
       "    <tr>\n",
       "      <th>0</th>\n",
       "      <td>deed reason earthquake may allah forgive u</td>\n",
       "      <td>1</td>\n",
       "    </tr>\n",
       "    <tr>\n",
       "      <th>1</th>\n",
       "      <td>forest fire near la ronge sask canada</td>\n",
       "      <td>1</td>\n",
       "    </tr>\n",
       "    <tr>\n",
       "      <th>2</th>\n",
       "      <td>resident asked shelter place notified officer ...</td>\n",
       "      <td>1</td>\n",
       "    </tr>\n",
       "    <tr>\n",
       "      <th>3</th>\n",
       "      <td>people receive wildfire evacuation order calif...</td>\n",
       "      <td>1</td>\n",
       "    </tr>\n",
       "    <tr>\n",
       "      <th>4</th>\n",
       "      <td>got sent photo ruby alaska smoke wildfire pour...</td>\n",
       "      <td>1</td>\n",
       "    </tr>\n",
       "    <tr>\n",
       "      <th>...</th>\n",
       "      <td>...</td>\n",
       "      <td>...</td>\n",
       "    </tr>\n",
       "    <tr>\n",
       "      <th>7608</th>\n",
       "      <td>two giant crane holding bridge collapse nearby...</td>\n",
       "      <td>1</td>\n",
       "    </tr>\n",
       "    <tr>\n",
       "      <th>7609</th>\n",
       "      <td>ariaahrary thetawniest control wild fire calif...</td>\n",
       "      <td>1</td>\n",
       "    </tr>\n",
       "    <tr>\n",
       "      <th>7610</th>\n",
       "      <td>utckm volcano hawaii httptcozdtoydebj</td>\n",
       "      <td>1</td>\n",
       "    </tr>\n",
       "    <tr>\n",
       "      <th>7611</th>\n",
       "      <td>police investigating ebike collided car little...</td>\n",
       "      <td>1</td>\n",
       "    </tr>\n",
       "    <tr>\n",
       "      <th>7612</th>\n",
       "      <td>latest home razed northern california wildfire...</td>\n",
       "      <td>1</td>\n",
       "    </tr>\n",
       "  </tbody>\n",
       "</table>\n",
       "<p>7613 rows × 2 columns</p>\n",
       "</div>"
      ],
      "text/plain": [
       "                                                   text  target\n",
       "0            deed reason earthquake may allah forgive u       1\n",
       "1                 forest fire near la ronge sask canada       1\n",
       "2     resident asked shelter place notified officer ...       1\n",
       "3     people receive wildfire evacuation order calif...       1\n",
       "4     got sent photo ruby alaska smoke wildfire pour...       1\n",
       "...                                                 ...     ...\n",
       "7608  two giant crane holding bridge collapse nearby...       1\n",
       "7609  ariaahrary thetawniest control wild fire calif...       1\n",
       "7610              utckm volcano hawaii httptcozdtoydebj       1\n",
       "7611  police investigating ebike collided car little...       1\n",
       "7612  latest home razed northern california wildfire...       1\n",
       "\n",
       "[7613 rows x 2 columns]"
      ]
     },
     "execution_count": 460,
     "metadata": {},
     "output_type": "execute_result"
    }
   ],
   "source": [
    "# je fais une copie pour une autre approche\n",
    "df_copy_word2vec = df.copy()\n",
    "df_copy_word2vec"
   ]
  },
  {
   "cell_type": "code",
   "execution_count": 461,
   "id": "d3c5e649",
   "metadata": {
    "hidden": true
   },
   "outputs": [],
   "source": [
    "# je transform les mots en int\n",
    "tk = Tokenizer()\n",
    "tk.fit_on_texts(df['text'])\n",
    "df['text'] = tk.texts_to_sequences(df['text'])\n"
   ]
  },
  {
   "cell_type": "code",
   "execution_count": 462,
   "id": "2e895700",
   "metadata": {
    "hidden": true
   },
   "outputs": [
    {
     "data": {
      "text/plain": [
       "0                     [4018, 452, 156, 69, 1399, 4019, 6]\n",
       "1                    [107, 1, 149, 504, 5984, 5985, 1067]\n",
       "2       [1530, 1400, 1879, 453, 5986, 319, 162, 1879, ...\n",
       "3                            [10, 4020, 76, 162, 361, 32]\n",
       "4          [31, 1068, 111, 5987, 1692, 187, 76, 5988, 97]\n",
       "                              ...                        \n",
       "7608        [55, 692, 1047, 940, 255, 83, 563, 22, 20394]\n",
       "7609    [5959, 5960, 715, 214, 1, 32, 92, 116, 294, 12...\n",
       "7610                              [3755, 446, 1388, 5954]\n",
       "7611    [21, 991, 2838, 259, 43, 195, 4704, 2838, 1701...\n",
       "7612          [131, 22, 451, 116, 32, 76, 522, 11, 20395]\n",
       "Name: text, Length: 7613, dtype: object"
      ]
     },
     "execution_count": 462,
     "metadata": {},
     "output_type": "execute_result"
    }
   ],
   "source": [
    "X = df['text']\n",
    "X"
   ]
  },
  {
   "cell_type": "code",
   "execution_count": 463,
   "id": "5dcff6e6",
   "metadata": {
    "hidden": true
   },
   "outputs": [
    {
     "data": {
      "text/plain": [
       "array([[4.018e+03, 4.520e+02, 1.560e+02, ..., 0.000e+00, 0.000e+00,\n",
       "        0.000e+00],\n",
       "       [1.070e+02, 1.000e+00, 1.490e+02, ..., 0.000e+00, 0.000e+00,\n",
       "        0.000e+00],\n",
       "       [1.530e+03, 1.400e+03, 1.879e+03, ..., 0.000e+00, 0.000e+00,\n",
       "        0.000e+00],\n",
       "       ...,\n",
       "       [3.755e+03, 4.460e+02, 1.388e+03, ..., 0.000e+00, 0.000e+00,\n",
       "        0.000e+00],\n",
       "       [2.100e+01, 9.910e+02, 2.838e+03, ..., 0.000e+00, 0.000e+00,\n",
       "        0.000e+00],\n",
       "       [1.310e+02, 2.200e+01, 4.510e+02, ..., 0.000e+00, 0.000e+00,\n",
       "        0.000e+00]], dtype=float32)"
      ]
     },
     "execution_count": 463,
     "metadata": {},
     "output_type": "execute_result"
    }
   ],
   "source": [
    "# je pad\n",
    "X_pad = pad_sequences(X, dtype='float32', padding='post')\n",
    "X_pad"
   ]
  },
  {
   "cell_type": "code",
   "execution_count": 464,
   "id": "c4a1369d",
   "metadata": {
    "hidden": true
   },
   "outputs": [
    {
     "data": {
      "text/plain": [
       "23"
      ]
     },
     "execution_count": 464,
     "metadata": {},
     "output_type": "execute_result"
    }
   ],
   "source": [
    "# calcul sequence max\n",
    "Max_sentence_length = max([len(com) for com in X_pad])\n",
    "Max_sentence_length"
   ]
  },
  {
   "cell_type": "code",
   "execution_count": 465,
   "id": "f1b78cc9",
   "metadata": {
    "hidden": true
   },
   "outputs": [],
   "source": [
    "# spit data\n",
    "X_pad_train = X_pad[:5000]\n",
    "X_pad_test = X_pad[5000:]\n",
    "y_train = df['target'][:5000]\n",
    "y_test = df['target'][5000:]"
   ]
  },
  {
   "cell_type": "markdown",
   "id": "4e4eec62",
   "metadata": {
    "heading_collapsed": true
   },
   "source": [
    "# Model personnal embedding"
   ]
  },
  {
   "cell_type": "code",
   "execution_count": 498,
   "id": "6699d593",
   "metadata": {
    "hidden": true
   },
   "outputs": [
    {
     "name": "stdout",
     "output_type": "stream",
     "text": [
      "Model: \"sequential_29\"\n",
      "_________________________________________________________________\n",
      "Layer (type)                 Output Shape              Param #   \n",
      "=================================================================\n",
      "embedding_18 (Embedding)     (None, 23, 100)           2039600   \n",
      "_________________________________________________________________\n",
      "lstm_29 (LSTM)               (None, 500)               1202000   \n",
      "_________________________________________________________________\n",
      "dense_38 (Dense)             (None, 1)                 501       \n",
      "=================================================================\n",
      "Total params: 3,242,101\n",
      "Trainable params: 3,242,101\n",
      "Non-trainable params: 0\n",
      "_________________________________________________________________\n"
     ]
    }
   ],
   "source": [
    "#Embedding(input_dim=vocab_size, output_dim=emb_dim, mask_zero=True)\n",
    "from tensorflow.keras import layers, Sequential\n",
    "# Size of your embedding space = size to represent each word\n",
    "embedding_size = 100\n",
    "model = Sequential()\n",
    "model.add(layers.Embedding(input_dim=vocab_size+1,\n",
    "input_length=Max_sentence_length, \n",
    "output_dim=embedding_size,\n",
    "mask_zero=True))\n",
    "model.add(layers.LSTM(500))\n",
    "model.add(layers.Dense(1, activation=\"sigmoid\"))\n",
    "model.summary()"
   ]
  },
  {
   "cell_type": "code",
   "execution_count": 520,
   "id": "6556c598",
   "metadata": {
    "hidden": true
   },
   "outputs": [
    {
     "name": "stdout",
     "output_type": "stream",
     "text": [
      "Epoch 1/20\n"
     ]
    },
    {
     "name": "stderr",
     "output_type": "stream",
     "text": [
      "/Users/maximedupouy/.pyenv/versions/3.8.6/envs/lewagon/lib/python3.8/site-packages/tensorflow/python/keras/backend.py:5016: UserWarning: \"`binary_crossentropy` received `from_logits=True`, but the `output` argument was produced by a sigmoid or softmax activation and thus does not represent logits. Was this intended?\"\n",
      "  warnings.warn(\n"
     ]
    },
    {
     "name": "stdout",
     "output_type": "stream",
     "text": [
      "219/219 [==============================] - 14s 54ms/step - loss: 0.3475 - accuracy: 0.8657 - recall: 0.7747 - val_loss: 0.5993 - val_accuracy: 0.7040 - val_recall: 0.6652\n",
      "Epoch 2/20\n",
      "219/219 [==============================] - 11s 52ms/step - loss: 0.2476 - accuracy: 0.9126 - recall: 0.8510 - val_loss: 0.6158 - val_accuracy: 0.7013 - val_recall: 0.6608\n",
      "Epoch 3/20\n",
      "219/219 [==============================] - 11s 48ms/step - loss: 0.1669 - accuracy: 0.9431 - recall: 0.9082 - val_loss: 0.6761 - val_accuracy: 0.6860 - val_recall: 0.6416\n",
      "Epoch 4/20\n",
      "219/219 [==============================] - 11s 49ms/step - loss: 0.1162 - accuracy: 0.9620 - recall: 0.9357 - val_loss: 1.0804 - val_accuracy: 0.6227 - val_recall: 0.7581\n",
      "Epoch 5/20\n",
      "219/219 [==============================] - 11s 48ms/step - loss: 0.0845 - accuracy: 0.9737 - recall: 0.9605 - val_loss: 0.8568 - val_accuracy: 0.6433 - val_recall: 0.6962\n",
      "Epoch 6/20\n",
      "219/219 [==============================] - 11s 48ms/step - loss: 0.0615 - accuracy: 0.9843 - recall: 0.9753 - val_loss: 0.9888 - val_accuracy: 0.6327 - val_recall: 0.6224\n",
      "Epoch 7/20\n",
      "219/219 [==============================] - 11s 51ms/step - loss: 0.0530 - accuracy: 0.9863 - recall: 0.9795 - val_loss: 1.0094 - val_accuracy: 0.6240 - val_recall: 0.6799\n"
     ]
    },
    {
     "data": {
      "text/plain": [
       "<tensorflow.python.keras.callbacks.History at 0x1f8fb81f0>"
      ]
     },
     "execution_count": 520,
     "metadata": {},
     "output_type": "execute_result"
    }
   ],
   "source": [
    "from tensorflow.keras.callbacks import EarlyStopping\n",
    "from tensorflow.keras.losses import BinaryCrossentropy\n",
    "es = EarlyStopping(patience=6, restore_best_weights=True)\n",
    "loss=BinaryCrossentropy(from_logits=True) # default from_logits=False\n",
    "#metrics=[keras.metrics.BinaryAccuracy()]\n",
    "model.compile(loss=loss,\n",
    "              optimizer='rmsprop',\n",
    "              metrics=['accuracy', 'Recall'])\n",
    "model.fit(X_pad_train, y_train, epochs=20, batch_size=16, verbose=1, callbacks=[es], validation_split=0.3)"
   ]
  },
  {
   "cell_type": "code",
   "execution_count": 521,
   "id": "ddfc15ba",
   "metadata": {
    "hidden": true
   },
   "outputs": [
    {
     "name": "stdout",
     "output_type": "stream",
     "text": [
      "82/82 [==============================] - 2s 22ms/step - loss: 0.5177 - accuracy: 0.7386 - recall: 0.7383\n"
     ]
    },
    {
     "data": {
      "text/plain": [
       "[0.5177033543586731, 0.7386146187782288, 0.7383177280426025]"
      ]
     },
     "execution_count": 521,
     "metadata": {},
     "output_type": "execute_result"
    }
   ],
   "source": [
    "model.evaluate(X_pad_test, y_test)"
   ]
  },
  {
   "cell_type": "markdown",
   "id": "6b40df94",
   "metadata": {
    "heading_collapsed": true
   },
   "source": [
    "# challenge kaggle"
   ]
  },
  {
   "cell_type": "code",
   "execution_count": 652,
   "id": "d0ac7cc6",
   "metadata": {
    "hidden": true
   },
   "outputs": [
    {
     "data": {
      "text/html": [
       "<div>\n",
       "<style scoped>\n",
       "    .dataframe tbody tr th:only-of-type {\n",
       "        vertical-align: middle;\n",
       "    }\n",
       "\n",
       "    .dataframe tbody tr th {\n",
       "        vertical-align: top;\n",
       "    }\n",
       "\n",
       "    .dataframe thead th {\n",
       "        text-align: right;\n",
       "    }\n",
       "</style>\n",
       "<table border=\"1\" class=\"dataframe\">\n",
       "  <thead>\n",
       "    <tr style=\"text-align: right;\">\n",
       "      <th></th>\n",
       "      <th>id</th>\n",
       "      <th>keyword</th>\n",
       "      <th>location</th>\n",
       "      <th>text</th>\n",
       "    </tr>\n",
       "  </thead>\n",
       "  <tbody>\n",
       "    <tr>\n",
       "      <th>0</th>\n",
       "      <td>0</td>\n",
       "      <td>NaN</td>\n",
       "      <td>NaN</td>\n",
       "      <td>Just happened a terrible car crash</td>\n",
       "    </tr>\n",
       "    <tr>\n",
       "      <th>1</th>\n",
       "      <td>2</td>\n",
       "      <td>NaN</td>\n",
       "      <td>NaN</td>\n",
       "      <td>Heard about #earthquake is different cities, s...</td>\n",
       "    </tr>\n",
       "    <tr>\n",
       "      <th>2</th>\n",
       "      <td>3</td>\n",
       "      <td>NaN</td>\n",
       "      <td>NaN</td>\n",
       "      <td>there is a forest fire at spot pond, geese are...</td>\n",
       "    </tr>\n",
       "    <tr>\n",
       "      <th>3</th>\n",
       "      <td>9</td>\n",
       "      <td>NaN</td>\n",
       "      <td>NaN</td>\n",
       "      <td>Apocalypse lighting. #Spokane #wildfires</td>\n",
       "    </tr>\n",
       "    <tr>\n",
       "      <th>4</th>\n",
       "      <td>11</td>\n",
       "      <td>NaN</td>\n",
       "      <td>NaN</td>\n",
       "      <td>Typhoon Soudelor kills 28 in China and Taiwan</td>\n",
       "    </tr>\n",
       "  </tbody>\n",
       "</table>\n",
       "</div>"
      ],
      "text/plain": [
       "   id keyword location                                               text\n",
       "0   0     NaN      NaN                 Just happened a terrible car crash\n",
       "1   2     NaN      NaN  Heard about #earthquake is different cities, s...\n",
       "2   3     NaN      NaN  there is a forest fire at spot pond, geese are...\n",
       "3   9     NaN      NaN           Apocalypse lighting. #Spokane #wildfires\n",
       "4  11     NaN      NaN      Typhoon Soudelor kills 28 in China and Taiwan"
      ]
     },
     "execution_count": 652,
     "metadata": {},
     "output_type": "execute_result"
    }
   ],
   "source": [
    "path_test = '../data/test.csv'\n",
    "test_keras = pd.read_csv(path_test)\n",
    "test_keras.head()\n"
   ]
  },
  {
   "cell_type": "code",
   "execution_count": 653,
   "id": "406fb176",
   "metadata": {
    "hidden": true
   },
   "outputs": [
    {
     "data": {
      "text/html": [
       "<div>\n",
       "<style scoped>\n",
       "    .dataframe tbody tr th:only-of-type {\n",
       "        vertical-align: middle;\n",
       "    }\n",
       "\n",
       "    .dataframe tbody tr th {\n",
       "        vertical-align: top;\n",
       "    }\n",
       "\n",
       "    .dataframe thead th {\n",
       "        text-align: right;\n",
       "    }\n",
       "</style>\n",
       "<table border=\"1\" class=\"dataframe\">\n",
       "  <thead>\n",
       "    <tr style=\"text-align: right;\">\n",
       "      <th></th>\n",
       "      <th>id</th>\n",
       "      <th>keyword</th>\n",
       "      <th>location</th>\n",
       "      <th>text</th>\n",
       "    </tr>\n",
       "  </thead>\n",
       "  <tbody>\n",
       "    <tr>\n",
       "      <th>3258</th>\n",
       "      <td>10861</td>\n",
       "      <td>NaN</td>\n",
       "      <td>NaN</td>\n",
       "      <td>EARTHQUAKE SAFETY LOS ANGELES ÛÒ SAFETY FASTE...</td>\n",
       "    </tr>\n",
       "    <tr>\n",
       "      <th>3259</th>\n",
       "      <td>10865</td>\n",
       "      <td>NaN</td>\n",
       "      <td>NaN</td>\n",
       "      <td>Storm in RI worse than last hurricane. My city...</td>\n",
       "    </tr>\n",
       "    <tr>\n",
       "      <th>3260</th>\n",
       "      <td>10868</td>\n",
       "      <td>NaN</td>\n",
       "      <td>NaN</td>\n",
       "      <td>Green Line derailment in Chicago http://t.co/U...</td>\n",
       "    </tr>\n",
       "    <tr>\n",
       "      <th>3261</th>\n",
       "      <td>10874</td>\n",
       "      <td>NaN</td>\n",
       "      <td>NaN</td>\n",
       "      <td>MEG issues Hazardous Weather Outlook (HWO) htt...</td>\n",
       "    </tr>\n",
       "    <tr>\n",
       "      <th>3262</th>\n",
       "      <td>10875</td>\n",
       "      <td>NaN</td>\n",
       "      <td>NaN</td>\n",
       "      <td>#CityofCalgary has activated its Municipal Eme...</td>\n",
       "    </tr>\n",
       "  </tbody>\n",
       "</table>\n",
       "</div>"
      ],
      "text/plain": [
       "         id keyword location  \\\n",
       "3258  10861     NaN      NaN   \n",
       "3259  10865     NaN      NaN   \n",
       "3260  10868     NaN      NaN   \n",
       "3261  10874     NaN      NaN   \n",
       "3262  10875     NaN      NaN   \n",
       "\n",
       "                                                   text  \n",
       "3258  EARTHQUAKE SAFETY LOS ANGELES ÛÒ SAFETY FASTE...  \n",
       "3259  Storm in RI worse than last hurricane. My city...  \n",
       "3260  Green Line derailment in Chicago http://t.co/U...  \n",
       "3261  MEG issues Hazardous Weather Outlook (HWO) htt...  \n",
       "3262  #CityofCalgary has activated its Municipal Eme...  "
      ]
     },
     "execution_count": 653,
     "metadata": {},
     "output_type": "execute_result"
    }
   ],
   "source": [
    "test_keras.tail()"
   ]
  },
  {
   "cell_type": "code",
   "execution_count": null,
   "id": "9883cbec",
   "metadata": {
    "hidden": true
   },
   "outputs": [],
   "source": []
  },
  {
   "cell_type": "code",
   "execution_count": 642,
   "id": "31eeb3a4",
   "metadata": {
    "hidden": true
   },
   "outputs": [],
   "source": [
    "test_keras.drop(columns=['location', 'keyword'], inplace=True)"
   ]
  },
  {
   "cell_type": "code",
   "execution_count": 643,
   "id": "45ce61a0",
   "metadata": {
    "hidden": true
   },
   "outputs": [
    {
     "name": "stderr",
     "output_type": "stream",
     "text": [
      "/var/folders/rm/v4zjj0453jl2v5pmlsvnhgnc0000gn/T/ipykernel_41468/2174276971.py:12: SettingWithCopyWarning: \n",
      "A value is trying to be set on a copy of a slice from a DataFrame\n",
      "\n",
      "See the caveats in the documentation: https://pandas.pydata.org/pandas-docs/stable/user_guide/indexing.html#returning-a-view-versus-a-copy\n",
      "  text[index] = sentence\n"
     ]
    }
   ],
   "source": [
    "test_keras['text'] = clean_data(test_keras['text'], remove_punctuations=True, lower_case=True,remove_numb=True, remove_symbol=True)"
   ]
  },
  {
   "cell_type": "code",
   "execution_count": 644,
   "id": "064b0035",
   "metadata": {
    "hidden": true
   },
   "outputs": [
    {
     "name": "stderr",
     "output_type": "stream",
     "text": [
      "/var/folders/rm/v4zjj0453jl2v5pmlsvnhgnc0000gn/T/ipykernel_41468/2197476742.py:2: SettingWithCopyWarning: \n",
      "A value is trying to be set on a copy of a slice from a DataFrame\n",
      "\n",
      "See the caveats in the documentation: https://pandas.pydata.org/pandas-docs/stable/user_guide/indexing.html#returning-a-view-versus-a-copy\n",
      "  test_keras['text'][index] = word_tokenize(test_keras['text'][index])\n",
      "/var/folders/rm/v4zjj0453jl2v5pmlsvnhgnc0000gn/T/ipykernel_41468/2197476742.py:3: SettingWithCopyWarning: \n",
      "A value is trying to be set on a copy of a slice from a DataFrame\n",
      "\n",
      "See the caveats in the documentation: https://pandas.pydata.org/pandas-docs/stable/user_guide/indexing.html#returning-a-view-versus-a-copy\n",
      "  test_keras['text'][index] = [t for t in test_keras['text'][index] if t not in stop_words]\n"
     ]
    }
   ],
   "source": [
    "for index, com in enumerate(test_keras['text']) :\n",
    "    test_keras['text'][index] = word_tokenize(test_keras['text'][index])\n",
    "    test_keras['text'][index] = [t for t in test_keras['text'][index] if t not in stop_words]"
   ]
  },
  {
   "cell_type": "code",
   "execution_count": 645,
   "id": "8eb55b51",
   "metadata": {
    "hidden": true
   },
   "outputs": [
    {
     "name": "stderr",
     "output_type": "stream",
     "text": [
      "/var/folders/rm/v4zjj0453jl2v5pmlsvnhgnc0000gn/T/ipykernel_41468/2754747523.py:2: SettingWithCopyWarning: \n",
      "A value is trying to be set on a copy of a slice from a DataFrame\n",
      "\n",
      "See the caveats in the documentation: https://pandas.pydata.org/pandas-docs/stable/user_guide/indexing.html#returning-a-view-versus-a-copy\n",
      "  test_keras['text'][index] = [lemmatizer.lemmatize(word) for word in test_keras['text'][index]]\n"
     ]
    }
   ],
   "source": [
    "for index, com in enumerate(test_keras['text']) :\n",
    "    test_keras['text'][index] = [lemmatizer.lemmatize(word) for word in test_keras['text'][index]]"
   ]
  },
  {
   "cell_type": "code",
   "execution_count": 646,
   "id": "ba3de2af",
   "metadata": {
    "hidden": true
   },
   "outputs": [
    {
     "name": "stderr",
     "output_type": "stream",
     "text": [
      "/var/folders/rm/v4zjj0453jl2v5pmlsvnhgnc0000gn/T/ipykernel_41468/2163400442.py:2: SettingWithCopyWarning: \n",
      "A value is trying to be set on a copy of a slice from a DataFrame\n",
      "\n",
      "See the caveats in the documentation: https://pandas.pydata.org/pandas-docs/stable/user_guide/indexing.html#returning-a-view-versus-a-copy\n",
      "  test_keras['text'][index] = ' '.join(test_keras['text'][index])\n"
     ]
    }
   ],
   "source": [
    "for index, com in enumerate(test_keras['text']) :\n",
    "    test_keras['text'][index] = ' '.join(test_keras['text'][index])   "
   ]
  },
  {
   "cell_type": "code",
   "execution_count": 647,
   "id": "641120f6",
   "metadata": {
    "hidden": true
   },
   "outputs": [],
   "source": [
    "#tk.fit_on_texts(df['text'])\n",
    "test_keras['text'] = tk.texts_to_sequences(test_keras['text'])"
   ]
  },
  {
   "cell_type": "code",
   "execution_count": 648,
   "id": "431065d6",
   "metadata": {
    "hidden": true
   },
   "outputs": [],
   "source": [
    "X_kaggle_test = test_keras['text']\n",
    "X_kaggle_test_pad = pad_sequences(X_kaggle_test, dtype='float32', padding='post', maxlen=23)"
   ]
  },
  {
   "cell_type": "code",
   "execution_count": null,
   "id": "3091867c",
   "metadata": {
    "hidden": true
   },
   "outputs": [],
   "source": []
  },
  {
   "cell_type": "code",
   "execution_count": 649,
   "id": "d765a9f3",
   "metadata": {
    "hidden": true
   },
   "outputs": [
    {
     "data": {
      "text/plain": [
       "3263"
      ]
     },
     "execution_count": 649,
     "metadata": {},
     "output_type": "execute_result"
    }
   ],
   "source": [
    "res_test = model.predict(X_kaggle_test_pad)\n",
    "len(res_test)"
   ]
  },
  {
   "cell_type": "code",
   "execution_count": 650,
   "id": "a7e430b1",
   "metadata": {
    "hidden": true
   },
   "outputs": [
    {
     "data": {
      "text/plain": [
       "3263"
      ]
     },
     "execution_count": 650,
     "metadata": {},
     "output_type": "execute_result"
    }
   ],
   "source": [
    "res_binary = []\n",
    "for num in res_test : \n",
    "    if num< 0.5:\n",
    "        res_binary.append(0)\n",
    "    else :\n",
    "        res_binary.append(1)\n",
    "len(res_binary)"
   ]
  },
  {
   "cell_type": "code",
   "execution_count": 654,
   "id": "32a5f32a",
   "metadata": {
    "hidden": true
   },
   "outputs": [
    {
     "data": {
      "text/plain": [
       "(3263, 1)"
      ]
     },
     "execution_count": 654,
     "metadata": {},
     "output_type": "execute_result"
    }
   ],
   "source": [
    "res_test = pd.DataFrame(res_binary, columns=['target'])\n",
    "res_test.shape"
   ]
  },
  {
   "cell_type": "code",
   "execution_count": 656,
   "id": "247c9481",
   "metadata": {
    "hidden": true
   },
   "outputs": [
    {
     "data": {
      "text/html": [
       "<div>\n",
       "<style scoped>\n",
       "    .dataframe tbody tr th:only-of-type {\n",
       "        vertical-align: middle;\n",
       "    }\n",
       "\n",
       "    .dataframe tbody tr th {\n",
       "        vertical-align: top;\n",
       "    }\n",
       "\n",
       "    .dataframe thead th {\n",
       "        text-align: right;\n",
       "    }\n",
       "</style>\n",
       "<table border=\"1\" class=\"dataframe\">\n",
       "  <thead>\n",
       "    <tr style=\"text-align: right;\">\n",
       "      <th></th>\n",
       "      <th>id</th>\n",
       "      <th>target</th>\n",
       "    </tr>\n",
       "  </thead>\n",
       "  <tbody>\n",
       "    <tr>\n",
       "      <th>0</th>\n",
       "      <td>0</td>\n",
       "      <td>1</td>\n",
       "    </tr>\n",
       "    <tr>\n",
       "      <th>1</th>\n",
       "      <td>2</td>\n",
       "      <td>1</td>\n",
       "    </tr>\n",
       "    <tr>\n",
       "      <th>2</th>\n",
       "      <td>3</td>\n",
       "      <td>1</td>\n",
       "    </tr>\n",
       "    <tr>\n",
       "      <th>3</th>\n",
       "      <td>9</td>\n",
       "      <td>1</td>\n",
       "    </tr>\n",
       "    <tr>\n",
       "      <th>4</th>\n",
       "      <td>11</td>\n",
       "      <td>1</td>\n",
       "    </tr>\n",
       "    <tr>\n",
       "      <th>...</th>\n",
       "      <td>...</td>\n",
       "      <td>...</td>\n",
       "    </tr>\n",
       "    <tr>\n",
       "      <th>3258</th>\n",
       "      <td>10861</td>\n",
       "      <td>1</td>\n",
       "    </tr>\n",
       "    <tr>\n",
       "      <th>3259</th>\n",
       "      <td>10865</td>\n",
       "      <td>1</td>\n",
       "    </tr>\n",
       "    <tr>\n",
       "      <th>3260</th>\n",
       "      <td>10868</td>\n",
       "      <td>1</td>\n",
       "    </tr>\n",
       "    <tr>\n",
       "      <th>3261</th>\n",
       "      <td>10874</td>\n",
       "      <td>1</td>\n",
       "    </tr>\n",
       "    <tr>\n",
       "      <th>3262</th>\n",
       "      <td>10875</td>\n",
       "      <td>1</td>\n",
       "    </tr>\n",
       "  </tbody>\n",
       "</table>\n",
       "<p>3263 rows × 2 columns</p>\n",
       "</div>"
      ],
      "text/plain": [
       "         id  target\n",
       "0         0       1\n",
       "1         2       1\n",
       "2         3       1\n",
       "3         9       1\n",
       "4        11       1\n",
       "...     ...     ...\n",
       "3258  10861       1\n",
       "3259  10865       1\n",
       "3260  10868       1\n",
       "3261  10874       1\n",
       "3262  10875       1\n",
       "\n",
       "[3263 rows x 2 columns]"
      ]
     },
     "execution_count": 656,
     "metadata": {},
     "output_type": "execute_result"
    }
   ],
   "source": [
    "res_test['id']= test_keras['id']\n",
    "res_test = res_test[['id', 'target']]\n",
    "res_test\n",
    "#res_test[res_test['id']== 2275]"
   ]
  },
  {
   "cell_type": "code",
   "execution_count": 657,
   "id": "ccb5a435",
   "metadata": {
    "hidden": true
   },
   "outputs": [],
   "source": [
    "res_test.to_csv('challenge_kaggle.csv', index=False)"
   ]
  },
  {
   "cell_type": "markdown",
   "id": "67e3dec8",
   "metadata": {
    "heading_collapsed": true
   },
   "source": [
    "# Approche avec preprocess different :"
   ]
  },
  {
   "cell_type": "markdown",
   "id": "fc4a2b0a",
   "metadata": {
    "heading_collapsed": true,
    "hidden": true
   },
   "source": [
    "## preprocess_2"
   ]
  },
  {
   "cell_type": "markdown",
   "id": "c18e0888",
   "metadata": {
    "hidden": true
   },
   "source": [
    "Au lieu de supprimer et donc perdre les informations des colonnes keyword/location, je vais les ajouter au texte"
   ]
  },
  {
   "cell_type": "code",
   "execution_count": 825,
   "id": "1f82805e",
   "metadata": {
    "hidden": true
   },
   "outputs": [
    {
     "data": {
      "text/html": [
       "<div>\n",
       "<style scoped>\n",
       "    .dataframe tbody tr th:only-of-type {\n",
       "        vertical-align: middle;\n",
       "    }\n",
       "\n",
       "    .dataframe tbody tr th {\n",
       "        vertical-align: top;\n",
       "    }\n",
       "\n",
       "    .dataframe thead th {\n",
       "        text-align: right;\n",
       "    }\n",
       "</style>\n",
       "<table border=\"1\" class=\"dataframe\">\n",
       "  <thead>\n",
       "    <tr style=\"text-align: right;\">\n",
       "      <th></th>\n",
       "      <th>id</th>\n",
       "      <th>keyword</th>\n",
       "      <th>location</th>\n",
       "      <th>text</th>\n",
       "      <th>target</th>\n",
       "    </tr>\n",
       "  </thead>\n",
       "  <tbody>\n",
       "    <tr>\n",
       "      <th>0</th>\n",
       "      <td>1</td>\n",
       "      <td>NaN</td>\n",
       "      <td>NaN</td>\n",
       "      <td>Our Deeds are the Reason of this #earthquake M...</td>\n",
       "      <td>1</td>\n",
       "    </tr>\n",
       "    <tr>\n",
       "      <th>1</th>\n",
       "      <td>4</td>\n",
       "      <td>NaN</td>\n",
       "      <td>NaN</td>\n",
       "      <td>Forest fire near La Ronge Sask. Canada</td>\n",
       "      <td>1</td>\n",
       "    </tr>\n",
       "    <tr>\n",
       "      <th>2</th>\n",
       "      <td>5</td>\n",
       "      <td>NaN</td>\n",
       "      <td>NaN</td>\n",
       "      <td>All residents asked to 'shelter in place' are ...</td>\n",
       "      <td>1</td>\n",
       "    </tr>\n",
       "    <tr>\n",
       "      <th>3</th>\n",
       "      <td>6</td>\n",
       "      <td>NaN</td>\n",
       "      <td>NaN</td>\n",
       "      <td>13,000 people receive #wildfires evacuation or...</td>\n",
       "      <td>1</td>\n",
       "    </tr>\n",
       "    <tr>\n",
       "      <th>4</th>\n",
       "      <td>7</td>\n",
       "      <td>NaN</td>\n",
       "      <td>NaN</td>\n",
       "      <td>Just got sent this photo from Ruby #Alaska as ...</td>\n",
       "      <td>1</td>\n",
       "    </tr>\n",
       "  </tbody>\n",
       "</table>\n",
       "</div>"
      ],
      "text/plain": [
       "   id keyword location                                               text  \\\n",
       "0   1     NaN      NaN  Our Deeds are the Reason of this #earthquake M...   \n",
       "1   4     NaN      NaN             Forest fire near La Ronge Sask. Canada   \n",
       "2   5     NaN      NaN  All residents asked to 'shelter in place' are ...   \n",
       "3   6     NaN      NaN  13,000 people receive #wildfires evacuation or...   \n",
       "4   7     NaN      NaN  Just got sent this photo from Ruby #Alaska as ...   \n",
       "\n",
       "   target  \n",
       "0       1  \n",
       "1       1  \n",
       "2       1  \n",
       "3       1  \n",
       "4       1  "
      ]
     },
     "execution_count": 825,
     "metadata": {},
     "output_type": "execute_result"
    }
   ],
   "source": [
    "df_2 = data.copy()\n",
    "df_2.head()"
   ]
  },
  {
   "cell_type": "code",
   "execution_count": 826,
   "id": "03013736",
   "metadata": {
    "hidden": true
   },
   "outputs": [],
   "source": [
    "df_2['keyword'] = df_2['keyword'].replace(np.nan, '')\n",
    "df_2['location'] = df_2['location'].replace(np.nan, '')"
   ]
  },
  {
   "cell_type": "code",
   "execution_count": 827,
   "id": "3b6a324d",
   "metadata": {
    "hidden": true
   },
   "outputs": [],
   "source": [
    "df_2['text'] = df_2['text'].astype('str') +' '+ df_2['keyword'].astype('str')\n",
    "df_2['text'] = df_2['text'].astype('str') +' '+ df_2['location'].astype('str')"
   ]
  },
  {
   "cell_type": "code",
   "execution_count": 828,
   "id": "58764f6e",
   "metadata": {
    "hidden": true
   },
   "outputs": [
    {
     "data": {
      "text/plain": [
       "'Our Deeds are the Reason of this #earthquake May ALLAH Forgive us all  '"
      ]
     },
     "execution_count": 828,
     "metadata": {},
     "output_type": "execute_result"
    }
   ],
   "source": [
    "df_2['text'][0]"
   ]
  },
  {
   "cell_type": "code",
   "execution_count": 829,
   "id": "6df86709",
   "metadata": {
    "hidden": true
   },
   "outputs": [
    {
     "data": {
      "text/plain": [
       "'We always try to bring the heavy. #metal #RT http://t.co/YAo1e0xngw ablaze Est. September 2012 - Bristol'"
      ]
     },
     "execution_count": 829,
     "metadata": {},
     "output_type": "execute_result"
    }
   ],
   "source": [
    "df_2['text'][32]"
   ]
  },
  {
   "cell_type": "code",
   "execution_count": 830,
   "id": "decdcaaa",
   "metadata": {
    "hidden": true
   },
   "outputs": [
    {
     "name": "stderr",
     "output_type": "stream",
     "text": [
      "/var/folders/rm/v4zjj0453jl2v5pmlsvnhgnc0000gn/T/ipykernel_41468/2174276971.py:12: SettingWithCopyWarning: \n",
      "A value is trying to be set on a copy of a slice from a DataFrame\n",
      "\n",
      "See the caveats in the documentation: https://pandas.pydata.org/pandas-docs/stable/user_guide/indexing.html#returning-a-view-versus-a-copy\n",
      "  text[index] = sentence\n"
     ]
    }
   ],
   "source": [
    "df_2['text'] = clean_data(df_2['text'], remove_punctuations=True, lower_case=True,remove_numb=True, remove_symbol=True)"
   ]
  },
  {
   "cell_type": "code",
   "execution_count": 831,
   "id": "6030afc1",
   "metadata": {
    "hidden": true
   },
   "outputs": [
    {
     "name": "stderr",
     "output_type": "stream",
     "text": [
      "/var/folders/rm/v4zjj0453jl2v5pmlsvnhgnc0000gn/T/ipykernel_41468/1174684775.py:3: SettingWithCopyWarning: \n",
      "A value is trying to be set on a copy of a slice from a DataFrame\n",
      "\n",
      "See the caveats in the documentation: https://pandas.pydata.org/pandas-docs/stable/user_guide/indexing.html#returning-a-view-versus-a-copy\n",
      "  df_2['text'][index] = word_tokenize(df_2['text'][index])\n",
      "/var/folders/rm/v4zjj0453jl2v5pmlsvnhgnc0000gn/T/ipykernel_41468/1174684775.py:4: SettingWithCopyWarning: \n",
      "A value is trying to be set on a copy of a slice from a DataFrame\n",
      "\n",
      "See the caveats in the documentation: https://pandas.pydata.org/pandas-docs/stable/user_guide/indexing.html#returning-a-view-versus-a-copy\n",
      "  df_2['text'][index] = [t for t in df_2['text'][index] if t not in stop_words]\n"
     ]
    },
    {
     "data": {
      "text/html": [
       "<div>\n",
       "<style scoped>\n",
       "    .dataframe tbody tr th:only-of-type {\n",
       "        vertical-align: middle;\n",
       "    }\n",
       "\n",
       "    .dataframe tbody tr th {\n",
       "        vertical-align: top;\n",
       "    }\n",
       "\n",
       "    .dataframe thead th {\n",
       "        text-align: right;\n",
       "    }\n",
       "</style>\n",
       "<table border=\"1\" class=\"dataframe\">\n",
       "  <thead>\n",
       "    <tr style=\"text-align: right;\">\n",
       "      <th></th>\n",
       "      <th>id</th>\n",
       "      <th>keyword</th>\n",
       "      <th>location</th>\n",
       "      <th>text</th>\n",
       "      <th>target</th>\n",
       "    </tr>\n",
       "  </thead>\n",
       "  <tbody>\n",
       "    <tr>\n",
       "      <th>0</th>\n",
       "      <td>1</td>\n",
       "      <td></td>\n",
       "      <td></td>\n",
       "      <td>[deeds, reason, earthquake, may, allah, forgiv...</td>\n",
       "      <td>1</td>\n",
       "    </tr>\n",
       "    <tr>\n",
       "      <th>1</th>\n",
       "      <td>4</td>\n",
       "      <td></td>\n",
       "      <td></td>\n",
       "      <td>[forest, fire, near, la, ronge, sask, canada]</td>\n",
       "      <td>1</td>\n",
       "    </tr>\n",
       "    <tr>\n",
       "      <th>2</th>\n",
       "      <td>5</td>\n",
       "      <td></td>\n",
       "      <td></td>\n",
       "      <td>[residents, asked, shelter, place, notified, o...</td>\n",
       "      <td>1</td>\n",
       "    </tr>\n",
       "    <tr>\n",
       "      <th>3</th>\n",
       "      <td>6</td>\n",
       "      <td></td>\n",
       "      <td></td>\n",
       "      <td>[people, receive, wildfires, evacuation, order...</td>\n",
       "      <td>1</td>\n",
       "    </tr>\n",
       "    <tr>\n",
       "      <th>4</th>\n",
       "      <td>7</td>\n",
       "      <td></td>\n",
       "      <td></td>\n",
       "      <td>[got, sent, photo, ruby, alaska, smoke, wildfi...</td>\n",
       "      <td>1</td>\n",
       "    </tr>\n",
       "  </tbody>\n",
       "</table>\n",
       "</div>"
      ],
      "text/plain": [
       "   id keyword location                                               text  \\\n",
       "0   1                   [deeds, reason, earthquake, may, allah, forgiv...   \n",
       "1   4                       [forest, fire, near, la, ronge, sask, canada]   \n",
       "2   5                   [residents, asked, shelter, place, notified, o...   \n",
       "3   6                   [people, receive, wildfires, evacuation, order...   \n",
       "4   7                   [got, sent, photo, ruby, alaska, smoke, wildfi...   \n",
       "\n",
       "   target  \n",
       "0       1  \n",
       "1       1  \n",
       "2       1  \n",
       "3       1  \n",
       "4       1  "
      ]
     },
     "execution_count": 831,
     "metadata": {},
     "output_type": "execute_result"
    }
   ],
   "source": [
    "stop_words = set(stopwords.words('english'))\n",
    "for index, com in enumerate(df_2['text']) :\n",
    "    df_2['text'][index] = word_tokenize(df_2['text'][index])\n",
    "    df_2['text'][index] = [t for t in df_2['text'][index] if t not in stop_words]\n",
    "    \n",
    "df_2.head()"
   ]
  },
  {
   "cell_type": "code",
   "execution_count": 832,
   "id": "2d4d9a7d",
   "metadata": {
    "hidden": true
   },
   "outputs": [
    {
     "name": "stderr",
     "output_type": "stream",
     "text": [
      "/var/folders/rm/v4zjj0453jl2v5pmlsvnhgnc0000gn/T/ipykernel_41468/2459288223.py:3: SettingWithCopyWarning: \n",
      "A value is trying to be set on a copy of a slice from a DataFrame\n",
      "\n",
      "See the caveats in the documentation: https://pandas.pydata.org/pandas-docs/stable/user_guide/indexing.html#returning-a-view-versus-a-copy\n",
      "  df_2['text'][index] = [lemmatizer.lemmatize(word) for word in df_2['text'][index]]\n"
     ]
    }
   ],
   "source": [
    "lemmatizer = WordNetLemmatizer()\n",
    "for index, com in enumerate(df_2['text']) :\n",
    "    df_2['text'][index] = [lemmatizer.lemmatize(word) for word in df_2['text'][index]]"
   ]
  },
  {
   "cell_type": "code",
   "execution_count": 833,
   "id": "efd04f0e",
   "metadata": {
    "hidden": true
   },
   "outputs": [
    {
     "data": {
      "text/plain": [
       "['always',\n",
       " 'try',\n",
       " 'bring',\n",
       " 'heavy',\n",
       " 'metal',\n",
       " 'rt',\n",
       " 'httptcoyaoexngw',\n",
       " 'ablaze',\n",
       " 'est',\n",
       " 'september',\n",
       " 'bristol']"
      ]
     },
     "execution_count": 833,
     "metadata": {},
     "output_type": "execute_result"
    }
   ],
   "source": [
    "df_2['text'][32]"
   ]
  },
  {
   "cell_type": "code",
   "execution_count": null,
   "id": "5f7fffe3",
   "metadata": {
    "hidden": true
   },
   "outputs": [],
   "source": []
  },
  {
   "cell_type": "markdown",
   "id": "2f841d5b",
   "metadata": {
    "hidden": true
   },
   "source": [
    "from nltk.corpus import words\n",
    "\n",
    "for index, com in enumerate(df_2['text']) :\n",
    "    df_2['text'][index] = [word for word in df_2['text'][index] if wordnet.synsets(word) != []]"
   ]
  },
  {
   "cell_type": "code",
   "execution_count": 834,
   "id": "615cba23",
   "metadata": {
    "hidden": true
   },
   "outputs": [],
   "source": [
    "list_all_words = []\n",
    "for sentence in df_2['text'] :\n",
    "    for word in sentence :\n",
    "        list_all_words.append(word)"
   ]
  },
  {
   "cell_type": "code",
   "execution_count": 835,
   "id": "28eb043d",
   "metadata": {
    "hidden": true
   },
   "outputs": [
    {
     "data": {
      "text/plain": [
       "22172"
      ]
     },
     "execution_count": 835,
     "metadata": {},
     "output_type": "execute_result"
    }
   ],
   "source": [
    "vocab_size = len(set(list_all_words))\n",
    "vocab_size"
   ]
  },
  {
   "cell_type": "code",
   "execution_count": 836,
   "id": "6202945c",
   "metadata": {
    "hidden": true
   },
   "outputs": [],
   "source": [
    "# je transform les mots en int\n",
    "tk = Tokenizer()\n",
    "tk.fit_on_texts(df_2['text'])\n",
    "df_2['text'] = tk.texts_to_sequences(df_2['text'])\n"
   ]
  },
  {
   "cell_type": "code",
   "execution_count": 837,
   "id": "8a775bc9",
   "metadata": {
    "hidden": true
   },
   "outputs": [
    {
     "data": {
      "text/plain": [
       "0                      [4476, 570, 89, 96, 1603, 4477, 7]\n",
       "1                      [231, 2, 279, 294, 6639, 4478, 78]\n",
       "2       [1483, 1604, 2126, 498, 6640, 466, 97, 2126, 4...\n",
       "3                             [13, 4479, 35, 97, 483, 12]\n",
       "4         [52, 1169, 240, 6641, 1396, 109, 35, 6642, 185]\n",
       "                              ...                        \n",
       "7608       [75, 826, 1213, 1088, 430, 64, 696, 37, 22171]\n",
       "7609    [6611, 6612, 853, 366, 2, 12, 171, 188, 447, 3...\n",
       "7610                               [4184, 295, 952, 6604]\n",
       "7611    [19, 1153, 3196, 118, 62, 352, 1856, 3196, 192...\n",
       "7612          [292, 37, 238, 188, 12, 35, 645, 11, 22172]\n",
       "Name: text, Length: 7613, dtype: object"
      ]
     },
     "execution_count": 837,
     "metadata": {},
     "output_type": "execute_result"
    }
   ],
   "source": [
    "X_2 = df_2['text']\n",
    "X_2"
   ]
  },
  {
   "cell_type": "code",
   "execution_count": 838,
   "id": "90c5239a",
   "metadata": {
    "hidden": true
   },
   "outputs": [
    {
     "data": {
      "text/plain": [
       "array([[4.476e+03, 5.700e+02, 8.900e+01, ..., 0.000e+00, 0.000e+00,\n",
       "        0.000e+00],\n",
       "       [2.310e+02, 2.000e+00, 2.790e+02, ..., 0.000e+00, 0.000e+00,\n",
       "        0.000e+00],\n",
       "       [1.483e+03, 1.604e+03, 2.126e+03, ..., 0.000e+00, 0.000e+00,\n",
       "        0.000e+00],\n",
       "       ...,\n",
       "       [4.184e+03, 2.950e+02, 9.520e+02, ..., 0.000e+00, 0.000e+00,\n",
       "        0.000e+00],\n",
       "       [1.900e+01, 1.153e+03, 3.196e+03, ..., 0.000e+00, 0.000e+00,\n",
       "        0.000e+00],\n",
       "       [2.920e+02, 3.700e+01, 2.380e+02, ..., 0.000e+00, 0.000e+00,\n",
       "        0.000e+00]], dtype=float32)"
      ]
     },
     "execution_count": 838,
     "metadata": {},
     "output_type": "execute_result"
    }
   ],
   "source": [
    "# je pad\n",
    "X_pad_2 = pad_sequences(X_2, dtype='float32', padding='post', maxlen=24)\n",
    "X_pad_2"
   ]
  },
  {
   "cell_type": "code",
   "execution_count": 839,
   "id": "4ebcd324",
   "metadata": {
    "hidden": true
   },
   "outputs": [
    {
     "data": {
      "text/plain": [
       "24"
      ]
     },
     "execution_count": 839,
     "metadata": {},
     "output_type": "execute_result"
    }
   ],
   "source": [
    "# calcul sequence max\n",
    "Max_sentence_length = max([len(com) for com in X_pad_2])\n",
    "Max_sentence_length"
   ]
  },
  {
   "cell_type": "code",
   "execution_count": 840,
   "id": "e2e657ff",
   "metadata": {
    "hidden": true
   },
   "outputs": [],
   "source": [
    "# spit data\n",
    "X_pad_train_2 = X_pad_2[:6000]\n",
    "X_pad_test_2 = X_pad_2[6000:]\n",
    "y_train_2 = df['target'][:6000]\n",
    "y_test_2 = df['target'][6000:]"
   ]
  },
  {
   "cell_type": "markdown",
   "id": "e1008efb",
   "metadata": {
    "heading_collapsed": true,
    "hidden": true
   },
   "source": [
    "## model_2"
   ]
  },
  {
   "cell_type": "code",
   "execution_count": 877,
   "id": "1583c1ad",
   "metadata": {
    "hidden": true
   },
   "outputs": [
    {
     "name": "stdout",
     "output_type": "stream",
     "text": [
      "Model: \"sequential_35\"\n",
      "_________________________________________________________________\n",
      "Layer (type)                 Output Shape              Param #   \n",
      "=================================================================\n",
      "embedding_24 (Embedding)     (None, 24, 100)           2217300   \n",
      "_________________________________________________________________\n",
      "lstm_35 (LSTM)               (None, 200)               240800    \n",
      "_________________________________________________________________\n",
      "dense_45 (Dense)             (None, 10)                2010      \n",
      "_________________________________________________________________\n",
      "dense_46 (Dense)             (None, 1)                 11        \n",
      "=================================================================\n",
      "Total params: 2,460,121\n",
      "Trainable params: 2,460,121\n",
      "Non-trainable params: 0\n",
      "_________________________________________________________________\n"
     ]
    }
   ],
   "source": [
    "#Embedding(input_dim=vocab_size, output_dim=emb_dim, mask_zero=True)\n",
    "from tensorflow.keras import layers, Sequential\n",
    "# Size of your embedding space = size to represent each word\n",
    "embedding_size = 100\n",
    "model_2 = Sequential()\n",
    "model_2.add(layers.Embedding(input_dim=vocab_size+1,input_length=Max_sentence_length, output_dim=embedding_size,mask_zero=True))\n",
    "model_2.add(layers.LSTM(200))\n",
    "model.add(layers.Dropout(rate=0.2))\n",
    "model_2.add(layers.Dense(10))\n",
    "model.add(layers.Dropout(rate=0.2))\n",
    "model_2.add(layers.Dense(1, activation=\"sigmoid\"))\n",
    "model_2.summary()"
   ]
  },
  {
   "cell_type": "code",
   "execution_count": 878,
   "id": "8e760986",
   "metadata": {
    "hidden": true
   },
   "outputs": [],
   "source": [
    "from keras import backend as K\n",
    "import tensorflow as tf\n",
    "def recall_m(y_true, y_pred):\n",
    "    true_positives = K.sum(K.round(K.clip(y_true * y_pred, 0, 1)))\n",
    "    possible_positives = K.sum(K.round(K.clip(y_true, 0, 1)))\n",
    "    recall = true_positives / (possible_positives + K.epsilon())\n",
    "    return recall\n",
    "\n",
    "def precision_m(y_true, y_pred):\n",
    "    true_positives = K.sum(K.round(K.clip(y_true * y_pred, 0, 1)))\n",
    "    predicted_positives = K.sum(K.round(K.clip(y_pred, 0, 1)))\n",
    "    precision = true_positives / (predicted_positives + K.epsilon())\n",
    "    return precision\n",
    "\n",
    "def f1_m(y_true, y_pred):\n",
    "    precision = precision_m(y_true, y_pred)\n",
    "    recall = recall_m(y_true, y_pred)\n",
    "    return 2*((precision*recall)/(precision+recall+K.epsilon()))"
   ]
  },
  {
   "cell_type": "code",
   "execution_count": 879,
   "id": "bdc8987d",
   "metadata": {
    "hidden": true
   },
   "outputs": [
    {
     "name": "stdout",
     "output_type": "stream",
     "text": [
      "Epoch 1/100\n",
      "263/263 [==============================] - 9s 25ms/step - loss: 0.5312 - f1_m: 0.5792 - accuracy: 0.7395 - recall: 0.5336 - val_loss: 0.5777 - val_f1_m: 0.4320 - val_accuracy: 0.7128 - val_recall: 0.4935\n",
      "Epoch 2/100\n",
      "263/263 [==============================] - 6s 21ms/step - loss: 0.2325 - f1_m: 0.8910 - accuracy: 0.9157 - recall: 0.8686 - val_loss: 0.6836 - val_f1_m: 0.5442 - val_accuracy: 0.6733 - val_recall: 0.7390\n",
      "Epoch 3/100\n",
      "263/263 [==============================] - 6s 21ms/step - loss: 0.0793 - f1_m: 0.9697 - accuracy: 0.9764 - recall: 0.9679 - val_loss: 0.8493 - val_f1_m: 0.5015 - val_accuracy: 0.6878 - val_recall: 0.6292\n",
      "Epoch 4/100\n",
      "263/263 [==============================] - 6s 21ms/step - loss: 0.0476 - f1_m: 0.9853 - accuracy: 0.9888 - recall: 0.9851 - val_loss: 0.8372 - val_f1_m: 0.5291 - val_accuracy: 0.6706 - val_recall: 0.6951\n",
      "Epoch 5/100\n",
      "263/263 [==============================] - 6s 21ms/step - loss: 0.0232 - f1_m: 0.9923 - accuracy: 0.9945 - recall: 0.9914 - val_loss: 0.9266 - val_f1_m: 0.5138 - val_accuracy: 0.6822 - val_recall: 0.6615\n",
      "Epoch 6/100\n",
      "263/263 [==============================] - 6s 21ms/step - loss: 0.0205 - f1_m: 0.9890 - accuracy: 0.9943 - recall: 0.9925 - val_loss: 1.5167 - val_f1_m: 0.5449 - val_accuracy: 0.6694 - val_recall: 0.7339\n",
      "Epoch 7/100\n",
      "263/263 [==============================] - 6s 21ms/step - loss: 0.0156 - f1_m: 0.9952 - accuracy: 0.9957 - recall: 0.9966 - val_loss: 1.1324 - val_f1_m: 0.5179 - val_accuracy: 0.6939 - val_recall: 0.6615\n",
      "Epoch 8/100\n",
      "263/263 [==============================] - 6s 21ms/step - loss: 0.0096 - f1_m: 0.9925 - accuracy: 0.9969 - recall: 0.9966 - val_loss: 1.2795 - val_f1_m: 0.5135 - val_accuracy: 0.6956 - val_recall: 0.6602\n",
      "Epoch 9/100\n",
      "263/263 [==============================] - 6s 21ms/step - loss: 0.0075 - f1_m: 0.9930 - accuracy: 0.9974 - recall: 0.9960 - val_loss: 1.3813 - val_f1_m: 0.5286 - val_accuracy: 0.6811 - val_recall: 0.6925\n",
      "Epoch 10/100\n",
      "263/263 [==============================] - 6s 21ms/step - loss: 0.0062 - f1_m: 0.9956 - accuracy: 0.9969 - recall: 0.9960 - val_loss: 1.4214 - val_f1_m: 0.5142 - val_accuracy: 0.6883 - val_recall: 0.6667\n",
      "Epoch 11/100\n",
      "263/263 [==============================] - 6s 21ms/step - loss: 0.0055 - f1_m: 0.9962 - accuracy: 0.9971 - recall: 0.9954 - val_loss: 1.6897 - val_f1_m: 0.5264 - val_accuracy: 0.6783 - val_recall: 0.6899\n"
     ]
    },
    {
     "data": {
      "text/plain": [
       "<tensorflow.python.keras.callbacks.History at 0x1fcee2dc0>"
      ]
     },
     "execution_count": 879,
     "metadata": {},
     "output_type": "execute_result"
    }
   ],
   "source": [
    "\n",
    "es = EarlyStopping(patience=10, restore_best_weights=True)\n",
    "loss=BinaryCrossentropy(from_logits=True) # default from_logits=False\n",
    "#metrics=[keras.metrics.BinaryAccuracy()]\n",
    "model_2.compile(loss=loss,\n",
    "              optimizer='adam',\n",
    "              metrics=[f1_m,'accuracy', 'Recall'])\n",
    "model_2.fit(X_pad_train_2, y_train_2, epochs=100, batch_size=16, verbose=1, callbacks=[es], validation_split=0.3)"
   ]
  },
  {
   "cell_type": "markdown",
   "id": "5061431f",
   "metadata": {
    "hidden": true
   },
   "source": [
    "## test du model"
   ]
  },
  {
   "cell_type": "code",
   "execution_count": 886,
   "id": "7f52a9a5",
   "metadata": {
    "hidden": true
   },
   "outputs": [],
   "source": [
    "path_test = '../data/test.csv'\n",
    "test_keras_2 = pd.read_csv(path_test)"
   ]
  },
  {
   "cell_type": "code",
   "execution_count": 887,
   "id": "d2595c05",
   "metadata": {
    "hidden": true
   },
   "outputs": [],
   "source": [
    "test_keras_2['keyword'] = test_keras_2['keyword'].replace(np.nan, '')\n",
    "test_keras_2['location'] = test_keras_2['location'].replace(np.nan, '')"
   ]
  },
  {
   "cell_type": "code",
   "execution_count": 888,
   "id": "21d407d0",
   "metadata": {
    "hidden": true
   },
   "outputs": [],
   "source": [
    "test_keras_2['text'] = test_keras_2['text'].astype('str') +' '+ test_keras_2['keyword'].astype('str')\n",
    "test_keras_2['text'] = test_keras_2['text'].astype('str') +' '+ test_keras_2['location'].astype('str')"
   ]
  },
  {
   "cell_type": "code",
   "execution_count": 889,
   "id": "87a24c02",
   "metadata": {
    "hidden": true
   },
   "outputs": [
    {
     "name": "stderr",
     "output_type": "stream",
     "text": [
      "/var/folders/rm/v4zjj0453jl2v5pmlsvnhgnc0000gn/T/ipykernel_41468/2174276971.py:12: SettingWithCopyWarning: \n",
      "A value is trying to be set on a copy of a slice from a DataFrame\n",
      "\n",
      "See the caveats in the documentation: https://pandas.pydata.org/pandas-docs/stable/user_guide/indexing.html#returning-a-view-versus-a-copy\n",
      "  text[index] = sentence\n"
     ]
    }
   ],
   "source": [
    "test_keras_2['text'] = clean_data(test_keras_2['text'], remove_punctuations=True, lower_case=True,remove_numb=True, remove_symbol=True)"
   ]
  },
  {
   "cell_type": "code",
   "execution_count": 890,
   "id": "c11421eb",
   "metadata": {
    "hidden": true
   },
   "outputs": [
    {
     "name": "stderr",
     "output_type": "stream",
     "text": [
      "/var/folders/rm/v4zjj0453jl2v5pmlsvnhgnc0000gn/T/ipykernel_41468/2361971375.py:2: SettingWithCopyWarning: \n",
      "A value is trying to be set on a copy of a slice from a DataFrame\n",
      "\n",
      "See the caveats in the documentation: https://pandas.pydata.org/pandas-docs/stable/user_guide/indexing.html#returning-a-view-versus-a-copy\n",
      "  test_keras_2['text'][index] = word_tokenize(test_keras_2['text'][index])\n",
      "/var/folders/rm/v4zjj0453jl2v5pmlsvnhgnc0000gn/T/ipykernel_41468/2361971375.py:3: SettingWithCopyWarning: \n",
      "A value is trying to be set on a copy of a slice from a DataFrame\n",
      "\n",
      "See the caveats in the documentation: https://pandas.pydata.org/pandas-docs/stable/user_guide/indexing.html#returning-a-view-versus-a-copy\n",
      "  test_keras_2['text'][index] = [t for t in test_keras_2['text'][index] if t not in stop_words]\n"
     ]
    }
   ],
   "source": [
    "\n",
    "for index, com in enumerate(test_keras_2['text']) :\n",
    "    test_keras_2['text'][index] = word_tokenize(test_keras_2['text'][index])\n",
    "    test_keras_2['text'][index] = [t for t in test_keras_2['text'][index] if t not in stop_words]\n",
    "    \n"
   ]
  },
  {
   "cell_type": "code",
   "execution_count": 891,
   "id": "37ce10f0",
   "metadata": {
    "hidden": true
   },
   "outputs": [
    {
     "data": {
      "text/plain": [
       "0                        [happened, terrible, car, crash]\n",
       "1       [heard, earthquake, different, cities, stay, s...\n",
       "2       [forest, fire, spot, pond, geese, fleeing, acr...\n",
       "3              [apocalypse, lighting, spokane, wildfires]\n",
       "4               [typhoon, soudelor, kills, china, taiwan]\n",
       "                              ...                        \n",
       "3258    [earthquake, safety, los, angeles, ûò, safety...\n",
       "3259    [storm, ri, worse, last, hurricane, cityampoth...\n",
       "3260    [green, line, derailment, chicago, httptcoutbx...\n",
       "3261    [meg, issues, hazardous, weather, outlook, hwo...\n",
       "3262    [cityofcalgary, activated, municipal, emergenc...\n",
       "Name: text, Length: 3263, dtype: object"
      ]
     },
     "execution_count": 891,
     "metadata": {},
     "output_type": "execute_result"
    }
   ],
   "source": [
    "test_keras_2['text']"
   ]
  },
  {
   "cell_type": "code",
   "execution_count": 892,
   "id": "ad5a0f12",
   "metadata": {
    "hidden": true
   },
   "outputs": [
    {
     "name": "stderr",
     "output_type": "stream",
     "text": [
      "/var/folders/rm/v4zjj0453jl2v5pmlsvnhgnc0000gn/T/ipykernel_41468/3330642516.py:2: SettingWithCopyWarning: \n",
      "A value is trying to be set on a copy of a slice from a DataFrame\n",
      "\n",
      "See the caveats in the documentation: https://pandas.pydata.org/pandas-docs/stable/user_guide/indexing.html#returning-a-view-versus-a-copy\n",
      "  test_keras_2['text'][index] = [lemmatizer.lemmatize(word) for word in test_keras_2['text'][index]]\n"
     ]
    }
   ],
   "source": [
    "\n",
    "for index, com in enumerate(test_keras_2['text']) :\n",
    "    test_keras_2['text'][index] = [lemmatizer.lemmatize(word) for word in test_keras_2['text'][index]]"
   ]
  },
  {
   "cell_type": "markdown",
   "id": "b75286ff",
   "metadata": {
    "hidden": true
   },
   "source": [
    "from nltk.corpus import words\n",
    "\n",
    "for index, com in enumerate(test_keras_2['text']) :\n",
    "    test_keras_2['text'][index] = [word for word in test_keras_2['text'][index] if wordnet.synsets(word) != []]"
   ]
  },
  {
   "cell_type": "code",
   "execution_count": 893,
   "id": "368c2f3b",
   "metadata": {
    "hidden": true
   },
   "outputs": [],
   "source": [
    "# je transform les mots en int\n",
    "\n",
    "test_keras_2['text'] = tk.texts_to_sequences(test_keras_2['text'])\n"
   ]
  },
  {
   "cell_type": "code",
   "execution_count": 894,
   "id": "2421b536",
   "metadata": {
    "hidden": true
   },
   "outputs": [
    {
     "data": {
      "text/plain": [
       "0                                     [922, 1932, 62, 26]\n",
       "1                     [486, 89, 1214, 36, 529, 1698, 323]\n",
       "2                [231, 2, 761, 3477, 4973, 835, 467, 425]\n",
       "3                                   [234, 3827, 2189, 35]\n",
       "4                              [210, 792, 244, 392, 1222]\n",
       "                              ...                        \n",
       "3258                      [89, 1114, 269, 288, 440, 1114]\n",
       "3259    [25, 3101, 1154, 110, 125, 8953, 8954, 291, 89...\n",
       "3260                                 [934, 641, 126, 298]\n",
       "3261             [6098, 443, 209, 353, 1744, 1906, 15441]\n",
       "3262                    [5787, 2795, 1591, 14, 155, 6067]\n",
       "Name: text, Length: 3263, dtype: object"
      ]
     },
     "execution_count": 894,
     "metadata": {},
     "output_type": "execute_result"
    }
   ],
   "source": [
    "test_keras_2 = test_keras_2['text']\n",
    "test_keras_2"
   ]
  },
  {
   "cell_type": "code",
   "execution_count": 895,
   "id": "4f405d22",
   "metadata": {
    "hidden": true
   },
   "outputs": [
    {
     "data": {
      "text/plain": [
       "array([[9.220e+02, 1.932e+03, 6.200e+01, ..., 0.000e+00, 0.000e+00,\n",
       "        0.000e+00],\n",
       "       [4.860e+02, 8.900e+01, 1.214e+03, ..., 0.000e+00, 0.000e+00,\n",
       "        0.000e+00],\n",
       "       [2.310e+02, 2.000e+00, 7.610e+02, ..., 0.000e+00, 0.000e+00,\n",
       "        0.000e+00],\n",
       "       ...,\n",
       "       [9.340e+02, 6.410e+02, 1.260e+02, ..., 0.000e+00, 0.000e+00,\n",
       "        0.000e+00],\n",
       "       [6.098e+03, 4.430e+02, 2.090e+02, ..., 0.000e+00, 0.000e+00,\n",
       "        0.000e+00],\n",
       "       [5.787e+03, 2.795e+03, 1.591e+03, ..., 0.000e+00, 0.000e+00,\n",
       "        0.000e+00]], dtype=float32)"
      ]
     },
     "execution_count": 895,
     "metadata": {},
     "output_type": "execute_result"
    }
   ],
   "source": [
    "# je pad\n",
    "test_pad_keras_2 = pad_sequences(test_keras_2, dtype='float32', padding='post', maxlen=24)\n",
    "test_pad_keras_2"
   ]
  },
  {
   "cell_type": "code",
   "execution_count": 896,
   "id": "bfb2d769",
   "metadata": {
    "hidden": true
   },
   "outputs": [],
   "source": [
    "res_test_2 = model_2.predict(test_pad_keras_2)"
   ]
  },
  {
   "cell_type": "code",
   "execution_count": 897,
   "id": "891f81a0",
   "metadata": {
    "hidden": true
   },
   "outputs": [
    {
     "data": {
      "text/plain": [
       "3263"
      ]
     },
     "execution_count": 897,
     "metadata": {},
     "output_type": "execute_result"
    }
   ],
   "source": [
    "res_binary_2 = []\n",
    "for num in res_test_2 : \n",
    "    if num< 0.5:\n",
    "        res_binary_2.append(0)\n",
    "    else :\n",
    "        res_binary_2.append(1)\n",
    "len(res_binary_2)"
   ]
  },
  {
   "cell_type": "code",
   "execution_count": 898,
   "id": "5f7537af",
   "metadata": {
    "hidden": true
   },
   "outputs": [
    {
     "data": {
      "text/plain": [
       "(3263, 1)"
      ]
     },
     "execution_count": 898,
     "metadata": {},
     "output_type": "execute_result"
    }
   ],
   "source": [
    "res_test_2 = pd.DataFrame(res_binary_2, columns=['target'])\n",
    "res_test_2.shape"
   ]
  },
  {
   "cell_type": "code",
   "execution_count": 899,
   "id": "ecbdd9f4",
   "metadata": {
    "hidden": true
   },
   "outputs": [
    {
     "data": {
      "text/html": [
       "<div>\n",
       "<style scoped>\n",
       "    .dataframe tbody tr th:only-of-type {\n",
       "        vertical-align: middle;\n",
       "    }\n",
       "\n",
       "    .dataframe tbody tr th {\n",
       "        vertical-align: top;\n",
       "    }\n",
       "\n",
       "    .dataframe thead th {\n",
       "        text-align: right;\n",
       "    }\n",
       "</style>\n",
       "<table border=\"1\" class=\"dataframe\">\n",
       "  <thead>\n",
       "    <tr style=\"text-align: right;\">\n",
       "      <th></th>\n",
       "      <th>id</th>\n",
       "      <th>target</th>\n",
       "    </tr>\n",
       "  </thead>\n",
       "  <tbody>\n",
       "    <tr>\n",
       "      <th>0</th>\n",
       "      <td>0</td>\n",
       "      <td>0</td>\n",
       "    </tr>\n",
       "    <tr>\n",
       "      <th>1</th>\n",
       "      <td>2</td>\n",
       "      <td>1</td>\n",
       "    </tr>\n",
       "    <tr>\n",
       "      <th>2</th>\n",
       "      <td>3</td>\n",
       "      <td>1</td>\n",
       "    </tr>\n",
       "    <tr>\n",
       "      <th>3</th>\n",
       "      <td>9</td>\n",
       "      <td>1</td>\n",
       "    </tr>\n",
       "    <tr>\n",
       "      <th>4</th>\n",
       "      <td>11</td>\n",
       "      <td>1</td>\n",
       "    </tr>\n",
       "    <tr>\n",
       "      <th>...</th>\n",
       "      <td>...</td>\n",
       "      <td>...</td>\n",
       "    </tr>\n",
       "    <tr>\n",
       "      <th>3258</th>\n",
       "      <td>10861</td>\n",
       "      <td>0</td>\n",
       "    </tr>\n",
       "    <tr>\n",
       "      <th>3259</th>\n",
       "      <td>10865</td>\n",
       "      <td>1</td>\n",
       "    </tr>\n",
       "    <tr>\n",
       "      <th>3260</th>\n",
       "      <td>10868</td>\n",
       "      <td>1</td>\n",
       "    </tr>\n",
       "    <tr>\n",
       "      <th>3261</th>\n",
       "      <td>10874</td>\n",
       "      <td>0</td>\n",
       "    </tr>\n",
       "    <tr>\n",
       "      <th>3262</th>\n",
       "      <td>10875</td>\n",
       "      <td>1</td>\n",
       "    </tr>\n",
       "  </tbody>\n",
       "</table>\n",
       "<p>3263 rows × 2 columns</p>\n",
       "</div>"
      ],
      "text/plain": [
       "         id  target\n",
       "0         0       0\n",
       "1         2       1\n",
       "2         3       1\n",
       "3         9       1\n",
       "4        11       1\n",
       "...     ...     ...\n",
       "3258  10861       0\n",
       "3259  10865       1\n",
       "3260  10868       1\n",
       "3261  10874       0\n",
       "3262  10875       1\n",
       "\n",
       "[3263 rows x 2 columns]"
      ]
     },
     "execution_count": 899,
     "metadata": {},
     "output_type": "execute_result"
    }
   ],
   "source": [
    "res_test_2['id']= test_keras['id']\n",
    "res_test_2 = res_test_2[['id', 'target']]\n",
    "res_test_2\n",
    "#res_test[res_test['id']== 2275]"
   ]
  },
  {
   "cell_type": "code",
   "execution_count": 902,
   "id": "e5df3f9f",
   "metadata": {
    "hidden": true
   },
   "outputs": [],
   "source": [
    "res_test_2.to_csv('challenge_kaggle_4_nlp.csv', index=False)"
   ]
  },
  {
   "cell_type": "markdown",
   "id": "43cec8c3",
   "metadata": {},
   "source": [
    "# approche transfer learning"
   ]
  },
  {
   "cell_type": "code",
   "execution_count": 179,
   "id": "a488cf57",
   "metadata": {},
   "outputs": [],
   "source": [
    "df_3 = data.copy()"
   ]
  },
  {
   "cell_type": "code",
   "execution_count": 79,
   "id": "b3f1c667",
   "metadata": {},
   "outputs": [
    {
     "name": "stdout",
     "output_type": "stream",
     "text": [
      "[=====---------------------------------------------] 11.7% 23.4/199.5MB downloaded"
     ]
    },
    {
     "name": "stderr",
     "output_type": "stream",
     "text": [
      "IOPub message rate exceeded.\n",
      "The notebook server will temporarily stop sending output\n",
      "to the client in order to avoid crashing it.\n",
      "To change this limit, set the config variable\n",
      "`--NotebookApp.iopub_msg_rate_limit`.\n",
      "\n",
      "Current values:\n",
      "NotebookApp.iopub_msg_rate_limit=1000.0 (msgs/sec)\n",
      "NotebookApp.rate_limit_window=3.0 (secs)\n",
      "\n"
     ]
    },
    {
     "name": "stdout",
     "output_type": "stream",
     "text": [
      "[=================---------------------------------] 34.4% 68.7/199.5MB downloaded"
     ]
    },
    {
     "name": "stderr",
     "output_type": "stream",
     "text": [
      "IOPub message rate exceeded.\n",
      "The notebook server will temporarily stop sending output\n",
      "to the client in order to avoid crashing it.\n",
      "To change this limit, set the config variable\n",
      "`--NotebookApp.iopub_msg_rate_limit`.\n",
      "\n",
      "Current values:\n",
      "NotebookApp.iopub_msg_rate_limit=1000.0 (msgs/sec)\n",
      "NotebookApp.rate_limit_window=3.0 (secs)\n",
      "\n"
     ]
    },
    {
     "name": "stdout",
     "output_type": "stream",
     "text": [
      "[============================----------------------] 57.2% 114.0/199.5MB downloaded"
     ]
    },
    {
     "name": "stderr",
     "output_type": "stream",
     "text": [
      "IOPub message rate exceeded.\n",
      "The notebook server will temporarily stop sending output\n",
      "to the client in order to avoid crashing it.\n",
      "To change this limit, set the config variable\n",
      "`--NotebookApp.iopub_msg_rate_limit`.\n",
      "\n",
      "Current values:\n",
      "NotebookApp.iopub_msg_rate_limit=1000.0 (msgs/sec)\n",
      "NotebookApp.rate_limit_window=3.0 (secs)\n",
      "\n"
     ]
    },
    {
     "name": "stdout",
     "output_type": "stream",
     "text": [
      "[========================================----------] 81.8% 163.2/199.5MB downloaded"
     ]
    },
    {
     "name": "stderr",
     "output_type": "stream",
     "text": [
      "IOPub message rate exceeded.\n",
      "The notebook server will temporarily stop sending output\n",
      "to the client in order to avoid crashing it.\n",
      "To change this limit, set the config variable\n",
      "`--NotebookApp.iopub_msg_rate_limit`.\n",
      "\n",
      "Current values:\n",
      "NotebookApp.iopub_msg_rate_limit=1000.0 (msgs/sec)\n",
      "NotebookApp.rate_limit_window=3.0 (secs)\n",
      "\n"
     ]
    },
    {
     "name": "stdout",
     "output_type": "stream",
     "text": [
      "[==================================================] 100.0% 199.5/199.5MB downloaded\n"
     ]
    },
    {
     "data": {
      "text/plain": [
       "1193514"
      ]
     },
     "execution_count": 79,
     "metadata": {},
     "output_type": "execute_result"
    }
   ],
   "source": [
    "import gensim.downloader\n",
    "word2vec_transfer = gensim.downloader.load('glove-twitter-50')\n",
    "len(word2vec_transfer)"
   ]
  },
  {
   "cell_type": "code",
   "execution_count": 180,
   "id": "f5908628",
   "metadata": {},
   "outputs": [
    {
     "name": "stderr",
     "output_type": "stream",
     "text": [
      "/var/folders/rm/v4zjj0453jl2v5pmlsvnhgnc0000gn/T/ipykernel_99167/2174276971.py:12: SettingWithCopyWarning: \n",
      "A value is trying to be set on a copy of a slice from a DataFrame\n",
      "\n",
      "See the caveats in the documentation: https://pandas.pydata.org/pandas-docs/stable/user_guide/indexing.html#returning-a-view-versus-a-copy\n",
      "  text[index] = sentence\n"
     ]
    }
   ],
   "source": [
    "df_3['keyword'] = df_3['keyword'].replace(np.nan, '')\n",
    "df_3['location'] = df_3['location'].replace(np.nan, '')\n",
    "df_3['text'] = df_3['text'].astype('str') +' '+ df_3['keyword'].astype('str')\n",
    "df_3['text'] = df_3['text'].astype('str') +' '+ df_3['location'].astype('str')\n",
    "df_3['text'] = clean_data(df_3['text'], remove_punctuations=True, lower_case=True,remove_numb=True, remove_symbol=True)"
   ]
  },
  {
   "cell_type": "code",
   "execution_count": 181,
   "id": "b3083c06",
   "metadata": {},
   "outputs": [
    {
     "name": "stderr",
     "output_type": "stream",
     "text": [
      "/var/folders/rm/v4zjj0453jl2v5pmlsvnhgnc0000gn/T/ipykernel_99167/3279767701.py:3: SettingWithCopyWarning: \n",
      "A value is trying to be set on a copy of a slice from a DataFrame\n",
      "\n",
      "See the caveats in the documentation: https://pandas.pydata.org/pandas-docs/stable/user_guide/indexing.html#returning-a-view-versus-a-copy\n",
      "  df_3['text'][index] = word_tokenize(df_3['text'][index])\n",
      "/var/folders/rm/v4zjj0453jl2v5pmlsvnhgnc0000gn/T/ipykernel_99167/3279767701.py:4: SettingWithCopyWarning: \n",
      "A value is trying to be set on a copy of a slice from a DataFrame\n",
      "\n",
      "See the caveats in the documentation: https://pandas.pydata.org/pandas-docs/stable/user_guide/indexing.html#returning-a-view-versus-a-copy\n",
      "  df_3['text'][index] = [t for t in df_3['text'][index] if t not in stop_words]\n"
     ]
    },
    {
     "data": {
      "text/html": [
       "<div>\n",
       "<style scoped>\n",
       "    .dataframe tbody tr th:only-of-type {\n",
       "        vertical-align: middle;\n",
       "    }\n",
       "\n",
       "    .dataframe tbody tr th {\n",
       "        vertical-align: top;\n",
       "    }\n",
       "\n",
       "    .dataframe thead th {\n",
       "        text-align: right;\n",
       "    }\n",
       "</style>\n",
       "<table border=\"1\" class=\"dataframe\">\n",
       "  <thead>\n",
       "    <tr style=\"text-align: right;\">\n",
       "      <th></th>\n",
       "      <th>id</th>\n",
       "      <th>keyword</th>\n",
       "      <th>location</th>\n",
       "      <th>text</th>\n",
       "      <th>target</th>\n",
       "    </tr>\n",
       "  </thead>\n",
       "  <tbody>\n",
       "    <tr>\n",
       "      <th>0</th>\n",
       "      <td>1</td>\n",
       "      <td></td>\n",
       "      <td></td>\n",
       "      <td>[deeds, reason, earthquake, may, allah, forgiv...</td>\n",
       "      <td>1</td>\n",
       "    </tr>\n",
       "    <tr>\n",
       "      <th>1</th>\n",
       "      <td>4</td>\n",
       "      <td></td>\n",
       "      <td></td>\n",
       "      <td>[forest, fire, near, la, ronge, sask, canada]</td>\n",
       "      <td>1</td>\n",
       "    </tr>\n",
       "    <tr>\n",
       "      <th>2</th>\n",
       "      <td>5</td>\n",
       "      <td></td>\n",
       "      <td></td>\n",
       "      <td>[residents, asked, shelter, place, notified, o...</td>\n",
       "      <td>1</td>\n",
       "    </tr>\n",
       "    <tr>\n",
       "      <th>3</th>\n",
       "      <td>6</td>\n",
       "      <td></td>\n",
       "      <td></td>\n",
       "      <td>[people, receive, wildfires, evacuation, order...</td>\n",
       "      <td>1</td>\n",
       "    </tr>\n",
       "    <tr>\n",
       "      <th>4</th>\n",
       "      <td>7</td>\n",
       "      <td></td>\n",
       "      <td></td>\n",
       "      <td>[got, sent, photo, ruby, alaska, smoke, wildfi...</td>\n",
       "      <td>1</td>\n",
       "    </tr>\n",
       "  </tbody>\n",
       "</table>\n",
       "</div>"
      ],
      "text/plain": [
       "   id keyword location                                               text  \\\n",
       "0   1                   [deeds, reason, earthquake, may, allah, forgiv...   \n",
       "1   4                       [forest, fire, near, la, ronge, sask, canada]   \n",
       "2   5                   [residents, asked, shelter, place, notified, o...   \n",
       "3   6                   [people, receive, wildfires, evacuation, order...   \n",
       "4   7                   [got, sent, photo, ruby, alaska, smoke, wildfi...   \n",
       "\n",
       "   target  \n",
       "0       1  \n",
       "1       1  \n",
       "2       1  \n",
       "3       1  \n",
       "4       1  "
      ]
     },
     "execution_count": 181,
     "metadata": {},
     "output_type": "execute_result"
    }
   ],
   "source": [
    "stop_words = set(stopwords.words('english'))\n",
    "for index, com in enumerate(df_3['text']) :\n",
    "    df_3['text'][index] = word_tokenize(df_3['text'][index])\n",
    "    df_3['text'][index] = [t for t in df_3['text'][index] if t not in stop_words]\n",
    "df_3.head()"
   ]
  },
  {
   "cell_type": "code",
   "execution_count": 182,
   "id": "173d26e8",
   "metadata": {},
   "outputs": [
    {
     "data": {
      "text/plain": [
       "['always',\n",
       " 'try',\n",
       " 'bring',\n",
       " 'heavy',\n",
       " 'metal',\n",
       " 'rt',\n",
       " 'httptcoyaoexngw',\n",
       " 'ablaze',\n",
       " 'est',\n",
       " 'september',\n",
       " 'bristol']"
      ]
     },
     "execution_count": 182,
     "metadata": {},
     "output_type": "execute_result"
    }
   ],
   "source": [
    "df_3['text'][32]"
   ]
  },
  {
   "cell_type": "code",
   "execution_count": 183,
   "id": "b44a5aeb",
   "metadata": {},
   "outputs": [
    {
     "name": "stderr",
     "output_type": "stream",
     "text": [
      "/var/folders/rm/v4zjj0453jl2v5pmlsvnhgnc0000gn/T/ipykernel_99167/2715600253.py:3: SettingWithCopyWarning: \n",
      "A value is trying to be set on a copy of a slice from a DataFrame\n",
      "\n",
      "See the caveats in the documentation: https://pandas.pydata.org/pandas-docs/stable/user_guide/indexing.html#returning-a-view-versus-a-copy\n",
      "  df_3['text'][index] = [lemmatizer.lemmatize(word) for word in df_3['text'][index]]\n"
     ]
    },
    {
     "data": {
      "text/html": [
       "<div>\n",
       "<style scoped>\n",
       "    .dataframe tbody tr th:only-of-type {\n",
       "        vertical-align: middle;\n",
       "    }\n",
       "\n",
       "    .dataframe tbody tr th {\n",
       "        vertical-align: top;\n",
       "    }\n",
       "\n",
       "    .dataframe thead th {\n",
       "        text-align: right;\n",
       "    }\n",
       "</style>\n",
       "<table border=\"1\" class=\"dataframe\">\n",
       "  <thead>\n",
       "    <tr style=\"text-align: right;\">\n",
       "      <th></th>\n",
       "      <th>id</th>\n",
       "      <th>keyword</th>\n",
       "      <th>location</th>\n",
       "      <th>text</th>\n",
       "      <th>target</th>\n",
       "    </tr>\n",
       "  </thead>\n",
       "  <tbody>\n",
       "    <tr>\n",
       "      <th>0</th>\n",
       "      <td>1</td>\n",
       "      <td></td>\n",
       "      <td></td>\n",
       "      <td>[deed, reason, earthquake, may, allah, forgive...</td>\n",
       "      <td>1</td>\n",
       "    </tr>\n",
       "    <tr>\n",
       "      <th>1</th>\n",
       "      <td>4</td>\n",
       "      <td></td>\n",
       "      <td></td>\n",
       "      <td>[forest, fire, near, la, ronge, sask, canada]</td>\n",
       "      <td>1</td>\n",
       "    </tr>\n",
       "    <tr>\n",
       "      <th>2</th>\n",
       "      <td>5</td>\n",
       "      <td></td>\n",
       "      <td></td>\n",
       "      <td>[resident, asked, shelter, place, notified, of...</td>\n",
       "      <td>1</td>\n",
       "    </tr>\n",
       "    <tr>\n",
       "      <th>3</th>\n",
       "      <td>6</td>\n",
       "      <td></td>\n",
       "      <td></td>\n",
       "      <td>[people, receive, wildfire, evacuation, order,...</td>\n",
       "      <td>1</td>\n",
       "    </tr>\n",
       "    <tr>\n",
       "      <th>4</th>\n",
       "      <td>7</td>\n",
       "      <td></td>\n",
       "      <td></td>\n",
       "      <td>[got, sent, photo, ruby, alaska, smoke, wildfi...</td>\n",
       "      <td>1</td>\n",
       "    </tr>\n",
       "  </tbody>\n",
       "</table>\n",
       "</div>"
      ],
      "text/plain": [
       "   id keyword location                                               text  \\\n",
       "0   1                   [deed, reason, earthquake, may, allah, forgive...   \n",
       "1   4                       [forest, fire, near, la, ronge, sask, canada]   \n",
       "2   5                   [resident, asked, shelter, place, notified, of...   \n",
       "3   6                   [people, receive, wildfire, evacuation, order,...   \n",
       "4   7                   [got, sent, photo, ruby, alaska, smoke, wildfi...   \n",
       "\n",
       "   target  \n",
       "0       1  \n",
       "1       1  \n",
       "2       1  \n",
       "3       1  \n",
       "4       1  "
      ]
     },
     "execution_count": 183,
     "metadata": {},
     "output_type": "execute_result"
    }
   ],
   "source": [
    "lemmatizer = WordNetLemmatizer()\n",
    "for index, com in enumerate(df_3['text']) :\n",
    "    df_3['text'][index] = [lemmatizer.lemmatize(word) for word in df_3['text'][index]]\n",
    "df_3.head()"
   ]
  },
  {
   "cell_type": "code",
   "execution_count": 184,
   "id": "46f53fdb",
   "metadata": {},
   "outputs": [],
   "source": [
    "X_3 = df_3['text']\n",
    "y_3 =df_3['target'] \n",
    "X_train_3, X_test_3, y_train_3, y_test_3 = train_test_split(X_3, y_3, test_size=0.3, random_state=42)"
   ]
  },
  {
   "cell_type": "code",
   "execution_count": 85,
   "id": "6996b439",
   "metadata": {},
   "outputs": [
    {
     "name": "stderr",
     "output_type": "stream",
     "text": [
      "/var/folders/rm/v4zjj0453jl2v5pmlsvnhgnc0000gn/T/ipykernel_99167/15132629.py:18: VisibleDeprecationWarning: Creating an ndarray from ragged nested sequences (which is a list-or-tuple of lists-or-tuples-or ndarrays with different lengths or shapes) is deprecated. If you meant to do this, you must specify 'dtype=object' when creating the ndarray\n",
      "  return np.array(embed)\n"
     ]
    }
   ],
   "source": [
    "# Function to convert a sentence (list of words) into a matrix representing the words in the embedding space\n",
    "def embed_sentence_with_TF(word2vec, sentence):\n",
    "    embedded_sentence = []\n",
    "    for word in sentence:\n",
    "        if word in word2vec:\n",
    "            embedded_sentence.append(word2vec[word])\n",
    "        \n",
    "    return np.array(embedded_sentence)\n",
    "\n",
    "# Function that converts a list of sentences into a list of matrices\n",
    "def embedding(word2vec, sentences):\n",
    "    embed = []\n",
    "    \n",
    "    for sentence in sentences:\n",
    "        embedded_sentence = embed_sentence_with_TF(word2vec, sentence)\n",
    "        embed.append(embedded_sentence)\n",
    "        \n",
    "    return np.array(embed)\n",
    "\n",
    "# Embed the training and test sentences\n",
    "X_train_embed_3 = embedding(word2vec_transfer, X_train_3)\n",
    "X_test_embed_3 = embedding(word2vec_transfer, X_test_3)"
   ]
  },
  {
   "cell_type": "code",
   "execution_count": 86,
   "id": "f76e9313",
   "metadata": {},
   "outputs": [
    {
     "data": {
      "text/plain": [
       "22178"
      ]
     },
     "execution_count": 86,
     "metadata": {},
     "output_type": "execute_result"
    }
   ],
   "source": [
    "list_all_words = []\n",
    "for sentence in X_3 :\n",
    "    for word in sentence :\n",
    "        list_all_words.append(word)\n",
    "vocab_size = len(set(list_all_words))\n",
    "vocab_size"
   ]
  },
  {
   "cell_type": "code",
   "execution_count": 87,
   "id": "83a5be23",
   "metadata": {},
   "outputs": [
    {
     "data": {
      "text/plain": [
       "31"
      ]
     },
     "execution_count": 87,
     "metadata": {},
     "output_type": "execute_result"
    }
   ],
   "source": [
    "# calcul sequence max\n",
    "Max_sentence_length = max([len(com) for com in X_3])\n",
    "Max_sentence_length"
   ]
  },
  {
   "cell_type": "code",
   "execution_count": 92,
   "id": "ce8a81a1",
   "metadata": {},
   "outputs": [],
   "source": [
    "# je pad\n",
    "X_pad_train_embed_3 = pad_sequences(X_train_embed_3, dtype='float32', padding='post', maxlen=31, value=0.)\n",
    "X_pad_test_embed_3 = pad_sequences(X_test_embed_3, dtype='float32', padding='post', maxlen=31, value=0.)"
   ]
  },
  {
   "cell_type": "code",
   "execution_count": 93,
   "id": "30f3572c",
   "metadata": {},
   "outputs": [
    {
     "data": {
      "text/plain": [
       "(5329, 31, 50)"
      ]
     },
     "execution_count": 93,
     "metadata": {},
     "output_type": "execute_result"
    }
   ],
   "source": [
    "X_pad_train_embed_3.shape"
   ]
  },
  {
   "cell_type": "markdown",
   "id": "3b850ff4",
   "metadata": {
    "heading_collapsed": true
   },
   "source": [
    "## Model RNN"
   ]
  },
  {
   "cell_type": "code",
   "execution_count": 90,
   "id": "ae48cf2e",
   "metadata": {
    "hidden": true
   },
   "outputs": [],
   "source": [
    "from keras import backend as K\n",
    "import tensorflow as tf\n",
    "def recall_m(y_true, y_pred):\n",
    "    true_positives = K.sum(K.round(K.clip(y_true * y_pred, 0, 1)))\n",
    "    possible_positives = K.sum(K.round(K.clip(y_true, 0, 1)))\n",
    "    recall = true_positives / (possible_positives + K.epsilon())\n",
    "    return recall\n",
    "\n",
    "def precision_m(y_true, y_pred):\n",
    "    true_positives = K.sum(K.round(K.clip(y_true * y_pred, 0, 1)))\n",
    "    predicted_positives = K.sum(K.round(K.clip(y_pred, 0, 1)))\n",
    "    precision = true_positives / (predicted_positives + K.epsilon())\n",
    "    return precision\n",
    "\n",
    "def f1_m(y_true, y_pred):\n",
    "    precision = precision_m(y_true, y_pred)\n",
    "    recall = recall_m(y_true, y_pred)\n",
    "    return 2*((precision*recall)/(precision+recall+K.epsilon()))"
   ]
  },
  {
   "cell_type": "code",
   "execution_count": 95,
   "id": "2fe4e396",
   "metadata": {
    "hidden": true
   },
   "outputs": [
    {
     "name": "stdout",
     "output_type": "stream",
     "text": [
      "Epoch 1/100\n",
      "467/467 [==============================] - 11s 18ms/step - loss: 0.5288 - f1_m: 0.6429 - accuracy: 0.7515 - recall: 0.6456 - val_loss: 0.5197 - val_f1_m: 0.6073 - val_accuracy: 0.7586 - val_recall: 0.5552\n",
      "Epoch 2/100\n",
      "467/467 [==============================] - 7s 15ms/step - loss: 0.4792 - f1_m: 0.6679 - accuracy: 0.7796 - recall: 0.6518 - val_loss: 0.5044 - val_f1_m: 0.6624 - val_accuracy: 0.7580 - val_recall: 0.6962\n",
      "Epoch 3/100\n",
      "467/467 [==============================] - 7s 15ms/step - loss: 0.4487 - f1_m: 0.7097 - accuracy: 0.8048 - recall: 0.7056 - val_loss: 0.4961 - val_f1_m: 0.6763 - val_accuracy: 0.7767 - val_recall: 0.6890\n",
      "Epoch 4/100\n",
      "467/467 [==============================] - 7s 15ms/step - loss: 0.4225 - f1_m: 0.7243 - accuracy: 0.8158 - recall: 0.7168 - val_loss: 0.4958 - val_f1_m: 0.6478 - val_accuracy: 0.7611 - val_recall: 0.6599\n",
      "Epoch 5/100\n",
      "467/467 [==============================] - 7s 15ms/step - loss: 0.4036 - f1_m: 0.7349 - accuracy: 0.8247 - recall: 0.7242 - val_loss: 0.4959 - val_f1_m: 0.6542 - val_accuracy: 0.7736 - val_recall: 0.6352\n",
      "Epoch 6/100\n",
      "467/467 [==============================] - 7s 15ms/step - loss: 0.3775 - f1_m: 0.7532 - accuracy: 0.8319 - recall: 0.7353 - val_loss: 0.5289 - val_f1_m: 0.6646 - val_accuracy: 0.7642 - val_recall: 0.6817\n",
      "Epoch 7/100\n",
      "467/467 [==============================] - 7s 15ms/step - loss: 0.3454 - f1_m: 0.7792 - accuracy: 0.8520 - recall: 0.7699 - val_loss: 0.5340 - val_f1_m: 0.6562 - val_accuracy: 0.7586 - val_recall: 0.6715\n",
      "Epoch 8/100\n",
      "467/467 [==============================] - 7s 15ms/step - loss: 0.3069 - f1_m: 0.8113 - accuracy: 0.8716 - recall: 0.7990 - val_loss: 0.5933 - val_f1_m: 0.6467 - val_accuracy: 0.7548 - val_recall: 0.6526\n",
      "Epoch 9/100\n",
      "467/467 [==============================] - 7s 15ms/step - loss: 0.2591 - f1_m: 0.8333 - accuracy: 0.8906 - recall: 0.8336 - val_loss: 0.6339 - val_f1_m: 0.6626 - val_accuracy: 0.7486 - val_recall: 0.6933\n",
      "Epoch 10/100\n",
      "467/467 [==============================] - 7s 15ms/step - loss: 0.2137 - f1_m: 0.8803 - accuracy: 0.9155 - recall: 0.8844 - val_loss: 0.7188 - val_f1_m: 0.6769 - val_accuracy: 0.7511 - val_recall: 0.7384\n",
      "Epoch 11/100\n",
      "467/467 [==============================] - 7s 15ms/step - loss: 0.1772 - f1_m: 0.8961 - accuracy: 0.9260 - recall: 0.8949 - val_loss: 0.8832 - val_f1_m: 0.6669 - val_accuracy: 0.7517 - val_recall: 0.7224\n",
      "Epoch 12/100\n",
      "467/467 [==============================] - 7s 15ms/step - loss: 0.1440 - f1_m: 0.9251 - accuracy: 0.9418 - recall: 0.9283 - val_loss: 0.9023 - val_f1_m: 0.6692 - val_accuracy: 0.7442 - val_recall: 0.7355\n",
      "Epoch 13/100\n",
      "467/467 [==============================] - 7s 16ms/step - loss: 0.1127 - f1_m: 0.9327 - accuracy: 0.9550 - recall: 0.9419 - val_loss: 0.9319 - val_f1_m: 0.6288 - val_accuracy: 0.7236 - val_recall: 0.6672\n",
      "Epoch 14/100\n",
      "467/467 [==============================] - 7s 15ms/step - loss: 0.0924 - f1_m: 0.9508 - accuracy: 0.9643 - recall: 0.9598 - val_loss: 1.1467 - val_f1_m: 0.6615 - val_accuracy: 0.7511 - val_recall: 0.7064\n"
     ]
    },
    {
     "data": {
      "text/plain": [
       "<tensorflow.python.keras.callbacks.History at 0x1ef76d460>"
      ]
     },
     "execution_count": 95,
     "metadata": {},
     "output_type": "execute_result"
    }
   ],
   "source": [
    "model_3 = Sequential()\n",
    "model_3.add(layers.Masking(mask_value=0., input_shape=(31,50)))\n",
    "model_3.add(layers.LSTM(200))\n",
    "model_3.add(layers.Dropout(rate=0.2))\n",
    "model_3.add(layers.Dense(60, activation=\"relu\"))\n",
    "model_3.add(layers.Dropout(rate=0.2))\n",
    "model_3.add(layers.Dense(1, activation=\"sigmoid\"))\n",
    "\n",
    "es = EarlyStopping(patience=10, restore_best_weights=True)\n",
    "loss=BinaryCrossentropy(from_logits=False) # default from_logits=False\n",
    "\n",
    "model_3.compile(loss=loss,\n",
    "              optimizer='adam',\n",
    "              metrics=[f1_m,'accuracy', 'Recall'])\n",
    "model_3.fit(X_pad_train_embed_3, y_train_3, epochs=100, batch_size=8, verbose=1, callbacks=[es], validation_split=0.3)\n"
   ]
  },
  {
   "cell_type": "code",
   "execution_count": 97,
   "id": "e15ef28b",
   "metadata": {
    "hidden": true
   },
   "outputs": [
    {
     "name": "stdout",
     "output_type": "stream",
     "text": [
      "72/72 [==============================] - 1s 11ms/step - loss: 0.4633 - f1_m: 0.7277 - accuracy: 0.7920 - recall: 0.6812\n"
     ]
    },
    {
     "data": {
      "text/plain": [
       "[0.46327051520347595,\n",
       " 0.7276753783226013,\n",
       " 0.7920315265655518,\n",
       " 0.6811594367027283]"
      ]
     },
     "execution_count": 97,
     "metadata": {},
     "output_type": "execute_result"
    }
   ],
   "source": [
    "model_3.evaluate(X_pad_test_embed_3, y_test_3)"
   ]
  },
  {
   "cell_type": "markdown",
   "id": "2cbb81c1",
   "metadata": {
    "heading_collapsed": true
   },
   "source": [
    "## CNN model"
   ]
  },
  {
   "cell_type": "code",
   "execution_count": 96,
   "id": "671f1aa5",
   "metadata": {
    "hidden": true
   },
   "outputs": [
    {
     "name": "stdout",
     "output_type": "stream",
     "text": [
      "Epoch 1/100\n"
     ]
    },
    {
     "name": "stderr",
     "output_type": "stream",
     "text": [
      "/Users/maximedupouy/.pyenv/versions/3.8.6/envs/lewagon/lib/python3.8/site-packages/tensorflow/python/keras/backend.py:5016: UserWarning: \"`binary_crossentropy` received `from_logits=True`, but the `output` argument was produced by a sigmoid or softmax activation and thus does not represent logits. Was this intended?\"\n",
      "  warnings.warn(\n"
     ]
    },
    {
     "name": "stdout",
     "output_type": "stream",
     "text": [
      "467/467 [==============================] - 2s 3ms/step - loss: 0.6437 - f1_m: 0.4921 - accuracy: 0.6501 - recall: 0.5071 - val_loss: 0.7276 - val_f1_m: 0.6611 - val_accuracy: 0.6992 - val_recall: 0.8081\n",
      "Epoch 2/100\n",
      "467/467 [==============================] - 1s 3ms/step - loss: 0.5301 - f1_m: 0.6419 - accuracy: 0.7488 - recall: 0.6456 - val_loss: 0.5442 - val_f1_m: 0.6351 - val_accuracy: 0.7361 - val_recall: 0.6468\n",
      "Epoch 3/100\n",
      "467/467 [==============================] - 1s 3ms/step - loss: 0.4958 - f1_m: 0.6660 - accuracy: 0.7689 - recall: 0.6667 - val_loss: 0.5513 - val_f1_m: 0.6416 - val_accuracy: 0.7411 - val_recall: 0.6570\n",
      "Epoch 4/100\n",
      "467/467 [==============================] - 1s 3ms/step - loss: 0.4799 - f1_m: 0.6820 - accuracy: 0.7710 - recall: 0.6809 - val_loss: 0.5590 - val_f1_m: 0.6566 - val_accuracy: 0.7498 - val_recall: 0.6875\n",
      "Epoch 5/100\n",
      "467/467 [==============================] - 1s 3ms/step - loss: 0.4633 - f1_m: 0.6906 - accuracy: 0.7775 - recall: 0.6939 - val_loss: 0.5500 - val_f1_m: 0.6207 - val_accuracy: 0.7417 - val_recall: 0.5887\n",
      "Epoch 6/100\n",
      "467/467 [==============================] - 1s 3ms/step - loss: 0.4597 - f1_m: 0.6824 - accuracy: 0.7874 - recall: 0.6945 - val_loss: 0.5795 - val_f1_m: 0.6666 - val_accuracy: 0.7330 - val_recall: 0.7355\n",
      "Epoch 7/100\n",
      "467/467 [==============================] - 1s 3ms/step - loss: 0.4436 - f1_m: 0.7168 - accuracy: 0.7941 - recall: 0.7223 - val_loss: 0.5623 - val_f1_m: 0.6089 - val_accuracy: 0.7398 - val_recall: 0.5872\n",
      "Epoch 8/100\n",
      "467/467 [==============================] - 1s 3ms/step - loss: 0.4281 - f1_m: 0.7231 - accuracy: 0.8043 - recall: 0.7279 - val_loss: 0.6000 - val_f1_m: 0.6261 - val_accuracy: 0.7405 - val_recall: 0.6032\n",
      "Epoch 9/100\n",
      "467/467 [==============================] - 1s 3ms/step - loss: 0.4236 - f1_m: 0.7229 - accuracy: 0.8046 - recall: 0.7322 - val_loss: 0.5952 - val_f1_m: 0.6518 - val_accuracy: 0.7336 - val_recall: 0.6977\n",
      "Epoch 10/100\n",
      "467/467 [==============================] - 1s 3ms/step - loss: 0.4085 - f1_m: 0.7326 - accuracy: 0.8072 - recall: 0.7409 - val_loss: 0.6424 - val_f1_m: 0.6473 - val_accuracy: 0.7442 - val_recall: 0.6686\n",
      "Epoch 11/100\n",
      "467/467 [==============================] - 1s 3ms/step - loss: 0.4023 - f1_m: 0.7437 - accuracy: 0.8161 - recall: 0.7570 - val_loss: 0.6299 - val_f1_m: 0.6319 - val_accuracy: 0.7361 - val_recall: 0.6512\n",
      "Epoch 12/100\n",
      "467/467 [==============================] - 1s 3ms/step - loss: 0.3932 - f1_m: 0.7502 - accuracy: 0.8247 - recall: 0.7687 - val_loss: 0.6815 - val_f1_m: 0.6495 - val_accuracy: 0.7123 - val_recall: 0.7267\n"
     ]
    },
    {
     "data": {
      "text/plain": [
       "<tensorflow.python.keras.callbacks.History at 0x1dae25580>"
      ]
     },
     "execution_count": 96,
     "metadata": {},
     "output_type": "execute_result"
    }
   ],
   "source": [
    "model_cnn= Sequential()\n",
    "model_cnn.add(layers.Masking(mask_value=0., input_shape=(31,50)))\n",
    "model_cnn.add(layers.Conv1D(150, kernel_size=3))\n",
    "model_cnn.add(layers.Conv1D(100, kernel_size=3))\n",
    "model_cnn.add(layers.Conv1D(50, kernel_size=3))\n",
    "model_cnn.add(layers.Dense(4, activation=\"relu\"))\n",
    "model_cnn.add(layers.Flatten())\n",
    "model_cnn.add(layers.Dense(1, activation=\"sigmoid\"))\n",
    "\n",
    "es = EarlyStopping(patience=10, restore_best_weights=True)\n",
    "loss=BinaryCrossentropy(from_logits=True) # default from_logits=False\n",
    "\n",
    "model_cnn.compile(loss=loss,\n",
    "              optimizer='adam',\n",
    "              metrics=[f1_m,'accuracy', 'Recall'])\n",
    "model_cnn.fit(X_pad_train_embed_3, y_train_3, epochs=100, batch_size=8, verbose=1, callbacks=[es], validation_split=0.3)"
   ]
  },
  {
   "cell_type": "code",
   "execution_count": 98,
   "id": "60a19da8",
   "metadata": {
    "hidden": true
   },
   "outputs": [
    {
     "name": "stdout",
     "output_type": "stream",
     "text": [
      "72/72 [==============================] - 0s 2ms/step - loss: 0.5244 - f1_m: 0.6712 - accuracy: 0.7408 - recall: 0.6470\n"
     ]
    },
    {
     "data": {
      "text/plain": [
       "[0.5243917107582092,\n",
       " 0.6711615324020386,\n",
       " 0.7408056259155273,\n",
       " 0.6469979286193848]"
      ]
     },
     "execution_count": 98,
     "metadata": {},
     "output_type": "execute_result"
    }
   ],
   "source": [
    "model_cnn.evaluate(X_pad_test_embed_3, y_test_3)"
   ]
  },
  {
   "cell_type": "markdown",
   "id": "9570de91",
   "metadata": {},
   "source": [
    "## test kaggle"
   ]
  },
  {
   "cell_type": "code",
   "execution_count": 139,
   "id": "f7d5e555",
   "metadata": {},
   "outputs": [],
   "source": [
    "path_test = '../data/test.csv'\n",
    "test_keras_4 = pd.read_csv(path_test)"
   ]
  },
  {
   "cell_type": "code",
   "execution_count": 140,
   "id": "b38cef22",
   "metadata": {},
   "outputs": [
    {
     "name": "stderr",
     "output_type": "stream",
     "text": [
      "/var/folders/rm/v4zjj0453jl2v5pmlsvnhgnc0000gn/T/ipykernel_99167/2174276971.py:12: SettingWithCopyWarning: \n",
      "A value is trying to be set on a copy of a slice from a DataFrame\n",
      "\n",
      "See the caveats in the documentation: https://pandas.pydata.org/pandas-docs/stable/user_guide/indexing.html#returning-a-view-versus-a-copy\n",
      "  text[index] = sentence\n"
     ]
    }
   ],
   "source": [
    "test_keras_4['keyword'] = test_keras_4['keyword'].replace(np.nan, '')\n",
    "test_keras_4['location'] = test_keras_4['location'].replace(np.nan, '')\n",
    "test_keras_4['text'] = test_keras_4['text'].astype('str') +' '+ test_keras_4['keyword'].astype('str')\n",
    "test_keras_4['text'] = test_keras_4['text'].astype('str') +' '+ test_keras_4['location'].astype('str')\n",
    "test_keras_4['text'] = clean_data(test_keras_4['text'], remove_punctuations=True, lower_case=True,remove_numb=True, remove_symbol=True)"
   ]
  },
  {
   "cell_type": "code",
   "execution_count": 141,
   "id": "a862f405",
   "metadata": {},
   "outputs": [
    {
     "name": "stderr",
     "output_type": "stream",
     "text": [
      "/var/folders/rm/v4zjj0453jl2v5pmlsvnhgnc0000gn/T/ipykernel_99167/2954110916.py:2: SettingWithCopyWarning: \n",
      "A value is trying to be set on a copy of a slice from a DataFrame\n",
      "\n",
      "See the caveats in the documentation: https://pandas.pydata.org/pandas-docs/stable/user_guide/indexing.html#returning-a-view-versus-a-copy\n",
      "  test_keras_4['text'][index] = word_tokenize(test_keras_4['text'][index])\n",
      "/var/folders/rm/v4zjj0453jl2v5pmlsvnhgnc0000gn/T/ipykernel_99167/2954110916.py:3: SettingWithCopyWarning: \n",
      "A value is trying to be set on a copy of a slice from a DataFrame\n",
      "\n",
      "See the caveats in the documentation: https://pandas.pydata.org/pandas-docs/stable/user_guide/indexing.html#returning-a-view-versus-a-copy\n",
      "  test_keras_4['text'][index] = [t for t in test_keras_4['text'][index] if t not in stop_words]\n"
     ]
    }
   ],
   "source": [
    "for index, com in enumerate(test_keras_4['text']) :\n",
    "    test_keras_4['text'][index] = word_tokenize(test_keras_4['text'][index])\n",
    "    test_keras_4['text'][index] = [t for t in test_keras_4['text'][index] if t not in stop_words]\n",
    "    "
   ]
  },
  {
   "cell_type": "code",
   "execution_count": 142,
   "id": "db698e36",
   "metadata": {},
   "outputs": [
    {
     "name": "stderr",
     "output_type": "stream",
     "text": [
      "/var/folders/rm/v4zjj0453jl2v5pmlsvnhgnc0000gn/T/ipykernel_99167/3741709548.py:3: SettingWithCopyWarning: \n",
      "A value is trying to be set on a copy of a slice from a DataFrame\n",
      "\n",
      "See the caveats in the documentation: https://pandas.pydata.org/pandas-docs/stable/user_guide/indexing.html#returning-a-view-versus-a-copy\n",
      "  test_keras_4['text'][index] = [lemmatizer.lemmatize(word) for word in test_keras_4['text'][index]]\n"
     ]
    }
   ],
   "source": [
    "lemmatizer = WordNetLemmatizer()\n",
    "for index, com in enumerate(test_keras_4['text']) :\n",
    "    test_keras_4['text'][index] = [lemmatizer.lemmatize(word) for word in test_keras_4['text'][index]]"
   ]
  },
  {
   "cell_type": "code",
   "execution_count": 143,
   "id": "462f181c",
   "metadata": {},
   "outputs": [],
   "source": [
    "X_4_test_kaggle = test_keras_4['text']"
   ]
  },
  {
   "cell_type": "code",
   "execution_count": 144,
   "id": "545f639b",
   "metadata": {},
   "outputs": [
    {
     "name": "stderr",
     "output_type": "stream",
     "text": [
      "/var/folders/rm/v4zjj0453jl2v5pmlsvnhgnc0000gn/T/ipykernel_99167/3236874905.py:18: VisibleDeprecationWarning: Creating an ndarray from ragged nested sequences (which is a list-or-tuple of lists-or-tuples-or ndarrays with different lengths or shapes) is deprecated. If you meant to do this, you must specify 'dtype=object' when creating the ndarray\n",
      "  return np.array(embed)\n"
     ]
    },
    {
     "data": {
      "text/plain": [
       "(3263,)"
      ]
     },
     "execution_count": 144,
     "metadata": {},
     "output_type": "execute_result"
    }
   ],
   "source": [
    "# Function to convert a sentence (list of words) into a matrix representing the words in the embedding space\n",
    "def embed_sentence_with_TF(word2vec, sentence):\n",
    "    embedded_sentence = []\n",
    "    for word in sentence:\n",
    "        if word in word2vec:\n",
    "            embedded_sentence.append(word2vec[word])\n",
    "        \n",
    "    return np.array(embedded_sentence)\n",
    "\n",
    "# Function that converts a list of sentences into a list of matrices\n",
    "def embedding(word2vec, sentences):\n",
    "    embed = []\n",
    "    \n",
    "    for sentence in sentences:\n",
    "        embedded_sentence = embed_sentence_with_TF(word2vec, sentence)\n",
    "        embed.append(embedded_sentence)\n",
    "        \n",
    "    return np.array(embed)\n",
    "\n",
    "\n",
    "\n",
    "X_test_kaggle_embed = embedding(word2vec_transfer, X_4_test_kaggle)\n",
    "X_test_kaggle_embed.shape"
   ]
  },
  {
   "cell_type": "code",
   "execution_count": 145,
   "id": "ef694612",
   "metadata": {},
   "outputs": [],
   "source": [
    "X_test_pad_kaggle_embed = pad_sequences(X_test_kaggle_embed, dtype='float32', padding='post', maxlen=31, value=0.)"
   ]
  },
  {
   "cell_type": "code",
   "execution_count": 146,
   "id": "4b670ecf",
   "metadata": {},
   "outputs": [
    {
     "data": {
      "text/plain": [
       "(3263, 31, 50)"
      ]
     },
     "execution_count": 146,
     "metadata": {},
     "output_type": "execute_result"
    }
   ],
   "source": [
    "X_test_pad_kaggle_embed.shape"
   ]
  },
  {
   "cell_type": "code",
   "execution_count": 147,
   "id": "5003b15d",
   "metadata": {},
   "outputs": [],
   "source": [
    "y_pred = model_3.predict(X_test_pad_kaggle_embed)\n",
    "y_pred_cnn = model_cnn.predict(X_test_pad_kaggle_embed)"
   ]
  },
  {
   "cell_type": "code",
   "execution_count": 148,
   "id": "f7240591",
   "metadata": {},
   "outputs": [
    {
     "data": {
      "text/plain": [
       "3263"
      ]
     },
     "execution_count": 148,
     "metadata": {},
     "output_type": "execute_result"
    }
   ],
   "source": [
    "res_binary_4 = []\n",
    "for num in y_pred : \n",
    "    if num< 0.5:\n",
    "        res_binary_4.append(0)\n",
    "    else :\n",
    "        res_binary_4.append(1)\n",
    "len(res_binary_4)"
   ]
  },
  {
   "cell_type": "code",
   "execution_count": 149,
   "id": "8978ec4a",
   "metadata": {},
   "outputs": [
    {
     "data": {
      "text/plain": [
       "3263"
      ]
     },
     "execution_count": 149,
     "metadata": {},
     "output_type": "execute_result"
    }
   ],
   "source": [
    "res_binary_cnn = []\n",
    "for num in y_pred_cnn : \n",
    "    if num< 0.5:\n",
    "        res_binary_cnn.append(0)\n",
    "    else :\n",
    "        res_binary_cnn.append(1)\n",
    "len(res_binary_cnn)"
   ]
  },
  {
   "cell_type": "code",
   "execution_count": 150,
   "id": "87b96982",
   "metadata": {},
   "outputs": [],
   "source": [
    "res_test_4 = pd.DataFrame(res_binary_4, columns=['target'])\n",
    "res_test_cnn = pd.DataFrame(res_binary_cnn, columns=['target'])"
   ]
  },
  {
   "cell_type": "code",
   "execution_count": 151,
   "id": "8bbee3e0",
   "metadata": {},
   "outputs": [],
   "source": [
    "res_test_4['id']= test_keras_4['id']\n",
    "res_test_cnn['id']= test_keras_4['id']\n",
    "res_test_4 = res_test_4[['id', 'target']]\n",
    "res_test_cnn = res_test_cnn[['id', 'target']]\n"
   ]
  },
  {
   "cell_type": "code",
   "execution_count": 152,
   "id": "fcd4c890",
   "metadata": {},
   "outputs": [],
   "source": [
    "res_test_4.to_csv('challenge_kaggle_5_nlp.csv', index=False)\n",
    "res_test_4.to_csv('challenge_kaggle_cnn_nlp.csv', index=False)"
   ]
  },
  {
   "cell_type": "markdown",
   "id": "7a38e618",
   "metadata": {},
   "source": [
    "# Bayes"
   ]
  },
  {
   "cell_type": "code",
   "execution_count": 177,
   "id": "7a08fcfd",
   "metadata": {},
   "outputs": [],
   "source": [
    "def return_sentence(text):\n",
    "    sentence = ' '.join(word for word in text)\n",
    "    return sentence"
   ]
  },
  {
   "cell_type": "code",
   "execution_count": 185,
   "id": "da07c3cb",
   "metadata": {},
   "outputs": [
    {
     "data": {
      "text/plain": [
       "0              deed reason earthquake may allah forgive u\n",
       "1                   forest fire near la ronge sask canada\n",
       "2       resident asked shelter place notified officer ...\n",
       "3       people receive wildfire evacuation order calif...\n",
       "4       got sent photo ruby alaska smoke wildfire pour...\n",
       "                              ...                        \n",
       "7608    two giant crane holding bridge collapse nearby...\n",
       "7609    ariaahrary thetawniest control wild fire calif...\n",
       "7610                utckm volcano hawaii httptcozdtoydebj\n",
       "7611    police investigating ebike collided car little...\n",
       "7612    latest home razed northern california wildfire...\n",
       "Name: text, Length: 7613, dtype: object"
      ]
     },
     "execution_count": 185,
     "metadata": {},
     "output_type": "execute_result"
    }
   ],
   "source": [
    "X_3 = X_3.map(return_sentence)\n",
    "X_3"
   ]
  },
  {
   "cell_type": "code",
   "execution_count": 186,
   "id": "39926f72",
   "metadata": {},
   "outputs": [
    {
     "data": {
      "text/plain": [
       "0.8911073164324183"
      ]
     },
     "execution_count": 186,
     "metadata": {},
     "output_type": "execute_result"
    }
   ],
   "source": [
    "vectorizer = TfidfVectorizer()\n",
    "X = vectorizer.fit_transform(X_3)\n",
    "y = y_3\n",
    "nb_model = MultinomialNB()\n",
    "nb_model.fit(X,y)\n",
    "nb_model.score(X,y)"
   ]
  },
  {
   "cell_type": "code",
   "execution_count": 189,
   "id": "e2497bf1",
   "metadata": {},
   "outputs": [],
   "source": [
    "X_4_test_kaggle = X_4_test_kaggle.map(return_sentence)"
   ]
  },
  {
   "cell_type": "code",
   "execution_count": 190,
   "id": "e6546fb7",
   "metadata": {},
   "outputs": [],
   "source": [
    "X_4_test_kaggle = vectorizer.transform(X_4_test_kaggle)"
   ]
  },
  {
   "cell_type": "code",
   "execution_count": 194,
   "id": "2375391e",
   "metadata": {},
   "outputs": [],
   "source": [
    "res_bayes = nb_model.predict(X_4_test_kaggle)\n",
    "res_bayes = pd.DataFrame(res_bayes, columns=['target'])"
   ]
  },
  {
   "cell_type": "code",
   "execution_count": 195,
   "id": "fb128d61",
   "metadata": {},
   "outputs": [],
   "source": [
    "res_bayes['id']= test_keras_4['id']\n",
    "res_bayes = res_bayes[['id', 'target']]"
   ]
  },
  {
   "cell_type": "code",
   "execution_count": 197,
   "id": "26580531",
   "metadata": {},
   "outputs": [],
   "source": [
    "res_bayes.to_csv('../test_challenge_kaggle/challenge_kaggle_6_nlp.csv', index=False)"
   ]
  },
  {
   "cell_type": "code",
   "execution_count": null,
   "id": "d7426f34",
   "metadata": {},
   "outputs": [],
   "source": []
  }
 ],
 "metadata": {
  "kernelspec": {
   "display_name": "Python 3 (ipykernel)",
   "language": "python",
   "name": "python3"
  },
  "language_info": {
   "codemirror_mode": {
    "name": "ipython",
    "version": 3
   },
   "file_extension": ".py",
   "mimetype": "text/x-python",
   "name": "python",
   "nbconvert_exporter": "python",
   "pygments_lexer": "ipython3",
   "version": "3.8.6"
  },
  "toc": {
   "base_numbering": 1,
   "nav_menu": {},
   "number_sections": true,
   "sideBar": true,
   "skip_h1_title": false,
   "title_cell": "Table of Contents",
   "title_sidebar": "Contents",
   "toc_cell": false,
   "toc_position": {},
   "toc_section_display": true,
   "toc_window_display": false
  }
 },
 "nbformat": 4,
 "nbformat_minor": 5
}
