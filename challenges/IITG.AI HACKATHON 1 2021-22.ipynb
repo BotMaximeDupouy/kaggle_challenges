{
 "cells": [
  {
   "cell_type": "markdown",
   "id": "f9cab05d",
   "metadata": {},
   "source": [
    "# Import"
   ]
  },
  {
   "cell_type": "code",
   "execution_count": 144,
   "id": "b60a59a8",
   "metadata": {},
   "outputs": [],
   "source": [
    "import pandas as pd\n",
    "import numpy as np\n",
    "import matplotlib.pyplot as plt\n",
    "import seaborn as sns\n",
    "from sklearn.ensemble import RandomForestClassifier\n",
    "from sklearn.model_selection import train_test_split\n",
    "from sklearn.model_selection import cross_val_score\n",
    "from sklearn.preprocessing import StandardScaler\n",
    "from sklearn.svm import SVC\n",
    "from imblearn.over_sampling import KMeansSMOTE, SVMSMOTE\n",
    "from sklearn.decomposition import PCA\n",
    "from tensorflow.keras import Sequential, layers, regularizers\n",
    "from tensorflow.keras.utils import to_categorical\n",
    "from tensorflow.keras.callbacks import EarlyStopping\n",
    "from tensorflow.keras.metrics import AUC\n",
    "from tensorflow.keras.metrics import RootMeanSquaredError\n",
    "from sklearn.inspection import permutation_importance"
   ]
  },
  {
   "cell_type": "markdown",
   "id": "b4dc66b3",
   "metadata": {},
   "source": [
    "# load data"
   ]
  },
  {
   "cell_type": "code",
   "execution_count": 2,
   "id": "9a967c7f",
   "metadata": {},
   "outputs": [
    {
     "name": "stderr",
     "output_type": "stream",
     "text": [
      "/Users/maximedupouy/.pyenv/versions/3.8.6/envs/lewagon/lib/python3.8/site-packages/IPython/core/interactiveshell.py:3441: DtypeWarning: Columns (74) have mixed types.Specify dtype option on import or set low_memory=False.\n",
      "  exec(code_obj, self.user_global_ns, self.user_ns)\n"
     ]
    },
    {
     "data": {
      "text/html": [
       "<div>\n",
       "<style scoped>\n",
       "    .dataframe tbody tr th:only-of-type {\n",
       "        vertical-align: middle;\n",
       "    }\n",
       "\n",
       "    .dataframe tbody tr th {\n",
       "        vertical-align: top;\n",
       "    }\n",
       "\n",
       "    .dataframe thead th {\n",
       "        text-align: right;\n",
       "    }\n",
       "</style>\n",
       "<table border=\"1\" class=\"dataframe\">\n",
       "  <thead>\n",
       "    <tr style=\"text-align: right;\">\n",
       "      <th></th>\n",
       "      <th>id</th>\n",
       "      <th>Q1</th>\n",
       "      <th>Q2</th>\n",
       "      <th>Q3</th>\n",
       "      <th>Q4</th>\n",
       "      <th>Q5</th>\n",
       "      <th>Q6</th>\n",
       "      <th>Q7</th>\n",
       "      <th>Q8</th>\n",
       "      <th>Q9</th>\n",
       "      <th>...</th>\n",
       "      <th>major</th>\n",
       "      <th>race_arab</th>\n",
       "      <th>race_asian</th>\n",
       "      <th>race_black</th>\n",
       "      <th>race_white</th>\n",
       "      <th>race_hispanic</th>\n",
       "      <th>race_nativeam</th>\n",
       "      <th>race_nativeau</th>\n",
       "      <th>race_other</th>\n",
       "      <th>nerdy</th>\n",
       "    </tr>\n",
       "  </thead>\n",
       "  <tbody>\n",
       "    <tr>\n",
       "      <th>0</th>\n",
       "      <td>811406</td>\n",
       "      <td>4</td>\n",
       "      <td>5</td>\n",
       "      <td>5</td>\n",
       "      <td>4</td>\n",
       "      <td>5</td>\n",
       "      <td>4</td>\n",
       "      <td>5</td>\n",
       "      <td>3</td>\n",
       "      <td>4</td>\n",
       "      <td>...</td>\n",
       "      <td>NaN</td>\n",
       "      <td>0</td>\n",
       "      <td>0</td>\n",
       "      <td>0</td>\n",
       "      <td>1</td>\n",
       "      <td>0</td>\n",
       "      <td>0</td>\n",
       "      <td>0</td>\n",
       "      <td>0</td>\n",
       "      <td>6</td>\n",
       "    </tr>\n",
       "    <tr>\n",
       "      <th>1</th>\n",
       "      <td>248038</td>\n",
       "      <td>4</td>\n",
       "      <td>3</td>\n",
       "      <td>3</td>\n",
       "      <td>2</td>\n",
       "      <td>5</td>\n",
       "      <td>3</td>\n",
       "      <td>3</td>\n",
       "      <td>5</td>\n",
       "      <td>4</td>\n",
       "      <td>...</td>\n",
       "      <td>NaN</td>\n",
       "      <td>0</td>\n",
       "      <td>1</td>\n",
       "      <td>0</td>\n",
       "      <td>0</td>\n",
       "      <td>0</td>\n",
       "      <td>0</td>\n",
       "      <td>0</td>\n",
       "      <td>0</td>\n",
       "      <td>4</td>\n",
       "    </tr>\n",
       "    <tr>\n",
       "      <th>2</th>\n",
       "      <td>847531</td>\n",
       "      <td>5</td>\n",
       "      <td>5</td>\n",
       "      <td>5</td>\n",
       "      <td>5</td>\n",
       "      <td>5</td>\n",
       "      <td>5</td>\n",
       "      <td>5</td>\n",
       "      <td>5</td>\n",
       "      <td>4</td>\n",
       "      <td>...</td>\n",
       "      <td>Buisiness Studies</td>\n",
       "      <td>Art</td>\n",
       "      <td>Geography</td>\n",
       "      <td>Biology</td>\n",
       "      <td>G</td>\n",
       "      <td>0</td>\n",
       "      <td>0</td>\n",
       "      <td>0</td>\n",
       "      <td>1</td>\n",
       "      <td>0</td>\n",
       "    </tr>\n",
       "    <tr>\n",
       "      <th>3</th>\n",
       "      <td>708422</td>\n",
       "      <td>1</td>\n",
       "      <td>1</td>\n",
       "      <td>3</td>\n",
       "      <td>1</td>\n",
       "      <td>4</td>\n",
       "      <td>4</td>\n",
       "      <td>5</td>\n",
       "      <td>1</td>\n",
       "      <td>3</td>\n",
       "      <td>...</td>\n",
       "      <td>economics</td>\n",
       "      <td>0</td>\n",
       "      <td>0</td>\n",
       "      <td>0</td>\n",
       "      <td>1</td>\n",
       "      <td>0</td>\n",
       "      <td>0</td>\n",
       "      <td>0</td>\n",
       "      <td>0</td>\n",
       "      <td>4</td>\n",
       "    </tr>\n",
       "    <tr>\n",
       "      <th>4</th>\n",
       "      <td>269597</td>\n",
       "      <td>5</td>\n",
       "      <td>1</td>\n",
       "      <td>2</td>\n",
       "      <td>5</td>\n",
       "      <td>4</td>\n",
       "      <td>2</td>\n",
       "      <td>4</td>\n",
       "      <td>4</td>\n",
       "      <td>3</td>\n",
       "      <td>...</td>\n",
       "      <td>Currently attending programming</td>\n",
       "      <td>0</td>\n",
       "      <td>0</td>\n",
       "      <td>0</td>\n",
       "      <td>1</td>\n",
       "      <td>0</td>\n",
       "      <td>0</td>\n",
       "      <td>0</td>\n",
       "      <td>0</td>\n",
       "      <td>5</td>\n",
       "    </tr>\n",
       "  </tbody>\n",
       "</table>\n",
       "<p>5 rows × 80 columns</p>\n",
       "</div>"
      ],
      "text/plain": [
       "       id  Q1  Q2  Q3  Q4  Q5  Q6  Q7  Q8  Q9  ...  \\\n",
       "0  811406   4   5   5   4   5   4   5   3   4  ...   \n",
       "1  248038   4   3   3   2   5   3   3   5   4  ...   \n",
       "2  847531   5   5   5   5   5   5   5   5   4  ...   \n",
       "3  708422   1   1   3   1   4   4   5   1   3  ...   \n",
       "4  269597   5   1   2   5   4   2   4   4   3  ...   \n",
       "\n",
       "                             major  race_arab  race_asian  race_black  \\\n",
       "0                              NaN          0           0           0   \n",
       "1                              NaN          0           1           0   \n",
       "2                Buisiness Studies        Art   Geography     Biology   \n",
       "3                        economics          0           0           0   \n",
       "4  Currently attending programming          0           0           0   \n",
       "\n",
       "   race_white  race_hispanic  race_nativeam  race_nativeau  race_other  nerdy  \n",
       "0           1              0              0              0           0      6  \n",
       "1           0              0              0              0           0      4  \n",
       "2           G              0              0              0           1      0  \n",
       "3           1              0              0              0           0      4  \n",
       "4           1              0              0              0           0      5  \n",
       "\n",
       "[5 rows x 80 columns]"
      ]
     },
     "execution_count": 2,
     "metadata": {},
     "output_type": "execute_result"
    }
   ],
   "source": [
    "path = \"../data/IITG.AI HACKATHON 1 2021-22/train.csv\"\n",
    "df = pd.read_csv(path)\n",
    "df.head()"
   ]
  },
  {
   "cell_type": "code",
   "execution_count": 3,
   "id": "ec872a64",
   "metadata": {},
   "outputs": [
    {
     "name": "stdout",
     "output_type": "stream",
     "text": [
      "<class 'pandas.core.frame.DataFrame'>\n",
      "RangeIndex: 15135 entries, 0 to 15134\n",
      "Data columns (total 80 columns):\n",
      " #   Column         Non-Null Count  Dtype \n",
      "---  ------         --------------  ----- \n",
      " 0   id             15135 non-null  int64 \n",
      " 1   Q1             15135 non-null  int64 \n",
      " 2   Q2             15135 non-null  int64 \n",
      " 3   Q3             15135 non-null  int64 \n",
      " 4   Q4             15135 non-null  int64 \n",
      " 5   Q5             15135 non-null  int64 \n",
      " 6   Q6             15135 non-null  int64 \n",
      " 7   Q7             15135 non-null  int64 \n",
      " 8   Q8             15135 non-null  int64 \n",
      " 9   Q9             15135 non-null  int64 \n",
      " 10  Q10            15135 non-null  int64 \n",
      " 11  Q11            15135 non-null  int64 \n",
      " 12  Q12            15135 non-null  int64 \n",
      " 13  Q13            15135 non-null  int64 \n",
      " 14  Q14            15135 non-null  int64 \n",
      " 15  Q15            15135 non-null  int64 \n",
      " 16  Q16            15135 non-null  int64 \n",
      " 17  Q17            15135 non-null  int64 \n",
      " 18  Q18            15135 non-null  int64 \n",
      " 19  Q19            15135 non-null  int64 \n",
      " 20  Q20            15135 non-null  int64 \n",
      " 21  Q21            15135 non-null  int64 \n",
      " 22  Q22            15135 non-null  int64 \n",
      " 23  Q23            15135 non-null  int64 \n",
      " 24  Q24            15135 non-null  int64 \n",
      " 25  Q25            15135 non-null  int64 \n",
      " 26  Q26            15135 non-null  int64 \n",
      " 27  country        15133 non-null  object\n",
      " 28  introelapse    15135 non-null  int64 \n",
      " 29  testelapse     15135 non-null  int64 \n",
      " 30  surveyelapse   15135 non-null  int64 \n",
      " 31  TIPI1          15135 non-null  int64 \n",
      " 32  TIPI2          15135 non-null  int64 \n",
      " 33  TIPI3          15135 non-null  int64 \n",
      " 34  TIPI4          15135 non-null  int64 \n",
      " 35  TIPI5          15135 non-null  int64 \n",
      " 36  TIPI6          15135 non-null  int64 \n",
      " 37  TIPI7          15135 non-null  int64 \n",
      " 38  TIPI8          15135 non-null  int64 \n",
      " 39  TIPI9          15135 non-null  int64 \n",
      " 40  TIPI10         15135 non-null  int64 \n",
      " 41  VCL1           15135 non-null  int64 \n",
      " 42  VCL2           15135 non-null  int64 \n",
      " 43  VCL3           15135 non-null  int64 \n",
      " 44  VCL4           15135 non-null  int64 \n",
      " 45  VCL5           15135 non-null  int64 \n",
      " 46  VCL6           15135 non-null  int64 \n",
      " 47  VCL7           15135 non-null  int64 \n",
      " 48  VCL8           15135 non-null  int64 \n",
      " 49  VCL9           15135 non-null  int64 \n",
      " 50  VCL10          15135 non-null  int64 \n",
      " 51  VCL11          15135 non-null  int64 \n",
      " 52  VCL12          15135 non-null  int64 \n",
      " 53  VCL13          15135 non-null  int64 \n",
      " 54  VCL14          15135 non-null  int64 \n",
      " 55  VCL15          15135 non-null  int64 \n",
      " 56  VCL16          15135 non-null  int64 \n",
      " 57  education      15135 non-null  int64 \n",
      " 58  urban          15135 non-null  int64 \n",
      " 59  gender         15135 non-null  int64 \n",
      " 60  engnat         15135 non-null  int64 \n",
      " 61  age            15135 non-null  int64 \n",
      " 62  screenw        15135 non-null  int64 \n",
      " 63  screenh        15135 non-null  int64 \n",
      " 64  hand           15135 non-null  int64 \n",
      " 65  religion       15135 non-null  int64 \n",
      " 66  orientation    15135 non-null  int64 \n",
      " 67  voted          15135 non-null  int64 \n",
      " 68  married        15135 non-null  int64 \n",
      " 69  familysize     15135 non-null  int64 \n",
      " 70  major          8476 non-null   object\n",
      " 71  race_arab      15135 non-null  object\n",
      " 72  race_asian     15133 non-null  object\n",
      " 73  race_black     15135 non-null  object\n",
      " 74  race_white     15135 non-null  object\n",
      " 75  race_hispanic  15135 non-null  int64 \n",
      " 76  race_nativeam  15135 non-null  int64 \n",
      " 77  race_nativeau  15135 non-null  int64 \n",
      " 78  race_other     15135 non-null  int64 \n",
      " 79  nerdy          15135 non-null  int64 \n",
      "dtypes: int64(74), object(6)\n",
      "memory usage: 9.2+ MB\n"
     ]
    }
   ],
   "source": [
    "df.info()"
   ]
  },
  {
   "cell_type": "code",
   "execution_count": 4,
   "id": "b0f0ca90",
   "metadata": {},
   "outputs": [
    {
     "data": {
      "text/plain": [
       "<AxesSubplot:xlabel='nerdy', ylabel='Count'>"
      ]
     },
     "execution_count": 4,
     "metadata": {},
     "output_type": "execute_result"
    },
    {
     "data": {
      "image/png": "[encoded data removed]",
      "text/plain": [
       "<Figure size 432x288 with 1 Axes>"
      ]
     },
     "metadata": {
      "needs_background": "light"
     },
     "output_type": "display_data"
    }
   ],
   "source": [
    "sns.histplot(df['nerdy'], color='pink')"
   ]
  },
  {
   "cell_type": "markdown",
   "id": "6cfa87bf",
   "metadata": {},
   "source": [
    "# data explo/cleaning"
   ]
  },
  {
   "cell_type": "code",
   "execution_count": 5,
   "id": "4873fe32",
   "metadata": {},
   "outputs": [
    {
     "data": {
      "text/plain": [
       "(15135, 80)"
      ]
     },
     "execution_count": 5,
     "metadata": {},
     "output_type": "execute_result"
    }
   ],
   "source": [
    "df.shape"
   ]
  },
  {
   "cell_type": "code",
   "execution_count": 6,
   "id": "99c293e3",
   "metadata": {},
   "outputs": [
    {
     "data": {
      "text/plain": [
       "Index(['id', 'Q1', 'Q2', 'Q3', 'Q4', 'Q5', 'Q6', 'Q7', 'Q8', 'Q9', 'Q10',\n",
       "       'Q11', 'Q12', 'Q13', 'Q14', 'Q15', 'Q16', 'Q17', 'Q18', 'Q19', 'Q20',\n",
       "       'Q21', 'Q22', 'Q23', 'Q24', 'Q25', 'Q26', 'country', 'introelapse',\n",
       "       'testelapse', 'surveyelapse', 'TIPI1', 'TIPI2', 'TIPI3', 'TIPI4',\n",
       "       'TIPI5', 'TIPI6', 'TIPI7', 'TIPI8', 'TIPI9', 'TIPI10', 'VCL1', 'VCL2',\n",
       "       'VCL3', 'VCL4', 'VCL5', 'VCL6', 'VCL7', 'VCL8', 'VCL9', 'VCL10',\n",
       "       'VCL11', 'VCL12', 'VCL13', 'VCL14', 'VCL15', 'VCL16', 'education',\n",
       "       'urban', 'gender', 'engnat', 'age', 'screenw', 'screenh', 'hand',\n",
       "       'religion', 'orientation', 'voted', 'married', 'familysize', 'major',\n",
       "       'race_arab', 'race_asian', 'race_black', 'race_white', 'race_hispanic',\n",
       "       'race_nativeam', 'race_nativeau', 'race_other', 'nerdy'],\n",
       "      dtype='object')"
      ]
     },
     "execution_count": 6,
     "metadata": {},
     "output_type": "execute_result"
    }
   ],
   "source": [
    "columns = df.columns\n",
    "columns"
   ]
  },
  {
   "cell_type": "markdown",
   "id": "ef0a95bc",
   "metadata": {},
   "source": [
    "## race questions"
   ]
  },
  {
   "cell_type": "code",
   "execution_count": 7,
   "id": "a174624e",
   "metadata": {},
   "outputs": [
    {
     "data": {
      "text/html": [
       "<div>\n",
       "<style scoped>\n",
       "    .dataframe tbody tr th:only-of-type {\n",
       "        vertical-align: middle;\n",
       "    }\n",
       "\n",
       "    .dataframe tbody tr th {\n",
       "        vertical-align: top;\n",
       "    }\n",
       "\n",
       "    .dataframe thead th {\n",
       "        text-align: right;\n",
       "    }\n",
       "</style>\n",
       "<table border=\"1\" class=\"dataframe\">\n",
       "  <thead>\n",
       "    <tr style=\"text-align: right;\">\n",
       "      <th></th>\n",
       "      <th>race_arab</th>\n",
       "      <th>race_asian</th>\n",
       "      <th>race_black</th>\n",
       "      <th>race_white</th>\n",
       "    </tr>\n",
       "  </thead>\n",
       "  <tbody>\n",
       "    <tr>\n",
       "      <th>0</th>\n",
       "      <td>0</td>\n",
       "      <td>0</td>\n",
       "      <td>0</td>\n",
       "      <td>1</td>\n",
       "    </tr>\n",
       "    <tr>\n",
       "      <th>1</th>\n",
       "      <td>0</td>\n",
       "      <td>1</td>\n",
       "      <td>0</td>\n",
       "      <td>0</td>\n",
       "    </tr>\n",
       "    <tr>\n",
       "      <th>2</th>\n",
       "      <td>Art</td>\n",
       "      <td>Geography</td>\n",
       "      <td>Biology</td>\n",
       "      <td>G</td>\n",
       "    </tr>\n",
       "    <tr>\n",
       "      <th>3</th>\n",
       "      <td>0</td>\n",
       "      <td>0</td>\n",
       "      <td>0</td>\n",
       "      <td>1</td>\n",
       "    </tr>\n",
       "    <tr>\n",
       "      <th>4</th>\n",
       "      <td>0</td>\n",
       "      <td>0</td>\n",
       "      <td>0</td>\n",
       "      <td>1</td>\n",
       "    </tr>\n",
       "    <tr>\n",
       "      <th>...</th>\n",
       "      <td>...</td>\n",
       "      <td>...</td>\n",
       "      <td>...</td>\n",
       "      <td>...</td>\n",
       "    </tr>\n",
       "    <tr>\n",
       "      <th>15130</th>\n",
       "      <td>0</td>\n",
       "      <td>0</td>\n",
       "      <td>0</td>\n",
       "      <td>0</td>\n",
       "    </tr>\n",
       "    <tr>\n",
       "      <th>15131</th>\n",
       "      <td>0</td>\n",
       "      <td>0</td>\n",
       "      <td>0</td>\n",
       "      <td>1</td>\n",
       "    </tr>\n",
       "    <tr>\n",
       "      <th>15132</th>\n",
       "      <td>0</td>\n",
       "      <td>0</td>\n",
       "      <td>0</td>\n",
       "      <td>1</td>\n",
       "    </tr>\n",
       "    <tr>\n",
       "      <th>15133</th>\n",
       "      <td>0</td>\n",
       "      <td>0</td>\n",
       "      <td>0</td>\n",
       "      <td>1</td>\n",
       "    </tr>\n",
       "    <tr>\n",
       "      <th>15134</th>\n",
       "      <td>0</td>\n",
       "      <td>0</td>\n",
       "      <td>0</td>\n",
       "      <td>1</td>\n",
       "    </tr>\n",
       "  </tbody>\n",
       "</table>\n",
       "<p>15135 rows × 4 columns</p>\n",
       "</div>"
      ],
      "text/plain": [
       "      race_arab  race_asian race_black race_white\n",
       "0             0           0          0          1\n",
       "1             0           1          0          0\n",
       "2           Art   Geography    Biology          G\n",
       "3             0           0          0          1\n",
       "4             0           0          0          1\n",
       "...         ...         ...        ...        ...\n",
       "15130         0           0          0          0\n",
       "15131         0           0          0          1\n",
       "15132         0           0          0          1\n",
       "15133         0           0          0          1\n",
       "15134         0           0          0          1\n",
       "\n",
       "[15135 rows x 4 columns]"
      ]
     },
     "execution_count": 7,
     "metadata": {},
     "output_type": "execute_result"
    }
   ],
   "source": [
    "df_race = df[columns[71:75]]\n",
    "df_race"
   ]
  },
  {
   "cell_type": "code",
   "execution_count": 8,
   "id": "348e91c6",
   "metadata": {},
   "outputs": [],
   "source": [
    "columns_race = df_race.columns"
   ]
  },
  {
   "cell_type": "code",
   "execution_count": 9,
   "id": "8a063d77",
   "metadata": {},
   "outputs": [],
   "source": [
    "def del_word(value):\n",
    "    if value == \"0\" or value ==\"1\":\n",
    "        value = int(value)\n",
    "    else:\n",
    "        value = 0\n",
    "    return value"
   ]
  },
  {
   "cell_type": "code",
   "execution_count": 10,
   "id": "19d397d0",
   "metadata": {},
   "outputs": [],
   "source": [
    "for column in columns_race:\n",
    "    df[column] = df[column].apply(del_word)"
   ]
  },
  {
   "cell_type": "code",
   "execution_count": 12,
   "id": "1ccb601d",
   "metadata": {},
   "outputs": [
    {
     "data": {
      "text/plain": [
       "<AxesSubplot:>"
      ]
     },
     "execution_count": 12,
     "metadata": {},
     "output_type": "execute_result"
    },
    {
     "data": {
      "image/png": "[encoded data removed]",
      "text/plain": [
       "<Figure size 432x288 with 2 Axes>"
      ]
     },
     "metadata": {
      "needs_background": "light"
     },
     "output_type": "display_data"
    }
   ],
   "source": [
    "df_race_ = df[['race_arab','race_asian','race_black', 'race_white','race_hispanic','race_nativeam','race_other','nerdy' ]]\n",
    "sns.heatmap((df_race_).corr())"
   ]
  },
  {
   "cell_type": "code",
   "execution_count": 13,
   "id": "df808c6c",
   "metadata": {},
   "outputs": [
    {
     "data": {
      "text/html": [
       "<div>\n",
       "<style scoped>\n",
       "    .dataframe tbody tr th:only-of-type {\n",
       "        vertical-align: middle;\n",
       "    }\n",
       "\n",
       "    .dataframe tbody tr th {\n",
       "        vertical-align: top;\n",
       "    }\n",
       "\n",
       "    .dataframe thead th {\n",
       "        text-align: right;\n",
       "    }\n",
       "</style>\n",
       "<table border=\"1\" class=\"dataframe\">\n",
       "  <thead>\n",
       "    <tr style=\"text-align: right;\">\n",
       "      <th></th>\n",
       "      <th>race_arab</th>\n",
       "      <th>race_asian</th>\n",
       "      <th>race_black</th>\n",
       "      <th>race_white</th>\n",
       "      <th>race_hispanic</th>\n",
       "      <th>race_nativeam</th>\n",
       "      <th>race_other</th>\n",
       "      <th>nerdy</th>\n",
       "    </tr>\n",
       "  </thead>\n",
       "  <tbody>\n",
       "    <tr>\n",
       "      <th>count</th>\n",
       "      <td>15135.000000</td>\n",
       "      <td>15135.000000</td>\n",
       "      <td>15135.000000</td>\n",
       "      <td>15135.000000</td>\n",
       "      <td>15135.000000</td>\n",
       "      <td>15135.000000</td>\n",
       "      <td>15135.000000</td>\n",
       "      <td>15135.000000</td>\n",
       "    </tr>\n",
       "    <tr>\n",
       "      <th>mean</th>\n",
       "      <td>0.018897</td>\n",
       "      <td>0.152560</td>\n",
       "      <td>0.048167</td>\n",
       "      <td>0.400198</td>\n",
       "      <td>0.106178</td>\n",
       "      <td>0.040106</td>\n",
       "      <td>0.072811</td>\n",
       "      <td>5.377800</td>\n",
       "    </tr>\n",
       "    <tr>\n",
       "      <th>std</th>\n",
       "      <td>0.136164</td>\n",
       "      <td>0.359575</td>\n",
       "      <td>0.214125</td>\n",
       "      <td>0.489955</td>\n",
       "      <td>0.308075</td>\n",
       "      <td>0.196214</td>\n",
       "      <td>0.259835</td>\n",
       "      <td>1.559145</td>\n",
       "    </tr>\n",
       "    <tr>\n",
       "      <th>min</th>\n",
       "      <td>0.000000</td>\n",
       "      <td>0.000000</td>\n",
       "      <td>0.000000</td>\n",
       "      <td>0.000000</td>\n",
       "      <td>0.000000</td>\n",
       "      <td>0.000000</td>\n",
       "      <td>0.000000</td>\n",
       "      <td>0.000000</td>\n",
       "    </tr>\n",
       "    <tr>\n",
       "      <th>25%</th>\n",
       "      <td>0.000000</td>\n",
       "      <td>0.000000</td>\n",
       "      <td>0.000000</td>\n",
       "      <td>0.000000</td>\n",
       "      <td>0.000000</td>\n",
       "      <td>0.000000</td>\n",
       "      <td>0.000000</td>\n",
       "      <td>5.000000</td>\n",
       "    </tr>\n",
       "    <tr>\n",
       "      <th>50%</th>\n",
       "      <td>0.000000</td>\n",
       "      <td>0.000000</td>\n",
       "      <td>0.000000</td>\n",
       "      <td>0.000000</td>\n",
       "      <td>0.000000</td>\n",
       "      <td>0.000000</td>\n",
       "      <td>0.000000</td>\n",
       "      <td>6.000000</td>\n",
       "    </tr>\n",
       "    <tr>\n",
       "      <th>75%</th>\n",
       "      <td>0.000000</td>\n",
       "      <td>0.000000</td>\n",
       "      <td>0.000000</td>\n",
       "      <td>1.000000</td>\n",
       "      <td>0.000000</td>\n",
       "      <td>0.000000</td>\n",
       "      <td>0.000000</td>\n",
       "      <td>7.000000</td>\n",
       "    </tr>\n",
       "    <tr>\n",
       "      <th>max</th>\n",
       "      <td>1.000000</td>\n",
       "      <td>1.000000</td>\n",
       "      <td>1.000000</td>\n",
       "      <td>1.000000</td>\n",
       "      <td>1.000000</td>\n",
       "      <td>1.000000</td>\n",
       "      <td>1.000000</td>\n",
       "      <td>7.000000</td>\n",
       "    </tr>\n",
       "  </tbody>\n",
       "</table>\n",
       "</div>"
      ],
      "text/plain": [
       "          race_arab    race_asian    race_black    race_white  race_hispanic  \\\n",
       "count  15135.000000  15135.000000  15135.000000  15135.000000   15135.000000   \n",
       "mean       0.018897      0.152560      0.048167      0.400198       0.106178   \n",
       "std        0.136164      0.359575      0.214125      0.489955       0.308075   \n",
       "min        0.000000      0.000000      0.000000      0.000000       0.000000   \n",
       "25%        0.000000      0.000000      0.000000      0.000000       0.000000   \n",
       "50%        0.000000      0.000000      0.000000      0.000000       0.000000   \n",
       "75%        0.000000      0.000000      0.000000      1.000000       0.000000   \n",
       "max        1.000000      1.000000      1.000000      1.000000       1.000000   \n",
       "\n",
       "       race_nativeam    race_other         nerdy  \n",
       "count   15135.000000  15135.000000  15135.000000  \n",
       "mean        0.040106      0.072811      5.377800  \n",
       "std         0.196214      0.259835      1.559145  \n",
       "min         0.000000      0.000000      0.000000  \n",
       "25%         0.000000      0.000000      5.000000  \n",
       "50%         0.000000      0.000000      6.000000  \n",
       "75%         0.000000      0.000000      7.000000  \n",
       "max         1.000000      1.000000      7.000000  "
      ]
     },
     "execution_count": 13,
     "metadata": {},
     "output_type": "execute_result"
    }
   ],
   "source": [
    "df_race_.describe()"
   ]
  },
  {
   "cell_type": "markdown",
   "id": "f2d04a9b",
   "metadata": {},
   "source": [
    "## major :"
   ]
  },
  {
   "cell_type": "code",
   "execution_count": 14,
   "id": "b90ceedf",
   "metadata": {},
   "outputs": [],
   "source": [
    "df = df.drop(columns='major')"
   ]
  },
  {
   "cell_type": "code",
   "execution_count": 15,
   "id": "66442354",
   "metadata": {},
   "outputs": [],
   "source": [
    "df.dropna(inplace=True)"
   ]
  },
  {
   "cell_type": "markdown",
   "id": "555e56b2",
   "metadata": {},
   "source": [
    "## Q questions"
   ]
  },
  {
   "cell_type": "code",
   "execution_count": 16,
   "id": "0a0766f8",
   "metadata": {},
   "outputs": [],
   "source": [
    "df_Q = df[columns[1:27]]\n",
    "q_columns = df_Q.columns"
   ]
  },
  {
   "cell_type": "code",
   "execution_count": 17,
   "id": "5d6de95e",
   "metadata": {},
   "outputs": [
    {
     "name": "stdout",
     "output_type": "stream",
     "text": [
      "[4 5 1 3 2 0]\n",
      "[5 3 1 4 2 0]\n",
      "[5 3 2 4 1 0]\n",
      "[4 2 5 1 3 0]\n",
      "[5 4 3 2 1 0]\n",
      "[4 3 5 2 1 0]\n",
      "[5 3 4 1 2 0]\n",
      "[3 5 1 4 2 0]\n",
      "[4 3 2 5 1 0]\n",
      "[3 5 2 1 4 0]\n",
      "[3 1 5 4 2 0]\n",
      "[4 1 5 3 2 0]\n",
      "[5 3 2 4 1 0]\n",
      "[5 3 2 4 1 0]\n",
      "[5 3 1 2 4 0]\n",
      "[5 2 4 1 3 0]\n",
      "[5 3 4 1 2 0]\n",
      "[4 3 5 1 2 0]\n",
      "[5 4 1 2 3 0]\n",
      "[5 3 2 4 1 0]\n",
      "[1 3 4 5 2 0]\n",
      "[2 3 1 5 0 4]\n",
      "[5 4 1 2 3 0]\n",
      "[4 5 3 2 1 0]\n",
      "[3 1 4 2 5 0]\n",
      "[4 3 5 1 2 0]\n"
     ]
    }
   ],
   "source": [
    "for column in q_columns :\n",
    "    print(df_Q[column].unique())"
   ]
  },
  {
   "cell_type": "code",
   "execution_count": 18,
   "id": "79be5f45",
   "metadata": {},
   "outputs": [],
   "source": [
    "for column in q_columns:\n",
    "    df[column] = df[column].replace(0, df_Q[column].mean())"
   ]
  },
  {
   "cell_type": "code",
   "execution_count": 19,
   "id": "9852cde2",
   "metadata": {},
   "outputs": [
    {
     "data": {
      "text/plain": [
       "array([4.        , 5.        , 1.        , 3.        , 2.        ,\n",
       "       3.96167316])"
      ]
     },
     "execution_count": 19,
     "metadata": {},
     "output_type": "execute_result"
    }
   ],
   "source": [
    "df['Q1'].unique()"
   ]
  },
  {
   "cell_type": "code",
   "execution_count": 20,
   "id": "aac2717a",
   "metadata": {},
   "outputs": [],
   "source": [
    "q_columns =['Q1', 'Q2', 'Q3', 'Q4', 'Q5', 'Q6', 'Q7', 'Q8', 'Q9', 'Q10', 'Q11',\n",
    "       'Q12', 'Q13', 'Q14', 'Q15', 'Q16', 'Q17', 'Q18', 'Q19', 'Q20', 'Q21',\n",
    "       'Q22', 'Q23', 'Q24', 'Q25', 'Q26', 'nerdy']\n",
    "df_Q = df[q_columns]"
   ]
  },
  {
   "cell_type": "code",
   "execution_count": 21,
   "id": "a9957317",
   "metadata": {},
   "outputs": [
    {
     "data": {
      "text/plain": [
       "<AxesSubplot:>"
      ]
     },
     "execution_count": 21,
     "metadata": {},
     "output_type": "execute_result"
    },
    {
     "data": {
      "image/png": "[encoded data removed]",
      "text/plain": [
       "<Figure size 1008x720 with 2 Axes>"
      ]
     },
     "metadata": {
      "needs_background": "light"
     },
     "output_type": "display_data"
    }
   ],
   "source": [
    "plt.figure(figsize=(14,10))\n",
    "sns.heatmap(df_Q.corr())"
   ]
  },
  {
   "cell_type": "markdown",
   "id": "9635f6ab",
   "metadata": {},
   "source": [
    "## country"
   ]
  },
  {
   "cell_type": "code",
   "execution_count": 22,
   "id": "d54af9a4",
   "metadata": {},
   "outputs": [
    {
     "data": {
      "image/png": "[encoded data removed]",
      "text/plain": [
       "<Figure size 720x720 with 1 Axes>"
      ]
     },
     "metadata": {},
     "output_type": "display_data"
    }
   ],
   "source": [
    "df_country = df['country']\n",
    "labels, frequencies = np.unique(df_country.values, return_counts = True)\n",
    "plt.figure(figsize = (10,10))\n",
    "plt.pie(frequencies,labels = labels, autopct = '%1.1f%%')\n",
    "plt.show()"
   ]
  },
  {
   "cell_type": "code",
   "execution_count": 23,
   "id": "b7f7cdff",
   "metadata": {},
   "outputs": [
    {
     "data": {
      "text/plain": [
       "139"
      ]
     },
     "execution_count": 23,
     "metadata": {},
     "output_type": "execute_result"
    }
   ],
   "source": [
    "len(df_country.unique())"
   ]
  },
  {
   "cell_type": "markdown",
   "id": "a47a5f94",
   "metadata": {},
   "source": [
    "Je pars sur enlever cette colonne"
   ]
  },
  {
   "cell_type": "code",
   "execution_count": 24,
   "id": "1c1e16f3",
   "metadata": {},
   "outputs": [],
   "source": [
    "df = df.drop(columns='country')"
   ]
  },
  {
   "cell_type": "markdown",
   "id": "1014872a",
   "metadata": {},
   "source": [
    "## introelapse\t\ttestelapse\t\tsurveyelapse"
   ]
  },
  {
   "cell_type": "markdown",
   "id": "d77d97dd",
   "metadata": {},
   "source": [
    "Je pars sur virer ces colonnes"
   ]
  },
  {
   "cell_type": "code",
   "execution_count": 25,
   "id": "b393d992",
   "metadata": {},
   "outputs": [],
   "source": [
    "df = df.drop(columns=['introelapse', 'testelapse', 'surveyelapse' ])"
   ]
  },
  {
   "cell_type": "markdown",
   "id": "fa73be7e",
   "metadata": {},
   "source": [
    "## TIPI questions"
   ]
  },
  {
   "cell_type": "code",
   "execution_count": 26,
   "id": "1b281b35",
   "metadata": {},
   "outputs": [
    {
     "data": {
      "text/plain": [
       "Index(['TIPI1', 'TIPI2', 'TIPI3', 'TIPI4', 'TIPI5', 'TIPI6', 'TIPI7', 'TIPI8',\n",
       "       'TIPI9', 'TIPI10'],\n",
       "      dtype='object')"
      ]
     },
     "execution_count": 26,
     "metadata": {},
     "output_type": "execute_result"
    }
   ],
   "source": [
    "tipi_columns= columns[31:41]\n",
    "tipi_columns"
   ]
  },
  {
   "cell_type": "code",
   "execution_count": 27,
   "id": "da8b1d20",
   "metadata": {},
   "outputs": [],
   "source": [
    "df_tipi = df[tipi_columns]\n",
    "for column in tipi_columns:\n",
    "    df[column] = df[column].replace(0, df[column].mean())"
   ]
  },
  {
   "cell_type": "code",
   "execution_count": 28,
   "id": "ae3e607d",
   "metadata": {},
   "outputs": [
    {
     "data": {
      "text/plain": [
       "<AxesSubplot:>"
      ]
     },
     "execution_count": 28,
     "metadata": {},
     "output_type": "execute_result"
    },
    {
     "data": {
      "image/png": "[encoded data removed]",
      "text/plain": [
       "<Figure size 432x288 with 2 Axes>"
      ]
     },
     "metadata": {
      "needs_background": "light"
     },
     "output_type": "display_data"
    }
   ],
   "source": [
    "tipi_columns = ['TIPI1', 'TIPI2', 'TIPI3', 'TIPI4', 'TIPI5', 'TIPI6', 'TIPI7', 'TIPI8',\n",
    "       'TIPI9', 'TIPI10', 'nerdy']\n",
    "df_tipi_ = df[tipi_columns]\n",
    "sns.heatmap(df_tipi_.corr())"
   ]
  },
  {
   "cell_type": "markdown",
   "id": "fa46dd6f",
   "metadata": {},
   "source": [
    "## definition question"
   ]
  },
  {
   "cell_type": "code",
   "execution_count": 29,
   "id": "72d1f8d4",
   "metadata": {},
   "outputs": [
    {
     "data": {
      "text/plain": [
       "Index(['VCL1', 'VCL2', 'VCL3', 'VCL4', 'VCL5', 'VCL6', 'VCL7', 'VCL8', 'VCL9',\n",
       "       'VCL10', 'VCL11', 'VCL12', 'VCL13', 'VCL14', 'VCL15', 'VCL16'],\n",
       "      dtype='object')"
      ]
     },
     "execution_count": 29,
     "metadata": {},
     "output_type": "execute_result"
    }
   ],
   "source": [
    "def_columns = columns[41:57]\n",
    "def_columns"
   ]
  },
  {
   "cell_type": "code",
   "execution_count": 30,
   "id": "e5609332",
   "metadata": {},
   "outputs": [
    {
     "data": {
      "text/plain": [
       "VCL1     2\n",
       "VCL2     2\n",
       "VCL3     2\n",
       "VCL4     2\n",
       "VCL5     2\n",
       "VCL6     2\n",
       "VCL7     2\n",
       "VCL8     2\n",
       "VCL9     2\n",
       "VCL10    2\n",
       "VCL11    2\n",
       "VCL12    2\n",
       "VCL13    2\n",
       "VCL14    2\n",
       "VCL15    2\n",
       "VCL16    2\n",
       "dtype: int64"
      ]
     },
     "execution_count": 30,
     "metadata": {},
     "output_type": "execute_result"
    }
   ],
   "source": [
    "def_df = df[def_columns]\n",
    "def_df.nunique()"
   ]
  },
  {
   "cell_type": "markdown",
   "id": "d909ebf3",
   "metadata": {},
   "source": [
    "## eduction"
   ]
  },
  {
   "cell_type": "code",
   "execution_count": 31,
   "id": "b705367a",
   "metadata": {},
   "outputs": [],
   "source": [
    "df_col = df[['education', 'urban', 'gender', 'engnat', 'hand', 'religion', 'orientation', 'voted', 'married', 'familysize']]\n",
    "col__ = ['education', 'urban', 'gender', 'engnat', 'hand', 'religion', 'orientation', 'voted', 'married', 'familysize']\n",
    "      "
   ]
  },
  {
   "cell_type": "code",
   "execution_count": 32,
   "id": "ca3757f7",
   "metadata": {},
   "outputs": [],
   "source": [
    "def max_value(value, col):\n",
    "    if value >10:\n",
    "        value=df[col].mean()\n",
    "    return value"
   ]
  },
  {
   "cell_type": "code",
   "execution_count": 33,
   "id": "608df071",
   "metadata": {},
   "outputs": [
    {
     "name": "stdout",
     "output_type": "stream",
     "text": [
      "education\n",
      "4\n",
      "urban\n",
      "3\n",
      "gender\n",
      "3\n",
      "engnat\n",
      "2\n",
      "hand\n",
      "3\n",
      "religion\n",
      "10.0\n",
      "orientation\n",
      "5\n",
      "voted\n",
      "2\n",
      "married\n",
      "3\n",
      "familysize\n",
      "2642.2563272318775\n"
     ]
    }
   ],
   "source": [
    "for col in col__ :\n",
    "    df[col] = df[col].apply(lambda x : max_value(x, col))\n",
    "    print(col)\n",
    "    print(df[col].max())\n",
    "    df[col] = df[col].replace(0, df[col].mean())"
   ]
  },
  {
   "cell_type": "code",
   "execution_count": 34,
   "id": "dc9a7c37",
   "metadata": {},
   "outputs": [
    {
     "data": {
      "text/plain": [
       "array([3.00000000e+00, 2.00000000e+00, 1.00000000e+00, 5.00000000e+00,\n",
       "       4.00000000e+00, 6.00000000e+00, 7.00000000e+00, 9.00000000e+00,\n",
       "       6.47048804e+00, 2.64225633e+03, 8.00000000e+00, 1.00000000e+01])"
      ]
     },
     "execution_count": 34,
     "metadata": {},
     "output_type": "execute_result"
    }
   ],
   "source": [
    "df['familysize'].unique()"
   ]
  },
  {
   "cell_type": "code",
   "execution_count": 35,
   "id": "aca79588",
   "metadata": {},
   "outputs": [],
   "source": [
    "mean_age = np.mean(df['age'][df['age'] < 100])\n",
    "mean_age\n",
    "def set_age(value):\n",
    "    if value>100 and value<1930 :\n",
    "        value = mean_age\n",
    "    elif value >=1930 and value<2020:\n",
    "        value = 2020-value\n",
    "    elif value>2020:\n",
    "        value = mean_age\n",
    "    return value"
   ]
  },
  {
   "cell_type": "code",
   "execution_count": 36,
   "id": "bdacf309",
   "metadata": {},
   "outputs": [],
   "source": [
    "df['age'] = df['age'].apply(set_age)"
   ]
  },
  {
   "cell_type": "code",
   "execution_count": 37,
   "id": "7d8684a7",
   "metadata": {},
   "outputs": [
    {
     "data": {
      "text/plain": [
       "<AxesSubplot:xlabel='age', ylabel='Count'>"
      ]
     },
     "execution_count": 37,
     "metadata": {},
     "output_type": "execute_result"
    },
    {
     "data": {
      "image/png": "[encoded data removed]",
      "text/plain": [
       "<Figure size 432x288 with 1 Axes>"
      ]
     },
     "metadata": {
      "needs_background": "light"
     },
     "output_type": "display_data"
    }
   ],
   "source": [
    "sns.histplot(df['age'],bins=10)"
   ]
  },
  {
   "cell_type": "code",
   "execution_count": 38,
   "id": "179b0bdd",
   "metadata": {},
   "outputs": [
    {
     "data": {
      "text/html": [
       "<div>\n",
       "<style scoped>\n",
       "    .dataframe tbody tr th:only-of-type {\n",
       "        vertical-align: middle;\n",
       "    }\n",
       "\n",
       "    .dataframe tbody tr th {\n",
       "        vertical-align: top;\n",
       "    }\n",
       "\n",
       "    .dataframe thead th {\n",
       "        text-align: right;\n",
       "    }\n",
       "</style>\n",
       "<table border=\"1\" class=\"dataframe\">\n",
       "  <thead>\n",
       "    <tr style=\"text-align: right;\">\n",
       "      <th></th>\n",
       "      <th>id</th>\n",
       "      <th>Q1</th>\n",
       "      <th>Q2</th>\n",
       "      <th>Q3</th>\n",
       "      <th>Q4</th>\n",
       "      <th>Q5</th>\n",
       "      <th>Q6</th>\n",
       "      <th>Q7</th>\n",
       "      <th>Q8</th>\n",
       "      <th>Q9</th>\n",
       "      <th>...</th>\n",
       "      <th>familysize</th>\n",
       "      <th>race_arab</th>\n",
       "      <th>race_asian</th>\n",
       "      <th>race_black</th>\n",
       "      <th>race_white</th>\n",
       "      <th>race_hispanic</th>\n",
       "      <th>race_nativeam</th>\n",
       "      <th>race_nativeau</th>\n",
       "      <th>race_other</th>\n",
       "      <th>nerdy</th>\n",
       "    </tr>\n",
       "  </thead>\n",
       "  <tbody>\n",
       "    <tr>\n",
       "      <th>count</th>\n",
       "      <td>15133.000000</td>\n",
       "      <td>15133.000000</td>\n",
       "      <td>15133.000000</td>\n",
       "      <td>15133.000000</td>\n",
       "      <td>15133.000000</td>\n",
       "      <td>15133.000000</td>\n",
       "      <td>15133.000000</td>\n",
       "      <td>15133.000000</td>\n",
       "      <td>15133.000000</td>\n",
       "      <td>15133.000000</td>\n",
       "      <td>...</td>\n",
       "      <td>15133.000000</td>\n",
       "      <td>15133.000000</td>\n",
       "      <td>15133.000000</td>\n",
       "      <td>15133.000000</td>\n",
       "      <td>15133.000000</td>\n",
       "      <td>15133.000000</td>\n",
       "      <td>15133.000000</td>\n",
       "      <td>15133.000000</td>\n",
       "      <td>15133.000000</td>\n",
       "      <td>15133.000000</td>\n",
       "    </tr>\n",
       "    <tr>\n",
       "      <th>mean</th>\n",
       "      <td>499864.232736</td>\n",
       "      <td>3.974501</td>\n",
       "      <td>4.065415</td>\n",
       "      <td>4.229298</td>\n",
       "      <td>3.795890</td>\n",
       "      <td>3.875449</td>\n",
       "      <td>3.693279</td>\n",
       "      <td>4.190796</td>\n",
       "      <td>3.886441</td>\n",
       "      <td>3.924873</td>\n",
       "      <td>...</td>\n",
       "      <td>6.601753</td>\n",
       "      <td>0.018899</td>\n",
       "      <td>0.152580</td>\n",
       "      <td>0.048107</td>\n",
       "      <td>0.400251</td>\n",
       "      <td>0.106192</td>\n",
       "      <td>0.040111</td>\n",
       "      <td>0.003899</td>\n",
       "      <td>0.072821</td>\n",
       "      <td>5.377850</td>\n",
       "    </tr>\n",
       "    <tr>\n",
       "      <th>std</th>\n",
       "      <td>290083.327744</td>\n",
       "      <td>1.089330</td>\n",
       "      <td>1.169271</td>\n",
       "      <td>1.017911</td>\n",
       "      <td>1.217732</td>\n",
       "      <td>1.178578</td>\n",
       "      <td>1.163745</td>\n",
       "      <td>1.056250</td>\n",
       "      <td>1.302525</td>\n",
       "      <td>1.113382</td>\n",
       "      <td>...</td>\n",
       "      <td>102.842114</td>\n",
       "      <td>0.136173</td>\n",
       "      <td>0.359594</td>\n",
       "      <td>0.213999</td>\n",
       "      <td>0.489965</td>\n",
       "      <td>0.308093</td>\n",
       "      <td>0.196226</td>\n",
       "      <td>0.062320</td>\n",
       "      <td>0.259851</td>\n",
       "      <td>1.559242</td>\n",
       "    </tr>\n",
       "    <tr>\n",
       "      <th>min</th>\n",
       "      <td>46.000000</td>\n",
       "      <td>1.000000</td>\n",
       "      <td>1.000000</td>\n",
       "      <td>1.000000</td>\n",
       "      <td>1.000000</td>\n",
       "      <td>1.000000</td>\n",
       "      <td>1.000000</td>\n",
       "      <td>1.000000</td>\n",
       "      <td>1.000000</td>\n",
       "      <td>1.000000</td>\n",
       "      <td>...</td>\n",
       "      <td>1.000000</td>\n",
       "      <td>0.000000</td>\n",
       "      <td>0.000000</td>\n",
       "      <td>0.000000</td>\n",
       "      <td>0.000000</td>\n",
       "      <td>0.000000</td>\n",
       "      <td>0.000000</td>\n",
       "      <td>0.000000</td>\n",
       "      <td>0.000000</td>\n",
       "      <td>0.000000</td>\n",
       "    </tr>\n",
       "    <tr>\n",
       "      <th>25%</th>\n",
       "      <td>244103.000000</td>\n",
       "      <td>3.000000</td>\n",
       "      <td>4.000000</td>\n",
       "      <td>4.000000</td>\n",
       "      <td>3.000000</td>\n",
       "      <td>3.000000</td>\n",
       "      <td>3.000000</td>\n",
       "      <td>4.000000</td>\n",
       "      <td>3.000000</td>\n",
       "      <td>3.000000</td>\n",
       "      <td>...</td>\n",
       "      <td>2.000000</td>\n",
       "      <td>0.000000</td>\n",
       "      <td>0.000000</td>\n",
       "      <td>0.000000</td>\n",
       "      <td>0.000000</td>\n",
       "      <td>0.000000</td>\n",
       "      <td>0.000000</td>\n",
       "      <td>0.000000</td>\n",
       "      <td>0.000000</td>\n",
       "      <td>5.000000</td>\n",
       "    </tr>\n",
       "    <tr>\n",
       "      <th>50%</th>\n",
       "      <td>501796.000000</td>\n",
       "      <td>4.000000</td>\n",
       "      <td>4.000000</td>\n",
       "      <td>5.000000</td>\n",
       "      <td>4.000000</td>\n",
       "      <td>4.000000</td>\n",
       "      <td>4.000000</td>\n",
       "      <td>5.000000</td>\n",
       "      <td>4.000000</td>\n",
       "      <td>4.000000</td>\n",
       "      <td>...</td>\n",
       "      <td>2.000000</td>\n",
       "      <td>0.000000</td>\n",
       "      <td>0.000000</td>\n",
       "      <td>0.000000</td>\n",
       "      <td>0.000000</td>\n",
       "      <td>0.000000</td>\n",
       "      <td>0.000000</td>\n",
       "      <td>0.000000</td>\n",
       "      <td>0.000000</td>\n",
       "      <td>6.000000</td>\n",
       "    </tr>\n",
       "    <tr>\n",
       "      <th>75%</th>\n",
       "      <td>750601.000000</td>\n",
       "      <td>5.000000</td>\n",
       "      <td>5.000000</td>\n",
       "      <td>5.000000</td>\n",
       "      <td>5.000000</td>\n",
       "      <td>5.000000</td>\n",
       "      <td>5.000000</td>\n",
       "      <td>5.000000</td>\n",
       "      <td>5.000000</td>\n",
       "      <td>5.000000</td>\n",
       "      <td>...</td>\n",
       "      <td>3.000000</td>\n",
       "      <td>0.000000</td>\n",
       "      <td>0.000000</td>\n",
       "      <td>0.000000</td>\n",
       "      <td>1.000000</td>\n",
       "      <td>0.000000</td>\n",
       "      <td>0.000000</td>\n",
       "      <td>0.000000</td>\n",
       "      <td>0.000000</td>\n",
       "      <td>7.000000</td>\n",
       "    </tr>\n",
       "    <tr>\n",
       "      <th>max</th>\n",
       "      <td>999986.000000</td>\n",
       "      <td>5.000000</td>\n",
       "      <td>5.000000</td>\n",
       "      <td>5.000000</td>\n",
       "      <td>5.000000</td>\n",
       "      <td>5.000000</td>\n",
       "      <td>5.000000</td>\n",
       "      <td>5.000000</td>\n",
       "      <td>5.000000</td>\n",
       "      <td>5.000000</td>\n",
       "      <td>...</td>\n",
       "      <td>2642.256327</td>\n",
       "      <td>1.000000</td>\n",
       "      <td>1.000000</td>\n",
       "      <td>1.000000</td>\n",
       "      <td>1.000000</td>\n",
       "      <td>1.000000</td>\n",
       "      <td>1.000000</td>\n",
       "      <td>1.000000</td>\n",
       "      <td>1.000000</td>\n",
       "      <td>7.000000</td>\n",
       "    </tr>\n",
       "  </tbody>\n",
       "</table>\n",
       "<p>8 rows × 75 columns</p>\n",
       "</div>"
      ],
      "text/plain": [
       "                  id            Q1            Q2            Q3            Q4  \\\n",
       "count   15133.000000  15133.000000  15133.000000  15133.000000  15133.000000   \n",
       "mean   499864.232736      3.974501      4.065415      4.229298      3.795890   \n",
       "std    290083.327744      1.089330      1.169271      1.017911      1.217732   \n",
       "min        46.000000      1.000000      1.000000      1.000000      1.000000   \n",
       "25%    244103.000000      3.000000      4.000000      4.000000      3.000000   \n",
       "50%    501796.000000      4.000000      4.000000      5.000000      4.000000   \n",
       "75%    750601.000000      5.000000      5.000000      5.000000      5.000000   \n",
       "max    999986.000000      5.000000      5.000000      5.000000      5.000000   \n",
       "\n",
       "                 Q5            Q6            Q7            Q8            Q9  \\\n",
       "count  15133.000000  15133.000000  15133.000000  15133.000000  15133.000000   \n",
       "mean       3.875449      3.693279      4.190796      3.886441      3.924873   \n",
       "std        1.178578      1.163745      1.056250      1.302525      1.113382   \n",
       "min        1.000000      1.000000      1.000000      1.000000      1.000000   \n",
       "25%        3.000000      3.000000      4.000000      3.000000      3.000000   \n",
       "50%        4.000000      4.000000      5.000000      4.000000      4.000000   \n",
       "75%        5.000000      5.000000      5.000000      5.000000      5.000000   \n",
       "max        5.000000      5.000000      5.000000      5.000000      5.000000   \n",
       "\n",
       "       ...    familysize     race_arab    race_asian    race_black  \\\n",
       "count  ...  15133.000000  15133.000000  15133.000000  15133.000000   \n",
       "mean   ...      6.601753      0.018899      0.152580      0.048107   \n",
       "std    ...    102.842114      0.136173      0.359594      0.213999   \n",
       "min    ...      1.000000      0.000000      0.000000      0.000000   \n",
       "25%    ...      2.000000      0.000000      0.000000      0.000000   \n",
       "50%    ...      2.000000      0.000000      0.000000      0.000000   \n",
       "75%    ...      3.000000      0.000000      0.000000      0.000000   \n",
       "max    ...   2642.256327      1.000000      1.000000      1.000000   \n",
       "\n",
       "         race_white  race_hispanic  race_nativeam  race_nativeau  \\\n",
       "count  15133.000000   15133.000000   15133.000000   15133.000000   \n",
       "mean       0.400251       0.106192       0.040111       0.003899   \n",
       "std        0.489965       0.308093       0.196226       0.062320   \n",
       "min        0.000000       0.000000       0.000000       0.000000   \n",
       "25%        0.000000       0.000000       0.000000       0.000000   \n",
       "50%        0.000000       0.000000       0.000000       0.000000   \n",
       "75%        1.000000       0.000000       0.000000       0.000000   \n",
       "max        1.000000       1.000000       1.000000       1.000000   \n",
       "\n",
       "         race_other         nerdy  \n",
       "count  15133.000000  15133.000000  \n",
       "mean       0.072821      5.377850  \n",
       "std        0.259851      1.559242  \n",
       "min        0.000000      0.000000  \n",
       "25%        0.000000      5.000000  \n",
       "50%        0.000000      6.000000  \n",
       "75%        0.000000      7.000000  \n",
       "max        1.000000      7.000000  \n",
       "\n",
       "[8 rows x 75 columns]"
      ]
     },
     "execution_count": 38,
     "metadata": {},
     "output_type": "execute_result"
    }
   ],
   "source": [
    "df.describe()"
   ]
  },
  {
   "cell_type": "code",
   "execution_count": null,
   "id": "57652259",
   "metadata": {},
   "outputs": [],
   "source": []
  },
  {
   "cell_type": "code",
   "execution_count": 39,
   "id": "69cfbf66",
   "metadata": {},
   "outputs": [],
   "source": [
    "y = df['nerdy']\n",
    "X = df.drop(columns=['id', 'nerdy'])"
   ]
  },
  {
   "cell_type": "code",
   "execution_count": 40,
   "id": "80224564",
   "metadata": {},
   "outputs": [],
   "source": [
    "X_train, X_test, y_train, y_test = train_test_split(X, y, test_size=0.3, random_state=0)"
   ]
  },
  {
   "cell_type": "code",
   "execution_count": 41,
   "id": "9cafe96b",
   "metadata": {},
   "outputs": [],
   "source": [
    "clf = RandomForestClassifier(random_state=0)\n",
    "clf.fit(X,y)\n",
    "result = permutation_importance(clf, X, y, n_repeats=10,random_state=0)"
   ]
  },
  {
   "cell_type": "code",
   "execution_count": 65,
   "id": "f8187a35",
   "metadata": {},
   "outputs": [
    {
     "data": {
      "text/html": [
       "<div>\n",
       "<style scoped>\n",
       "    .dataframe tbody tr th:only-of-type {\n",
       "        vertical-align: middle;\n",
       "    }\n",
       "\n",
       "    .dataframe tbody tr th {\n",
       "        vertical-align: top;\n",
       "    }\n",
       "\n",
       "    .dataframe thead th {\n",
       "        text-align: right;\n",
       "    }\n",
       "</style>\n",
       "<table border=\"1\" class=\"dataframe\">\n",
       "  <thead>\n",
       "    <tr style=\"text-align: right;\">\n",
       "      <th></th>\n",
       "      <th>0</th>\n",
       "      <th>1</th>\n",
       "    </tr>\n",
       "  </thead>\n",
       "  <tbody>\n",
       "    <tr>\n",
       "      <th>0</th>\n",
       "      <td>Q1</td>\n",
       "      <td>0.006053</td>\n",
       "    </tr>\n",
       "    <tr>\n",
       "      <th>1</th>\n",
       "      <td>Q2</td>\n",
       "      <td>0.004923</td>\n",
       "    </tr>\n",
       "    <tr>\n",
       "      <th>2</th>\n",
       "      <td>Q3</td>\n",
       "      <td>0.00004</td>\n",
       "    </tr>\n",
       "    <tr>\n",
       "      <th>3</th>\n",
       "      <td>Q4</td>\n",
       "      <td>0.001216</td>\n",
       "    </tr>\n",
       "    <tr>\n",
       "      <th>4</th>\n",
       "      <td>Q5</td>\n",
       "      <td>0.000231</td>\n",
       "    </tr>\n",
       "    <tr>\n",
       "      <th>5</th>\n",
       "      <td>Q6</td>\n",
       "      <td>0.015939</td>\n",
       "    </tr>\n",
       "    <tr>\n",
       "      <th>6</th>\n",
       "      <td>Q7</td>\n",
       "      <td>0.0</td>\n",
       "    </tr>\n",
       "    <tr>\n",
       "      <th>7</th>\n",
       "      <td>Q8</td>\n",
       "      <td>0.000172</td>\n",
       "    </tr>\n",
       "    <tr>\n",
       "      <th>8</th>\n",
       "      <td>Q9</td>\n",
       "      <td>0.000396</td>\n",
       "    </tr>\n",
       "    <tr>\n",
       "      <th>9</th>\n",
       "      <td>Q10</td>\n",
       "      <td>0.0</td>\n",
       "    </tr>\n",
       "    <tr>\n",
       "      <th>10</th>\n",
       "      <td>Q11</td>\n",
       "      <td>0.002326</td>\n",
       "    </tr>\n",
       "    <tr>\n",
       "      <th>11</th>\n",
       "      <td>Q12</td>\n",
       "      <td>0.000066</td>\n",
       "    </tr>\n",
       "    <tr>\n",
       "      <th>12</th>\n",
       "      <td>Q13</td>\n",
       "      <td>0.000152</td>\n",
       "    </tr>\n",
       "    <tr>\n",
       "      <th>13</th>\n",
       "      <td>Q14</td>\n",
       "      <td>0.001011</td>\n",
       "    </tr>\n",
       "    <tr>\n",
       "      <th>14</th>\n",
       "      <td>Q15</td>\n",
       "      <td>0.007005</td>\n",
       "    </tr>\n",
       "    <tr>\n",
       "      <th>15</th>\n",
       "      <td>Q16</td>\n",
       "      <td>0.000066</td>\n",
       "    </tr>\n",
       "    <tr>\n",
       "      <th>16</th>\n",
       "      <td>Q17</td>\n",
       "      <td>0.000079</td>\n",
       "    </tr>\n",
       "    <tr>\n",
       "      <th>17</th>\n",
       "      <td>Q18</td>\n",
       "      <td>0.000264</td>\n",
       "    </tr>\n",
       "    <tr>\n",
       "      <th>18</th>\n",
       "      <td>Q19</td>\n",
       "      <td>0.000793</td>\n",
       "    </tr>\n",
       "    <tr>\n",
       "      <th>19</th>\n",
       "      <td>Q20</td>\n",
       "      <td>0.000093</td>\n",
       "    </tr>\n",
       "    <tr>\n",
       "      <th>20</th>\n",
       "      <td>Q21</td>\n",
       "      <td>0.000112</td>\n",
       "    </tr>\n",
       "    <tr>\n",
       "      <th>21</th>\n",
       "      <td>Q22</td>\n",
       "      <td>0.000086</td>\n",
       "    </tr>\n",
       "    <tr>\n",
       "      <th>22</th>\n",
       "      <td>Q23</td>\n",
       "      <td>0.00043</td>\n",
       "    </tr>\n",
       "    <tr>\n",
       "      <th>23</th>\n",
       "      <td>Q24</td>\n",
       "      <td>0.00004</td>\n",
       "    </tr>\n",
       "    <tr>\n",
       "      <th>24</th>\n",
       "      <td>Q25</td>\n",
       "      <td>0.000211</td>\n",
       "    </tr>\n",
       "    <tr>\n",
       "      <th>25</th>\n",
       "      <td>Q26</td>\n",
       "      <td>0.000661</td>\n",
       "    </tr>\n",
       "    <tr>\n",
       "      <th>26</th>\n",
       "      <td>TIPI1</td>\n",
       "      <td>0.000059</td>\n",
       "    </tr>\n",
       "    <tr>\n",
       "      <th>27</th>\n",
       "      <td>TIPI2</td>\n",
       "      <td>0.000093</td>\n",
       "    </tr>\n",
       "    <tr>\n",
       "      <th>28</th>\n",
       "      <td>TIPI3</td>\n",
       "      <td>0.000079</td>\n",
       "    </tr>\n",
       "    <tr>\n",
       "      <th>29</th>\n",
       "      <td>TIPI4</td>\n",
       "      <td>0.000099</td>\n",
       "    </tr>\n",
       "    <tr>\n",
       "      <th>30</th>\n",
       "      <td>TIPI5</td>\n",
       "      <td>0.000145</td>\n",
       "    </tr>\n",
       "    <tr>\n",
       "      <th>31</th>\n",
       "      <td>TIPI6</td>\n",
       "      <td>0.000033</td>\n",
       "    </tr>\n",
       "    <tr>\n",
       "      <th>32</th>\n",
       "      <td>TIPI7</td>\n",
       "      <td>0.000192</td>\n",
       "    </tr>\n",
       "    <tr>\n",
       "      <th>33</th>\n",
       "      <td>TIPI8</td>\n",
       "      <td>0.00002</td>\n",
       "    </tr>\n",
       "    <tr>\n",
       "      <th>34</th>\n",
       "      <td>TIPI9</td>\n",
       "      <td>0.000073</td>\n",
       "    </tr>\n",
       "    <tr>\n",
       "      <th>35</th>\n",
       "      <td>TIPI10</td>\n",
       "      <td>0.000377</td>\n",
       "    </tr>\n",
       "    <tr>\n",
       "      <th>36</th>\n",
       "      <td>VCL1</td>\n",
       "      <td>0.0</td>\n",
       "    </tr>\n",
       "    <tr>\n",
       "      <th>37</th>\n",
       "      <td>VCL2</td>\n",
       "      <td>0.0</td>\n",
       "    </tr>\n",
       "    <tr>\n",
       "      <th>38</th>\n",
       "      <td>VCL3</td>\n",
       "      <td>0.000026</td>\n",
       "    </tr>\n",
       "    <tr>\n",
       "      <th>39</th>\n",
       "      <td>VCL4</td>\n",
       "      <td>0.0</td>\n",
       "    </tr>\n",
       "  </tbody>\n",
       "</table>\n",
       "</div>"
      ],
      "text/plain": [
       "         0         1\n",
       "0       Q1  0.006053\n",
       "1       Q2  0.004923\n",
       "2       Q3   0.00004\n",
       "3       Q4  0.001216\n",
       "4       Q5  0.000231\n",
       "5       Q6  0.015939\n",
       "6       Q7       0.0\n",
       "7       Q8  0.000172\n",
       "8       Q9  0.000396\n",
       "9      Q10       0.0\n",
       "10     Q11  0.002326\n",
       "11     Q12  0.000066\n",
       "12     Q13  0.000152\n",
       "13     Q14  0.001011\n",
       "14     Q15  0.007005\n",
       "15     Q16  0.000066\n",
       "16     Q17  0.000079\n",
       "17     Q18  0.000264\n",
       "18     Q19  0.000793\n",
       "19     Q20  0.000093\n",
       "20     Q21  0.000112\n",
       "21     Q22  0.000086\n",
       "22     Q23   0.00043\n",
       "23     Q24   0.00004\n",
       "24     Q25  0.000211\n",
       "25     Q26  0.000661\n",
       "26   TIPI1  0.000059\n",
       "27   TIPI2  0.000093\n",
       "28   TIPI3  0.000079\n",
       "29   TIPI4  0.000099\n",
       "30   TIPI5  0.000145\n",
       "31   TIPI6  0.000033\n",
       "32   TIPI7  0.000192\n",
       "33   TIPI8   0.00002\n",
       "34   TIPI9  0.000073\n",
       "35  TIPI10  0.000377\n",
       "36    VCL1       0.0\n",
       "37    VCL2       0.0\n",
       "38    VCL3  0.000026\n",
       "39    VCL4       0.0"
      ]
     },
     "execution_count": 65,
     "metadata": {},
     "output_type": "execute_result"
    }
   ],
   "source": [
    "importance_df = pd.DataFrame(np.vstack((X.columns, result.importances_mean)).T)"
   ]
  },
  {
   "cell_type": "code",
   "execution_count": 43,
   "id": "e7127c4f",
   "metadata": {},
   "outputs": [],
   "source": [
    "garbage = importance_df[0][importance_df[1]>0]"
   ]
  },
  {
   "cell_type": "code",
   "execution_count": 44,
   "id": "abae9538",
   "metadata": {},
   "outputs": [],
   "source": [
    "garbage = garbage.to_list()\n",
    "garbage.append('nerdy')\n"
   ]
  },
  {
   "cell_type": "code",
   "execution_count": 45,
   "id": "d24bed18",
   "metadata": {},
   "outputs": [
    {
     "data": {
      "text/plain": [
       "['Q1',\n",
       " 'Q2',\n",
       " 'Q3',\n",
       " 'Q4',\n",
       " 'Q5',\n",
       " 'Q6',\n",
       " 'Q8',\n",
       " 'Q9',\n",
       " 'Q11',\n",
       " 'Q12',\n",
       " 'Q13',\n",
       " 'Q14',\n",
       " 'Q15',\n",
       " 'Q16',\n",
       " 'Q17',\n",
       " 'Q18',\n",
       " 'Q19',\n",
       " 'Q20',\n",
       " 'Q21',\n",
       " 'Q22',\n",
       " 'Q23',\n",
       " 'Q24',\n",
       " 'Q25',\n",
       " 'Q26',\n",
       " 'TIPI1',\n",
       " 'TIPI2',\n",
       " 'TIPI3',\n",
       " 'TIPI4',\n",
       " 'TIPI5',\n",
       " 'TIPI6',\n",
       " 'TIPI7',\n",
       " 'TIPI8',\n",
       " 'TIPI9',\n",
       " 'TIPI10',\n",
       " 'VCL3',\n",
       " 'VCL9',\n",
       " 'education',\n",
       " 'urban',\n",
       " 'engnat',\n",
       " 'age',\n",
       " 'screenw',\n",
       " 'screenh',\n",
       " 'religion',\n",
       " 'orientation',\n",
       " 'familysize',\n",
       " 'race_arab',\n",
       " 'race_nativeam',\n",
       " 'race_nativeau',\n",
       " 'nerdy']"
      ]
     },
     "execution_count": 45,
     "metadata": {},
     "output_type": "execute_result"
    }
   ],
   "source": [
    "garbage"
   ]
  },
  {
   "cell_type": "code",
   "execution_count": 66,
   "id": "a7e1eb3a",
   "metadata": {},
   "outputs": [
    {
     "data": {
      "text/plain": [
       "(15133, 49)"
      ]
     },
     "execution_count": 66,
     "metadata": {},
     "output_type": "execute_result"
    }
   ],
   "source": [
    "df_clean = df[garbage]\n",
    "df_clean.shape"
   ]
  },
  {
   "cell_type": "code",
   "execution_count": 47,
   "id": "2e039f28",
   "metadata": {},
   "outputs": [],
   "source": [
    "y_clean = df_clean['nerdy']\n",
    "X_clean = df_clean.drop(columns='nerdy')\n",
    "scaler = StandardScaler()\n",
    "scaler.fit(X_clean)\n",
    "X_clean=scaler.transform(X_clean)"
   ]
  },
  {
   "cell_type": "code",
   "execution_count": 61,
   "id": "b3e0a12c",
   "metadata": {},
   "outputs": [
    {
     "data": {
      "text/html": [
       "<div>\n",
       "<style scoped>\n",
       "    .dataframe tbody tr th:only-of-type {\n",
       "        vertical-align: middle;\n",
       "    }\n",
       "\n",
       "    .dataframe tbody tr th {\n",
       "        vertical-align: top;\n",
       "    }\n",
       "\n",
       "    .dataframe thead th {\n",
       "        text-align: right;\n",
       "    }\n",
       "</style>\n",
       "<table border=\"1\" class=\"dataframe\">\n",
       "  <thead>\n",
       "    <tr style=\"text-align: right;\">\n",
       "      <th></th>\n",
       "      <th>Q1</th>\n",
       "      <th>Q2</th>\n",
       "      <th>Q3</th>\n",
       "      <th>Q4</th>\n",
       "      <th>Q5</th>\n",
       "      <th>Q6</th>\n",
       "      <th>Q8</th>\n",
       "      <th>Q9</th>\n",
       "      <th>Q11</th>\n",
       "      <th>Q12</th>\n",
       "      <th>...</th>\n",
       "      <th>age</th>\n",
       "      <th>screenw</th>\n",
       "      <th>screenh</th>\n",
       "      <th>religion</th>\n",
       "      <th>orientation</th>\n",
       "      <th>familysize</th>\n",
       "      <th>race_arab</th>\n",
       "      <th>race_nativeam</th>\n",
       "      <th>race_nativeau</th>\n",
       "      <th>nerdy</th>\n",
       "    </tr>\n",
       "  </thead>\n",
       "  <tbody>\n",
       "    <tr>\n",
       "      <th>count</th>\n",
       "      <td>15133.000000</td>\n",
       "      <td>15133.000000</td>\n",
       "      <td>15133.000000</td>\n",
       "      <td>15133.000000</td>\n",
       "      <td>15133.000000</td>\n",
       "      <td>15133.000000</td>\n",
       "      <td>15133.000000</td>\n",
       "      <td>15133.000000</td>\n",
       "      <td>15133.000000</td>\n",
       "      <td>15133.000000</td>\n",
       "      <td>...</td>\n",
       "      <td>15133.000000</td>\n",
       "      <td>15133.000000</td>\n",
       "      <td>15133.000000</td>\n",
       "      <td>15133.000000</td>\n",
       "      <td>15133.000000</td>\n",
       "      <td>15133.000000</td>\n",
       "      <td>15133.000000</td>\n",
       "      <td>15133.000000</td>\n",
       "      <td>15133.000000</td>\n",
       "      <td>15133.000000</td>\n",
       "    </tr>\n",
       "    <tr>\n",
       "      <th>mean</th>\n",
       "      <td>3.974501</td>\n",
       "      <td>4.065415</td>\n",
       "      <td>4.229298</td>\n",
       "      <td>3.795890</td>\n",
       "      <td>3.875449</td>\n",
       "      <td>3.693279</td>\n",
       "      <td>3.886441</td>\n",
       "      <td>3.924873</td>\n",
       "      <td>3.131534</td>\n",
       "      <td>3.797490</td>\n",
       "      <td>...</td>\n",
       "      <td>23.969324</td>\n",
       "      <td>1100.137844</td>\n",
       "      <td>815.160907</td>\n",
       "      <td>3.429733</td>\n",
       "      <td>1.852692</td>\n",
       "      <td>6.601753</td>\n",
       "      <td>0.018899</td>\n",
       "      <td>0.040111</td>\n",
       "      <td>0.003899</td>\n",
       "      <td>5.377850</td>\n",
       "    </tr>\n",
       "    <tr>\n",
       "      <th>std</th>\n",
       "      <td>1.089330</td>\n",
       "      <td>1.169271</td>\n",
       "      <td>1.017911</td>\n",
       "      <td>1.217732</td>\n",
       "      <td>1.178578</td>\n",
       "      <td>1.163745</td>\n",
       "      <td>1.302525</td>\n",
       "      <td>1.113382</td>\n",
       "      <td>1.564117</td>\n",
       "      <td>1.231152</td>\n",
       "      <td>...</td>\n",
       "      <td>10.779921</td>\n",
       "      <td>578.612172</td>\n",
       "      <td>190.877412</td>\n",
       "      <td>2.433172</td>\n",
       "      <td>1.212956</td>\n",
       "      <td>102.842114</td>\n",
       "      <td>0.136173</td>\n",
       "      <td>0.196226</td>\n",
       "      <td>0.062320</td>\n",
       "      <td>1.559242</td>\n",
       "    </tr>\n",
       "    <tr>\n",
       "      <th>min</th>\n",
       "      <td>1.000000</td>\n",
       "      <td>1.000000</td>\n",
       "      <td>1.000000</td>\n",
       "      <td>1.000000</td>\n",
       "      <td>1.000000</td>\n",
       "      <td>1.000000</td>\n",
       "      <td>1.000000</td>\n",
       "      <td>1.000000</td>\n",
       "      <td>1.000000</td>\n",
       "      <td>1.000000</td>\n",
       "      <td>...</td>\n",
       "      <td>13.000000</td>\n",
       "      <td>0.000000</td>\n",
       "      <td>0.000000</td>\n",
       "      <td>1.000000</td>\n",
       "      <td>1.000000</td>\n",
       "      <td>1.000000</td>\n",
       "      <td>0.000000</td>\n",
       "      <td>0.000000</td>\n",
       "      <td>0.000000</td>\n",
       "      <td>0.000000</td>\n",
       "    </tr>\n",
       "    <tr>\n",
       "      <th>25%</th>\n",
       "      <td>3.000000</td>\n",
       "      <td>4.000000</td>\n",
       "      <td>4.000000</td>\n",
       "      <td>3.000000</td>\n",
       "      <td>3.000000</td>\n",
       "      <td>3.000000</td>\n",
       "      <td>3.000000</td>\n",
       "      <td>3.000000</td>\n",
       "      <td>1.000000</td>\n",
       "      <td>3.000000</td>\n",
       "      <td>...</td>\n",
       "      <td>17.000000</td>\n",
       "      <td>375.000000</td>\n",
       "      <td>667.000000</td>\n",
       "      <td>2.000000</td>\n",
       "      <td>1.000000</td>\n",
       "      <td>2.000000</td>\n",
       "      <td>0.000000</td>\n",
       "      <td>0.000000</td>\n",
       "      <td>0.000000</td>\n",
       "      <td>5.000000</td>\n",
       "    </tr>\n",
       "    <tr>\n",
       "      <th>50%</th>\n",
       "      <td>4.000000</td>\n",
       "      <td>4.000000</td>\n",
       "      <td>5.000000</td>\n",
       "      <td>4.000000</td>\n",
       "      <td>4.000000</td>\n",
       "      <td>4.000000</td>\n",
       "      <td>4.000000</td>\n",
       "      <td>4.000000</td>\n",
       "      <td>3.000000</td>\n",
       "      <td>4.000000</td>\n",
       "      <td>...</td>\n",
       "      <td>20.000000</td>\n",
       "      <td>1280.000000</td>\n",
       "      <td>768.000000</td>\n",
       "      <td>2.000000</td>\n",
       "      <td>1.000000</td>\n",
       "      <td>2.000000</td>\n",
       "      <td>0.000000</td>\n",
       "      <td>0.000000</td>\n",
       "      <td>0.000000</td>\n",
       "      <td>6.000000</td>\n",
       "    </tr>\n",
       "    <tr>\n",
       "      <th>75%</th>\n",
       "      <td>5.000000</td>\n",
       "      <td>5.000000</td>\n",
       "      <td>5.000000</td>\n",
       "      <td>5.000000</td>\n",
       "      <td>5.000000</td>\n",
       "      <td>5.000000</td>\n",
       "      <td>5.000000</td>\n",
       "      <td>5.000000</td>\n",
       "      <td>5.000000</td>\n",
       "      <td>5.000000</td>\n",
       "      <td>...</td>\n",
       "      <td>27.000000</td>\n",
       "      <td>1440.000000</td>\n",
       "      <td>900.000000</td>\n",
       "      <td>4.069781</td>\n",
       "      <td>2.000000</td>\n",
       "      <td>3.000000</td>\n",
       "      <td>0.000000</td>\n",
       "      <td>0.000000</td>\n",
       "      <td>0.000000</td>\n",
       "      <td>7.000000</td>\n",
       "    </tr>\n",
       "    <tr>\n",
       "      <th>max</th>\n",
       "      <td>5.000000</td>\n",
       "      <td>5.000000</td>\n",
       "      <td>5.000000</td>\n",
       "      <td>5.000000</td>\n",
       "      <td>5.000000</td>\n",
       "      <td>5.000000</td>\n",
       "      <td>5.000000</td>\n",
       "      <td>5.000000</td>\n",
       "      <td>5.000000</td>\n",
       "      <td>5.000000</td>\n",
       "      <td>...</td>\n",
       "      <td>99.000000</td>\n",
       "      <td>3840.000000</td>\n",
       "      <td>2160.000000</td>\n",
       "      <td>10.000000</td>\n",
       "      <td>5.000000</td>\n",
       "      <td>2642.256327</td>\n",
       "      <td>1.000000</td>\n",
       "      <td>1.000000</td>\n",
       "      <td>1.000000</td>\n",
       "      <td>7.000000</td>\n",
       "    </tr>\n",
       "  </tbody>\n",
       "</table>\n",
       "<p>8 rows × 49 columns</p>\n",
       "</div>"
      ],
      "text/plain": [
       "                 Q1            Q2            Q3            Q4            Q5  \\\n",
       "count  15133.000000  15133.000000  15133.000000  15133.000000  15133.000000   \n",
       "mean       3.974501      4.065415      4.229298      3.795890      3.875449   \n",
       "std        1.089330      1.169271      1.017911      1.217732      1.178578   \n",
       "min        1.000000      1.000000      1.000000      1.000000      1.000000   \n",
       "25%        3.000000      4.000000      4.000000      3.000000      3.000000   \n",
       "50%        4.000000      4.000000      5.000000      4.000000      4.000000   \n",
       "75%        5.000000      5.000000      5.000000      5.000000      5.000000   \n",
       "max        5.000000      5.000000      5.000000      5.000000      5.000000   \n",
       "\n",
       "                 Q6            Q8            Q9           Q11           Q12  \\\n",
       "count  15133.000000  15133.000000  15133.000000  15133.000000  15133.000000   \n",
       "mean       3.693279      3.886441      3.924873      3.131534      3.797490   \n",
       "std        1.163745      1.302525      1.113382      1.564117      1.231152   \n",
       "min        1.000000      1.000000      1.000000      1.000000      1.000000   \n",
       "25%        3.000000      3.000000      3.000000      1.000000      3.000000   \n",
       "50%        4.000000      4.000000      4.000000      3.000000      4.000000   \n",
       "75%        5.000000      5.000000      5.000000      5.000000      5.000000   \n",
       "max        5.000000      5.000000      5.000000      5.000000      5.000000   \n",
       "\n",
       "       ...           age       screenw       screenh      religion  \\\n",
       "count  ...  15133.000000  15133.000000  15133.000000  15133.000000   \n",
       "mean   ...     23.969324   1100.137844    815.160907      3.429733   \n",
       "std    ...     10.779921    578.612172    190.877412      2.433172   \n",
       "min    ...     13.000000      0.000000      0.000000      1.000000   \n",
       "25%    ...     17.000000    375.000000    667.000000      2.000000   \n",
       "50%    ...     20.000000   1280.000000    768.000000      2.000000   \n",
       "75%    ...     27.000000   1440.000000    900.000000      4.069781   \n",
       "max    ...     99.000000   3840.000000   2160.000000     10.000000   \n",
       "\n",
       "        orientation    familysize     race_arab  race_nativeam  race_nativeau  \\\n",
       "count  15133.000000  15133.000000  15133.000000   15133.000000   15133.000000   \n",
       "mean       1.852692      6.601753      0.018899       0.040111       0.003899   \n",
       "std        1.212956    102.842114      0.136173       0.196226       0.062320   \n",
       "min        1.000000      1.000000      0.000000       0.000000       0.000000   \n",
       "25%        1.000000      2.000000      0.000000       0.000000       0.000000   \n",
       "50%        1.000000      2.000000      0.000000       0.000000       0.000000   \n",
       "75%        2.000000      3.000000      0.000000       0.000000       0.000000   \n",
       "max        5.000000   2642.256327      1.000000       1.000000       1.000000   \n",
       "\n",
       "              nerdy  \n",
       "count  15133.000000  \n",
       "mean       5.377850  \n",
       "std        1.559242  \n",
       "min        0.000000  \n",
       "25%        5.000000  \n",
       "50%        6.000000  \n",
       "75%        7.000000  \n",
       "max        7.000000  \n",
       "\n",
       "[8 rows x 49 columns]"
      ]
     },
     "execution_count": 61,
     "metadata": {},
     "output_type": "execute_result"
    }
   ],
   "source": [
    "df_clean.describe()"
   ]
  },
  {
   "cell_type": "markdown",
   "id": "6610c4da",
   "metadata": {},
   "source": [
    "# premier model"
   ]
  },
  {
   "cell_type": "code",
   "execution_count": 48,
   "id": "a9e6f728",
   "metadata": {},
   "outputs": [],
   "source": [
    "X_train, X_test, y_train, y_test = train_test_split(X_clean, y_clean, test_size=0.3, random_state=0)"
   ]
  },
  {
   "cell_type": "code",
   "execution_count": 49,
   "id": "b26e1c6d",
   "metadata": {},
   "outputs": [
    {
     "data": {
      "text/plain": [
       "0.40838280925178505"
      ]
     },
     "execution_count": 49,
     "metadata": {},
     "output_type": "execute_result"
    }
   ],
   "source": [
    "clf = RandomForestClassifier()\n",
    "cross_val_score(clf, X_train, y_train, cv=5).mean()"
   ]
  },
  {
   "cell_type": "code",
   "execution_count": 50,
   "id": "56408722",
   "metadata": {},
   "outputs": [
    {
     "data": {
      "text/plain": [
       "0.4108371980476118"
      ]
     },
     "execution_count": 50,
     "metadata": {},
     "output_type": "execute_result"
    }
   ],
   "source": [
    "model_svc = SVC(kernel='linear')\n",
    "cross_val_score(model_svc, X_train, y_train, cv=5).mean()"
   ]
  },
  {
   "cell_type": "code",
   "execution_count": 52,
   "id": "1c066969",
   "metadata": {},
   "outputs": [
    {
     "data": {
      "text/plain": [
       "array([[0., 0., 0., ..., 1., 0., 0.],\n",
       "       [0., 0., 0., ..., 1., 0., 0.],\n",
       "       [0., 0., 0., ..., 0., 0., 1.],\n",
       "       ...,\n",
       "       [0., 0., 0., ..., 0., 1., 0.],\n",
       "       [0., 0., 0., ..., 0., 0., 0.],\n",
       "       [0., 0., 0., ..., 0., 0., 0.]], dtype=float32)"
      ]
     },
     "execution_count": 52,
     "metadata": {},
     "output_type": "execute_result"
    }
   ],
   "source": [
    "X_train.shape\n",
    "y_categorical = to_categorical(y_train)\n",
    "y_categorical"
   ]
  },
  {
   "cell_type": "code",
   "execution_count": 263,
   "id": "0c47851c",
   "metadata": {},
   "outputs": [],
   "source": [
    "def root_mean_squared_error_loss(y_true, y_pred):\n",
    "    return tf.keras.backend.sqrt(tf.keras.losses.MSE(np.argmax(y_true, axix=1), np.argmax(y_pred, axis=1)))"
   ]
  },
  {
   "cell_type": "code",
   "execution_count": 71,
   "id": "eefe40c9",
   "metadata": {},
   "outputs": [
    {
     "name": "stdout",
     "output_type": "stream",
     "text": [
      "Model: \"sequential_2\"\n",
      "_________________________________________________________________\n",
      "Layer (type)                 Output Shape              Param #   \n",
      "=================================================================\n",
      "dense_8 (Dense)              (None, 1000)              49000     \n",
      "_________________________________________________________________\n",
      "dropout_6 (Dropout)          (None, 1000)              0         \n",
      "_________________________________________________________________\n",
      "dense_9 (Dense)              (None, 500)               500500    \n",
      "_________________________________________________________________\n",
      "dropout_7 (Dropout)          (None, 500)               0         \n",
      "_________________________________________________________________\n",
      "dense_10 (Dense)             (None, 500)               250500    \n",
      "_________________________________________________________________\n",
      "dropout_8 (Dropout)          (None, 500)               0         \n",
      "_________________________________________________________________\n",
      "dense_11 (Dense)             (None, 8)                 4008      \n",
      "=================================================================\n",
      "Total params: 804,008\n",
      "Trainable params: 804,008\n",
      "Non-trainable params: 0\n",
      "_________________________________________________________________\n"
     ]
    }
   ],
   "source": [
    "model = Sequential()\n",
    "model.add(layers.Dense(1000,input_dim=48, activation=\"relu\"))\n",
    "model.add(layers.Dropout(rate=0.2))\n",
    "model.add(layers.Dense(500, activation=\"relu\"))\n",
    "model.add(layers.Dropout(rate=0.2))\n",
    "model.add(layers.Dense(500, activation=\"relu\"))\n",
    "model.add(layers.Dropout(rate=0.2))\n",
    "model.add(layers.Dense(8, activation=\"softmax\"))\n",
    "model.summary()"
   ]
  },
  {
   "cell_type": "code",
   "execution_count": 72,
   "id": "0eebea79",
   "metadata": {},
   "outputs": [
    {
     "name": "stdout",
     "output_type": "stream",
     "text": [
      "Epoch 1/1000\n",
      "232/232 [==============================] - 1s 5ms/step - loss: 1.5358 - root_mean_squared_error: 0.3029 - val_loss: 1.4802 - val_root_mean_squared_error: 0.2990\n",
      "Epoch 2/1000\n",
      "232/232 [==============================] - 1s 5ms/step - loss: 1.4551 - root_mean_squared_error: 0.2970 - val_loss: 1.4603 - val_root_mean_squared_error: 0.2973\n",
      "Epoch 3/1000\n",
      "232/232 [==============================] - 1s 5ms/step - loss: 1.4242 - root_mean_squared_error: 0.2953 - val_loss: 1.4878 - val_root_mean_squared_error: 0.2997\n",
      "Epoch 4/1000\n",
      "232/232 [==============================] - 1s 5ms/step - loss: 1.3824 - root_mean_squared_error: 0.2921 - val_loss: 1.4766 - val_root_mean_squared_error: 0.2981\n",
      "Epoch 5/1000\n",
      "232/232 [==============================] - 1s 5ms/step - loss: 1.3419 - root_mean_squared_error: 0.2891 - val_loss: 1.5008 - val_root_mean_squared_error: 0.3011\n",
      "Epoch 6/1000\n",
      "232/232 [==============================] - 1s 5ms/step - loss: 1.2988 - root_mean_squared_error: 0.2859 - val_loss: 1.4885 - val_root_mean_squared_error: 0.2989\n",
      "Epoch 7/1000\n",
      "232/232 [==============================] - 1s 5ms/step - loss: 1.2377 - root_mean_squared_error: 0.2805 - val_loss: 1.5339 - val_root_mean_squared_error: 0.3025\n",
      "Epoch 8/1000\n",
      "232/232 [==============================] - 1s 5ms/step - loss: 1.1842 - root_mean_squared_error: 0.2752 - val_loss: 1.5776 - val_root_mean_squared_error: 0.3057\n",
      "Epoch 9/1000\n",
      "232/232 [==============================] - 1s 5ms/step - loss: 1.1234 - root_mean_squared_error: 0.2696 - val_loss: 1.6612 - val_root_mean_squared_error: 0.3100\n",
      "Epoch 10/1000\n",
      "232/232 [==============================] - 1s 5ms/step - loss: 1.0436 - root_mean_squared_error: 0.2614 - val_loss: 1.6825 - val_root_mean_squared_error: 0.3111\n",
      "Epoch 11/1000\n",
      "232/232 [==============================] - 1s 5ms/step - loss: 0.9591 - root_mean_squared_error: 0.2517 - val_loss: 1.7486 - val_root_mean_squared_error: 0.3144\n",
      "Epoch 12/1000\n",
      "232/232 [==============================] - 1s 5ms/step - loss: 0.8658 - root_mean_squared_error: 0.2403 - val_loss: 1.8894 - val_root_mean_squared_error: 0.3209\n"
     ]
    },
    {
     "data": {
      "text/plain": [
       "<tensorflow.python.keras.callbacks.History at 0x17f3144c0>"
      ]
     },
     "execution_count": 72,
     "metadata": {},
     "output_type": "execute_result"
    }
   ],
   "source": [
    "model.compile(optimizer='adam', loss='categorical_crossentropy',metrics=[RootMeanSquaredError()])\n",
    "es = EarlyStopping(restore_best_weights=True, patience=10)\n",
    "model.fit(X_train,y_categorical,batch_size=32,epochs=1000, validation_split=0.3, callbacks=[es])"
   ]
  },
  {
   "cell_type": "code",
   "execution_count": 73,
   "id": "44094751",
   "metadata": {},
   "outputs": [
    {
     "name": "stdout",
     "output_type": "stream",
     "text": [
      "142/142 [==============================] - 0s 2ms/step - loss: 1.4778 - root_mean_squared_error: 0.2978\n"
     ]
    },
    {
     "data": {
      "text/plain": [
       "[1.4777722358703613, 0.2978338301181793]"
      ]
     },
     "execution_count": 73,
     "metadata": {},
     "output_type": "execute_result"
    }
   ],
   "source": [
    "y_test= to_categorical(y_test)\n",
    "model.evaluate(X_test, y_test)"
   ]
  },
  {
   "cell_type": "code",
   "execution_count": 74,
   "id": "8ef32efa",
   "metadata": {},
   "outputs": [],
   "source": [
    "y_test_cat = to_categorical(y_test)\n",
    "pred = model.predict(X_test)"
   ]
  },
  {
   "cell_type": "code",
   "execution_count": 75,
   "id": "6d1ed0a2",
   "metadata": {},
   "outputs": [
    {
     "data": {
      "text/plain": [
       "<AxesSubplot:ylabel='Count'>"
      ]
     },
     "execution_count": 75,
     "metadata": {},
     "output_type": "execute_result"
    },
    {
     "data": {
      "image/png": "[encoded data removed]",
      "text/plain": [
       "<Figure size 432x288 with 1 Axes>"
      ]
     },
     "metadata": {
      "needs_background": "light"
     },
     "output_type": "display_data"
    }
   ],
   "source": [
    "pred = np.argmax(pred, axis=1)\n",
    "sns.histplot(pred)"
   ]
  },
  {
   "cell_type": "markdown",
   "id": "564a2927",
   "metadata": {},
   "source": [
    "# data engineering"
   ]
  },
  {
   "cell_type": "markdown",
   "id": "7d48f825",
   "metadata": {},
   "source": [
    "## resampling"
   ]
  },
  {
   "cell_type": "markdown",
   "id": "03e3cf59",
   "metadata": {},
   "source": [
    "On va essayer de remettre les target balanced"
   ]
  },
  {
   "cell_type": "code",
   "execution_count": 76,
   "id": "99293db9",
   "metadata": {},
   "outputs": [],
   "source": [
    "df_target_un = df_clean"
   ]
  },
  {
   "cell_type": "code",
   "execution_count": 77,
   "id": "b7a02a27",
   "metadata": {},
   "outputs": [],
   "source": [
    "df0= df_target_un[df_target_un['nerdy']==0].sample(frac=1)\n",
    "df1= df_target_un[df_target_un['nerdy']==1].sample(frac=1)\n",
    "df2= df_target_un[df_target_un['nerdy']==2].sample(frac=1)\n",
    "df3= df_target_un[df_target_un['nerdy']==3].sample(frac=1)\n",
    "df4= df_target_un[df_target_un['nerdy']==4].sample(frac=1)\n",
    "df5= df_target_un[df_target_un['nerdy']==5].sample(frac=1)\n",
    "df6= df_target_un[df_target_un['nerdy']==6].sample(frac=1)\n",
    "df7= df_target_un[df_target_un['nerdy']==7].sample(frac=1)"
   ]
  },
  {
   "cell_type": "code",
   "execution_count": 78,
   "id": "7f1a85cd",
   "metadata": {},
   "outputs": [
    {
     "name": "stdout",
     "output_type": "stream",
     "text": [
      "(270, 49)\n",
      "(304, 49)\n",
      "(386, 49)\n",
      "(504, 49)\n",
      "(1802, 49)\n",
      "(3511, 49)\n",
      "(4460, 49)\n",
      "(3896, 49)\n"
     ]
    }
   ],
   "source": [
    "print(df0.shape)\n",
    "print(df1.shape)\n",
    "print(df2.shape)\n",
    "print(df3.shape)\n",
    "print(df4.shape)\n",
    "print(df5.shape)\n",
    "print(df6.shape)\n",
    "print(df7.shape)\n"
   ]
  },
  {
   "cell_type": "markdown",
   "id": "e26bf6db",
   "metadata": {},
   "source": [
    "Je pars sur : elever à 1000 rows avedc le smote les nerdy ranké de 0 à 4.\\\n",
    "diminué à 2000 les nerdy ranké de 5 à 7"
   ]
  },
  {
   "cell_type": "code",
   "execution_count": 79,
   "id": "4170a00c",
   "metadata": {},
   "outputs": [
    {
     "name": "stdout",
     "output_type": "stream",
     "text": [
      "(2300, 49)\n",
      "(2300, 49)\n",
      "(2300, 49)\n"
     ]
    }
   ],
   "source": [
    "df5 = df5.iloc[:2300, :]\n",
    "print(df5.shape)\n",
    "df6 = df6.iloc[:2300, :]\n",
    "print(df6.shape)\n",
    "df7 = df7.iloc[:2300, :]\n",
    "print(df7.shape)"
   ]
  },
  {
   "cell_type": "code",
   "execution_count": 80,
   "id": "49b7de2e",
   "metadata": {},
   "outputs": [
    {
     "data": {
      "text/plain": [
       "(6900, 49)"
      ]
     },
     "execution_count": 80,
     "metadata": {},
     "output_type": "execute_result"
    }
   ],
   "source": [
    "df_lowsample = pd.concat([df5, df6, df7])\n",
    "df_lowsample.shape"
   ]
  },
  {
   "cell_type": "code",
   "execution_count": 81,
   "id": "1494f073",
   "metadata": {},
   "outputs": [
    {
     "name": "stderr",
     "output_type": "stream",
     "text": [
      "/Users/maximedupouy/.pyenv/versions/3.8.6/envs/lewagon/lib/python3.8/site-packages/imblearn/utils/_validation.py:299: UserWarning: After over-sampling, the number of samples (600) in class 0 will be larger than the number of samples in the majority class (class #3 -> 504)\n",
      "  warnings.warn(\n",
      "/Users/maximedupouy/.pyenv/versions/3.8.6/envs/lewagon/lib/python3.8/site-packages/imblearn/utils/_validation.py:299: UserWarning: After over-sampling, the number of samples (600) in class 1 will be larger than the number of samples in the majority class (class #3 -> 504)\n",
      "  warnings.warn(\n",
      "/Users/maximedupouy/.pyenv/versions/3.8.6/envs/lewagon/lib/python3.8/site-packages/imblearn/utils/_validation.py:299: UserWarning: After over-sampling, the number of samples (600) in class 2 will be larger than the number of samples in the majority class (class #3 -> 504)\n",
      "  warnings.warn(\n",
      "/Users/maximedupouy/.pyenv/versions/3.8.6/envs/lewagon/lib/python3.8/site-packages/imblearn/utils/_validation.py:299: UserWarning: After over-sampling, the number of samples (1000) in class 3 will be larger than the number of samples in the majority class (class #3 -> 504)\n",
      "  warnings.warn(\n"
     ]
    }
   ],
   "source": [
    "df_oversample = pd.concat([df0,df1,df2,df3])\n",
    "X_oversample = df_oversample.drop(columns='nerdy')\n",
    "y_oversample = df_oversample['nerdy']\n",
    "sm = SVMSMOTE(sampling_strategy={0:600,1:600, 2:600, 3:1000}, random_state=42)\n",
    "X_res, y_res = sm.fit_resample(X_oversample, y_oversample)"
   ]
  },
  {
   "cell_type": "code",
   "execution_count": 82,
   "id": "93c89fe5",
   "metadata": {},
   "outputs": [
    {
     "data": {
      "text/plain": [
       "(2800, 48)"
      ]
     },
     "execution_count": 82,
     "metadata": {},
     "output_type": "execute_result"
    }
   ],
   "source": [
    "X_res.shape"
   ]
  },
  {
   "cell_type": "code",
   "execution_count": 86,
   "id": "f1290660",
   "metadata": {},
   "outputs": [
    {
     "data": {
      "text/plain": [
       "(2800, 49)"
      ]
     },
     "execution_count": 86,
     "metadata": {},
     "output_type": "execute_result"
    }
   ],
   "source": [
    "df_oversample = pd.concat([X_res, y_res], axis=1)\n",
    "df_oversample.shape"
   ]
  },
  {
   "cell_type": "code",
   "execution_count": 134,
   "id": "3abd3749",
   "metadata": {},
   "outputs": [
    {
     "name": "stdout",
     "output_type": "stream",
     "text": [
      "(11502, 49)\n",
      "6    2300\n",
      "7    2300\n",
      "5    2300\n",
      "4    1802\n",
      "3    1000\n",
      "0     600\n",
      "2     600\n",
      "1     600\n",
      "Name: nerdy, dtype: int64\n"
     ]
    },
    {
     "data": {
      "text/html": [
       "<div>\n",
       "<style scoped>\n",
       "    .dataframe tbody tr th:only-of-type {\n",
       "        vertical-align: middle;\n",
       "    }\n",
       "\n",
       "    .dataframe tbody tr th {\n",
       "        vertical-align: top;\n",
       "    }\n",
       "\n",
       "    .dataframe thead th {\n",
       "        text-align: right;\n",
       "    }\n",
       "</style>\n",
       "<table border=\"1\" class=\"dataframe\">\n",
       "  <thead>\n",
       "    <tr style=\"text-align: right;\">\n",
       "      <th></th>\n",
       "      <th>Q1</th>\n",
       "      <th>Q2</th>\n",
       "      <th>Q3</th>\n",
       "      <th>Q4</th>\n",
       "      <th>Q5</th>\n",
       "      <th>Q6</th>\n",
       "      <th>Q8</th>\n",
       "      <th>Q9</th>\n",
       "      <th>Q11</th>\n",
       "      <th>Q12</th>\n",
       "      <th>...</th>\n",
       "      <th>age</th>\n",
       "      <th>screenw</th>\n",
       "      <th>screenh</th>\n",
       "      <th>religion</th>\n",
       "      <th>orientation</th>\n",
       "      <th>familysize</th>\n",
       "      <th>race_arab</th>\n",
       "      <th>race_nativeam</th>\n",
       "      <th>race_nativeau</th>\n",
       "      <th>nerdy</th>\n",
       "    </tr>\n",
       "  </thead>\n",
       "  <tbody>\n",
       "    <tr>\n",
       "      <th>2026</th>\n",
       "      <td>5.000000</td>\n",
       "      <td>5.000000</td>\n",
       "      <td>5.000000</td>\n",
       "      <td>5.0</td>\n",
       "      <td>3.000000</td>\n",
       "      <td>3.000000</td>\n",
       "      <td>5.00000</td>\n",
       "      <td>3.000000</td>\n",
       "      <td>5.000000</td>\n",
       "      <td>3.000000</td>\n",
       "      <td>...</td>\n",
       "      <td>19.000000</td>\n",
       "      <td>1600</td>\n",
       "      <td>900</td>\n",
       "      <td>1.000000</td>\n",
       "      <td>1.0</td>\n",
       "      <td>3.000000</td>\n",
       "      <td>0</td>\n",
       "      <td>0</td>\n",
       "      <td>0</td>\n",
       "      <td>6</td>\n",
       "    </tr>\n",
       "    <tr>\n",
       "      <th>13582</th>\n",
       "      <td>5.000000</td>\n",
       "      <td>5.000000</td>\n",
       "      <td>5.000000</td>\n",
       "      <td>5.0</td>\n",
       "      <td>5.000000</td>\n",
       "      <td>5.000000</td>\n",
       "      <td>5.00000</td>\n",
       "      <td>5.000000</td>\n",
       "      <td>3.000000</td>\n",
       "      <td>5.000000</td>\n",
       "      <td>...</td>\n",
       "      <td>22.000000</td>\n",
       "      <td>414</td>\n",
       "      <td>736</td>\n",
       "      <td>1.000000</td>\n",
       "      <td>1.0</td>\n",
       "      <td>3.000000</td>\n",
       "      <td>0</td>\n",
       "      <td>0</td>\n",
       "      <td>0</td>\n",
       "      <td>7</td>\n",
       "    </tr>\n",
       "    <tr>\n",
       "      <th>2318</th>\n",
       "      <td>4.181985</td>\n",
       "      <td>2.818015</td>\n",
       "      <td>4.181985</td>\n",
       "      <td>5.0</td>\n",
       "      <td>2.181985</td>\n",
       "      <td>2.545956</td>\n",
       "      <td>4.63603</td>\n",
       "      <td>2.181985</td>\n",
       "      <td>2.545956</td>\n",
       "      <td>3.181985</td>\n",
       "      <td>...</td>\n",
       "      <td>20.545956</td>\n",
       "      <td>360</td>\n",
       "      <td>640</td>\n",
       "      <td>1.181985</td>\n",
       "      <td>2.0</td>\n",
       "      <td>1.181985</td>\n",
       "      <td>0</td>\n",
       "      <td>0</td>\n",
       "      <td>0</td>\n",
       "      <td>3</td>\n",
       "    </tr>\n",
       "    <tr>\n",
       "      <th>11745</th>\n",
       "      <td>3.000000</td>\n",
       "      <td>5.000000</td>\n",
       "      <td>5.000000</td>\n",
       "      <td>2.0</td>\n",
       "      <td>4.000000</td>\n",
       "      <td>5.000000</td>\n",
       "      <td>5.00000</td>\n",
       "      <td>5.000000</td>\n",
       "      <td>4.000000</td>\n",
       "      <td>3.000000</td>\n",
       "      <td>...</td>\n",
       "      <td>15.000000</td>\n",
       "      <td>1366</td>\n",
       "      <td>768</td>\n",
       "      <td>2.000000</td>\n",
       "      <td>1.0</td>\n",
       "      <td>9.000000</td>\n",
       "      <td>0</td>\n",
       "      <td>0</td>\n",
       "      <td>0</td>\n",
       "      <td>7</td>\n",
       "    </tr>\n",
       "    <tr>\n",
       "      <th>9823</th>\n",
       "      <td>5.000000</td>\n",
       "      <td>5.000000</td>\n",
       "      <td>3.000000</td>\n",
       "      <td>4.0</td>\n",
       "      <td>5.000000</td>\n",
       "      <td>5.000000</td>\n",
       "      <td>4.00000</td>\n",
       "      <td>5.000000</td>\n",
       "      <td>5.000000</td>\n",
       "      <td>5.000000</td>\n",
       "      <td>...</td>\n",
       "      <td>22.000000</td>\n",
       "      <td>1280</td>\n",
       "      <td>720</td>\n",
       "      <td>2.000000</td>\n",
       "      <td>1.0</td>\n",
       "      <td>3.000000</td>\n",
       "      <td>0</td>\n",
       "      <td>0</td>\n",
       "      <td>0</td>\n",
       "      <td>6</td>\n",
       "    </tr>\n",
       "  </tbody>\n",
       "</table>\n",
       "<p>5 rows × 49 columns</p>\n",
       "</div>"
      ],
      "text/plain": [
       "             Q1        Q2        Q3   Q4        Q5        Q6       Q8  \\\n",
       "2026   5.000000  5.000000  5.000000  5.0  3.000000  3.000000  5.00000   \n",
       "13582  5.000000  5.000000  5.000000  5.0  5.000000  5.000000  5.00000   \n",
       "2318   4.181985  2.818015  4.181985  5.0  2.181985  2.545956  4.63603   \n",
       "11745  3.000000  5.000000  5.000000  2.0  4.000000  5.000000  5.00000   \n",
       "9823   5.000000  5.000000  3.000000  4.0  5.000000  5.000000  4.00000   \n",
       "\n",
       "             Q9       Q11       Q12  ...        age  screenw  screenh  \\\n",
       "2026   3.000000  5.000000  3.000000  ...  19.000000     1600      900   \n",
       "13582  5.000000  3.000000  5.000000  ...  22.000000      414      736   \n",
       "2318   2.181985  2.545956  3.181985  ...  20.545956      360      640   \n",
       "11745  5.000000  4.000000  3.000000  ...  15.000000     1366      768   \n",
       "9823   5.000000  5.000000  5.000000  ...  22.000000     1280      720   \n",
       "\n",
       "       religion  orientation  familysize  race_arab  race_nativeam  \\\n",
       "2026   1.000000          1.0    3.000000          0              0   \n",
       "13582  1.000000          1.0    3.000000          0              0   \n",
       "2318   1.181985          2.0    1.181985          0              0   \n",
       "11745  2.000000          1.0    9.000000          0              0   \n",
       "9823   2.000000          1.0    3.000000          0              0   \n",
       "\n",
       "       race_nativeau  nerdy  \n",
       "2026               0      6  \n",
       "13582              0      7  \n",
       "2318               0      3  \n",
       "11745              0      7  \n",
       "9823               0      6  \n",
       "\n",
       "[5 rows x 49 columns]"
      ]
     },
     "execution_count": 134,
     "metadata": {},
     "output_type": "execute_result"
    }
   ],
   "source": [
    "df_resample = pd.concat([df_oversample, df4, df_lowsample])\n",
    "df_resample = df_resample.sample(frac=1)\n",
    "print(df_resample.shape)\n",
    "print(df_resample['nerdy'].value_counts())\n",
    "df_resample.head()"
   ]
  },
  {
   "cell_type": "code",
   "execution_count": 136,
   "id": "c4f489cc",
   "metadata": {},
   "outputs": [],
   "source": [
    "X_resample = df_resample.drop(columns='nerdy')\n",
    "X_resample = scaler.transform(X_resample)\n",
    "y_resample = df_resample['nerdy']\n",
    "y_resample = to_categorical(y_resample)\n",
    "X_train_resample, X_test_resample, y_train_resample, y_test_resample = train_test_split(X_resample, y_resample, test_size=0.3, random_state=0)"
   ]
  },
  {
   "cell_type": "code",
   "execution_count": 137,
   "id": "d000861a",
   "metadata": {},
   "outputs": [
    {
     "data": {
      "text/plain": [
       "array([[ 0.94143468,  0.79931488,  0.75716611, ..., -0.13879175,\n",
       "        -0.20441903, -0.06256216],\n",
       "       [-0.894617  ,  0.79931488, -1.2077079 , ..., -0.13879175,\n",
       "        -0.20441903, -0.06256216],\n",
       "       [-0.55886558,  0.79931488, -0.2252709 , ..., -0.13879175,\n",
       "        -0.20441903, -0.06256216],\n",
       "       ...,\n",
       "       [ 0.94143468,  0.79931488, -0.2252709 , ..., -0.13879175,\n",
       "        -0.20441903, -0.06256216],\n",
       "       [ 0.02340884,  0.79931488,  0.75716611, ..., -0.13879175,\n",
       "        -0.20441903, -0.06256216],\n",
       "       [-0.894617  , -1.76647113, -2.1901449 , ..., -0.13879175,\n",
       "        -0.20441903, -0.06256216]])"
      ]
     },
     "execution_count": 137,
     "metadata": {},
     "output_type": "execute_result"
    }
   ],
   "source": [
    "X_train_resample"
   ]
  },
  {
   "cell_type": "code",
   "execution_count": 138,
   "id": "1fa67db8",
   "metadata": {},
   "outputs": [
    {
     "name": "stdout",
     "output_type": "stream",
     "text": [
      "Model: \"sequential_15\"\n",
      "_________________________________________________________________\n",
      "Layer (type)                 Output Shape              Param #   \n",
      "=================================================================\n",
      "dense_56 (Dense)             (None, 2000)              98000     \n",
      "_________________________________________________________________\n",
      "dense_57 (Dense)             (None, 1000)              2001000   \n",
      "_________________________________________________________________\n",
      "dense_58 (Dense)             (None, 8)                 8008      \n",
      "=================================================================\n",
      "Total params: 2,107,008\n",
      "Trainable params: 2,107,008\n",
      "Non-trainable params: 0\n",
      "_________________________________________________________________\n"
     ]
    }
   ],
   "source": [
    "model_resample = Sequential()\n",
    "model_resample.add(layers.Dense(2000,input_dim=48, activation=\"relu\"))\n",
    "model_resample.add(layers.Dense(1000, activation=\"relu\"))\n",
    "model_resample.add(layers.Dense(8, activation=\"softmax\"))\n",
    "model_resample.summary()"
   ]
  },
  {
   "cell_type": "code",
   "execution_count": 139,
   "id": "db77b399",
   "metadata": {},
   "outputs": [
    {
     "name": "stdout",
     "output_type": "stream",
     "text": [
      "Epoch 1/1000\n",
      "353/353 [==============================] - 2s 6ms/step - loss: 1.6869 - root_mean_squared_error: 0.3111 - val_loss: 1.6229 - val_root_mean_squared_error: 0.3063\n",
      "Epoch 2/1000\n",
      "353/353 [==============================] - 2s 5ms/step - loss: 1.5494 - root_mean_squared_error: 0.3024 - val_loss: 1.6135 - val_root_mean_squared_error: 0.3051\n",
      "Epoch 3/1000\n",
      "353/353 [==============================] - 2s 5ms/step - loss: 1.4507 - root_mean_squared_error: 0.2951 - val_loss: 1.5767 - val_root_mean_squared_error: 0.3022\n",
      "Epoch 4/1000\n",
      "353/353 [==============================] - 2s 5ms/step - loss: 1.3268 - root_mean_squared_error: 0.2853 - val_loss: 1.5985 - val_root_mean_squared_error: 0.3037\n",
      "Epoch 5/1000\n",
      "353/353 [==============================] - 2s 5ms/step - loss: 1.1839 - root_mean_squared_error: 0.2726 - val_loss: 1.6903 - val_root_mean_squared_error: 0.3069\n",
      "Epoch 6/1000\n",
      "353/353 [==============================] - 2s 5ms/step - loss: 0.9930 - root_mean_squared_error: 0.2522 - val_loss: 1.8102 - val_root_mean_squared_error: 0.3132\n",
      "Epoch 7/1000\n",
      "353/353 [==============================] - 2s 5ms/step - loss: 0.7873 - root_mean_squared_error: 0.2270 - val_loss: 1.9177 - val_root_mean_squared_error: 0.3174\n",
      "Epoch 8/1000\n",
      "353/353 [==============================] - 2s 5ms/step - loss: 0.5671 - root_mean_squared_error: 0.1916 - val_loss: 2.1638 - val_root_mean_squared_error: 0.3259\n"
     ]
    },
    {
     "data": {
      "text/plain": [
       "<tensorflow.python.keras.callbacks.History at 0x1d423b1f0>"
      ]
     },
     "execution_count": 139,
     "metadata": {},
     "output_type": "execute_result"
    }
   ],
   "source": [
    "model_resample.compile(optimizer='adam', loss='categorical_crossentropy',metrics=[RootMeanSquaredError()])\n",
    "es = EarlyStopping(restore_best_weights=True, patience=5)\n",
    "model_resample.fit(X_train_resample,y_train_resample,batch_size=16,epochs=1000, validation_split=0.3, callbacks=[es])"
   ]
  },
  {
   "cell_type": "code",
   "execution_count": 140,
   "id": "dc23b65e",
   "metadata": {},
   "outputs": [
    {
     "name": "stdout",
     "output_type": "stream",
     "text": [
      "108/108 [==============================] - 0s 4ms/step - loss: 1.5679 - root_mean_squared_error: 0.3026\n"
     ]
    },
    {
     "data": {
      "text/plain": [
       "[1.5678958892822266, 0.3025815486907959]"
      ]
     },
     "execution_count": 140,
     "metadata": {},
     "output_type": "execute_result"
    }
   ],
   "source": [
    "model_resample.evaluate(X_test_resample, y_test_resample)"
   ]
  },
  {
   "cell_type": "code",
   "execution_count": 141,
   "id": "a7608a54",
   "metadata": {},
   "outputs": [
    {
     "data": {
      "text/plain": [
       "<AxesSubplot:ylabel='Count'>"
      ]
     },
     "execution_count": 141,
     "metadata": {},
     "output_type": "execute_result"
    },
    {
     "data": {
      "image/png": "[encoded data removed]",
      "text/plain": [
       "<Figure size 432x288 with 1 Axes>"
      ]
     },
     "metadata": {
      "needs_background": "light"
     },
     "output_type": "display_data"
    }
   ],
   "source": [
    "azerty_ = model_resample.predict(X_test_resample)\n",
    "sns.histplot(np.argmax(azerty_, axis=1))"
   ]
  },
  {
   "cell_type": "markdown",
   "id": "0e745f72",
   "metadata": {},
   "source": [
    "## resampling + PCA"
   ]
  },
  {
   "cell_type": "code",
   "execution_count": 264,
   "id": "8092f249",
   "metadata": {},
   "outputs": [],
   "source": [
    "y_resample = df_resample['nerdy']\n",
    "y_resample = to_categorical(y_resample)"
   ]
  },
  {
   "cell_type": "code",
   "execution_count": 265,
   "id": "3cdf6ada",
   "metadata": {},
   "outputs": [],
   "source": [
    "X_resample = df_resample.drop(columns='nerdy')\n",
    "scaler_resample_pca = StandardScaler()\n",
    "scaler_resample_pca.fit(X_resample)\n",
    "X_resample = scaler_resample_pca.transform(X_resample)"
   ]
  },
  {
   "cell_type": "code",
   "execution_count": 266,
   "id": "517d8616",
   "metadata": {},
   "outputs": [],
   "source": [
    "pca_ = PCA()\n",
    "pca_.fit(X_resample)\n",
    "X_resample_pca = pca_.transform(X_resample)\n",
    "\n",
    "X_train_resample_pca, X_test_resample_pca, y_train_resample_pca, y_test_resample_pca = train_test_split(X_resample_pca, y_resample, test_size=0.3, random_state=0)"
   ]
  },
  {
   "cell_type": "code",
   "execution_count": 303,
   "id": "8a44fe7b",
   "metadata": {},
   "outputs": [
    {
     "name": "stdout",
     "output_type": "stream",
     "text": [
      "Model: \"sequential_27\"\n",
      "_________________________________________________________________\n",
      "Layer (type)                 Output Shape              Param #   \n",
      "=================================================================\n",
      "dense_93 (Dense)             (None, 100)               4900      \n",
      "_________________________________________________________________\n",
      "dense_94 (Dense)             (None, 50)                5050      \n",
      "_________________________________________________________________\n",
      "dense_95 (Dense)             (None, 8)                 408       \n",
      "=================================================================\n",
      "Total params: 10,358\n",
      "Trainable params: 10,358\n",
      "Non-trainable params: 0\n",
      "_________________________________________________________________\n"
     ]
    }
   ],
   "source": [
    "model_resample_pca = Sequential()\n",
    "model_resample_pca.add(layers.Dense(100,input_dim=48, activation=\"relu\"))\n",
    "model_resample_pca.add(layers.Dense(50, activation=\"relu\"))\n",
    "model_resample_pca.add(layers.Dense(8, activation=\"softmax\"))\n",
    "model_resample_pca.summary()"
   ]
  },
  {
   "cell_type": "code",
   "execution_count": 304,
   "id": "e8449c55",
   "metadata": {},
   "outputs": [
    {
     "name": "stdout",
     "output_type": "stream",
     "text": [
      "Epoch 1/1000\n",
      "177/177 [==============================] - 1s 2ms/step - loss: 1.7786 - precision: 0.6019 - recall: 0.0456 - val_loss: 1.6581 - val_precision: 0.7476 - val_recall: 0.0650\n",
      "Epoch 2/1000\n",
      "177/177 [==============================] - 0s 796us/step - loss: 1.6001 - precision: 0.6208 - recall: 0.0793 - val_loss: 1.6171 - val_precision: 0.6985 - val_recall: 0.0786\n",
      "Epoch 3/1000\n",
      "177/177 [==============================] - 0s 758us/step - loss: 1.5361 - precision: 0.6608 - recall: 0.0937 - val_loss: 1.5938 - val_precision: 0.6554 - val_recall: 0.0882\n",
      "Epoch 4/1000\n",
      "177/177 [==============================] - 0s 796us/step - loss: 1.4859 - precision: 0.6701 - recall: 0.1139 - val_loss: 1.5901 - val_precision: 0.6448 - val_recall: 0.0977\n",
      "Epoch 5/1000\n",
      "177/177 [==============================] - 0s 756us/step - loss: 1.4497 - precision: 0.6781 - recall: 0.1301 - val_loss: 1.5886 - val_precision: 0.5889 - val_recall: 0.1316\n",
      "Epoch 6/1000\n",
      "177/177 [==============================] - 0s 808us/step - loss: 1.4075 - precision: 0.7037 - recall: 0.1462 - val_loss: 1.5833 - val_precision: 0.6186 - val_recall: 0.1209\n",
      "Epoch 7/1000\n",
      "177/177 [==============================] - 0s 790us/step - loss: 1.3694 - precision: 0.7130 - recall: 0.1631 - val_loss: 1.5946 - val_precision: 0.5570 - val_recall: 0.1416\n",
      "Epoch 8/1000\n",
      "177/177 [==============================] - 0s 794us/step - loss: 1.3353 - precision: 0.7236 - recall: 0.1821 - val_loss: 1.5952 - val_precision: 0.5625 - val_recall: 0.1490\n",
      "Epoch 9/1000\n",
      "177/177 [==============================] - 0s 755us/step - loss: 1.3036 - precision: 0.7211 - recall: 0.1991 - val_loss: 1.5932 - val_precision: 0.5521 - val_recall: 0.1449\n",
      "Epoch 10/1000\n",
      "177/177 [==============================] - 0s 799us/step - loss: 1.2648 - precision: 0.7306 - recall: 0.2238 - val_loss: 1.6184 - val_precision: 0.5408 - val_recall: 0.1345\n",
      "Epoch 11/1000\n",
      "177/177 [==============================] - 0s 754us/step - loss: 1.2374 - precision: 0.7336 - recall: 0.2419 - val_loss: 1.6170 - val_precision: 0.5288 - val_recall: 0.1672\n"
     ]
    },
    {
     "data": {
      "text/plain": [
       "<tensorflow.python.keras.callbacks.History at 0x1d8049a30>"
      ]
     },
     "execution_count": 304,
     "metadata": {},
     "output_type": "execute_result"
    }
   ],
   "source": [
    "model_resample_pca.compile(optimizer='adam', loss='categorical_crossentropy',metrics=['Precision', 'Recall'])\n",
    "es = EarlyStopping(restore_best_weights=True, patience=5)\n",
    "model_resample_pca.fit(X_train_resample_pca,y_train_resample_pca,batch_size=32,epochs=1000, validation_split=0.3, callbacks=[es])"
   ]
  },
  {
   "cell_type": "code",
   "execution_count": 305,
   "id": "a09de345",
   "metadata": {},
   "outputs": [
    {
     "name": "stdout",
     "output_type": "stream",
     "text": [
      "108/108 [==============================] - 0s 475us/step - loss: 1.5821 - precision: 0.6158 - recall: 0.1217\n",
      "[1.5820761919021606, 0.6158357858657837, 0.1217038556933403]\n"
     ]
    },
    {
     "data": {
      "text/plain": [
       "<AxesSubplot:ylabel='Count'>"
      ]
     },
     "execution_count": 305,
     "metadata": {},
     "output_type": "execute_result"
    },
    {
     "data": {
      "image/png": "[encoded data removed]",
      "text/plain": [
       "<Figure size 432x288 with 1 Axes>"
      ]
     },
     "metadata": {
      "needs_background": "light"
     },
     "output_type": "display_data"
    }
   ],
   "source": [
    "print(model_resample_pca.evaluate(X_test_resample_pca, y_test_resample_pca))\n",
    "y_pred_resample_pca = model_resample_pca.predict(X_test_resample)\n",
    "sns.histplot(np.argmax(y_pred_resample_pca, axis=1))"
   ]
  },
  {
   "cell_type": "code",
   "execution_count": 306,
   "id": "6a3e1a7a",
   "metadata": {},
   "outputs": [
    {
     "data": {
      "text/plain": [
       "4.533468559837728"
      ]
     },
     "execution_count": 306,
     "metadata": {},
     "output_type": "execute_result"
    }
   ],
   "source": [
    "mean_squared_error(np.argmax(y_test_resample_pca, axis=1), np.argmax(y_pred_resample_pca, axis=1))"
   ]
  },
  {
   "cell_type": "code",
   "execution_count": 307,
   "id": "5b19bf02",
   "metadata": {},
   "outputs": [
    {
     "data": {
      "text/plain": [
       "<AxesSubplot:ylabel='Count'>"
      ]
     },
     "execution_count": 307,
     "metadata": {},
     "output_type": "execute_result"
    },
    {
     "data": {
      "image/png": "[encoded data removed]",
      "text/plain": [
       "<Figure size 432x288 with 1 Axes>"
      ]
     },
     "metadata": {
      "needs_background": "light"
     },
     "output_type": "display_data"
    }
   ],
   "source": [
    "sns.histplot(np.argmax(y_test_resample_pca, axis=1))"
   ]
  },
  {
   "cell_type": "markdown",
   "id": "c55ccf77",
   "metadata": {},
   "source": [
    "# PCA"
   ]
  },
  {
   "cell_type": "code",
   "execution_count": 153,
   "id": "b0a168b2",
   "metadata": {},
   "outputs": [
    {
     "data": {
      "text/plain": [
       "array([[ 0.02340884,  0.79931488,  0.75716611, ..., -0.13879175,\n",
       "        -0.20441903, -0.06256216],\n",
       "       [ 0.02340884, -0.91120913, -1.2077079 , ..., -0.13879175,\n",
       "        -0.20441903, -0.06256216],\n",
       "       [ 0.94143468,  0.79931488,  0.75716611, ..., -0.13879175,\n",
       "        -0.20441903, -0.06256216],\n",
       "       ...,\n",
       "       [ 0.02340884, -0.01350334, -2.1901449 , ..., -0.13879175,\n",
       "        -0.20441903, -0.06256216],\n",
       "       [ 0.02340884, -0.05594712,  0.75716611, ..., -0.13879175,\n",
       "        -0.20441903, -0.06256216],\n",
       "       [ 0.94143468, -0.05594712, -0.2252709 , ..., -0.13879175,\n",
       "        -0.20441903, -0.06256216]])"
      ]
     },
     "execution_count": 153,
     "metadata": {},
     "output_type": "execute_result"
    }
   ],
   "source": [
    "X_clean"
   ]
  },
  {
   "cell_type": "code",
   "execution_count": 154,
   "id": "dd7ec746",
   "metadata": {},
   "outputs": [],
   "source": [
    "pca = PCA()\n",
    "pca.fit(X_clean)\n",
    "X_pca = pca.fit_transform(X_clean)\n"
   ]
  },
  {
   "cell_type": "code",
   "execution_count": 155,
   "id": "07f1aa22",
   "metadata": {},
   "outputs": [],
   "source": [
    "X_train_pca, X_test_pca, y_train_pca, y_test_pca = train_test_split(X_pca, y_clean, test_size=0.3, random_state=0)"
   ]
  },
  {
   "cell_type": "code",
   "execution_count": 156,
   "id": "f2cf5ff5",
   "metadata": {},
   "outputs": [],
   "source": [
    "y_train_pca=to_categorical(y_train_pca)"
   ]
  },
  {
   "cell_type": "code",
   "execution_count": 157,
   "id": "d29d481c",
   "metadata": {},
   "outputs": [
    {
     "name": "stdout",
     "output_type": "stream",
     "text": [
      "Model: \"sequential_17\"\n",
      "_________________________________________________________________\n",
      "Layer (type)                 Output Shape              Param #   \n",
      "=================================================================\n",
      "dense_62 (Dense)             (None, 5000)              245000    \n",
      "_________________________________________________________________\n",
      "dense_63 (Dense)             (None, 1000)              5001000   \n",
      "_________________________________________________________________\n",
      "dropout_18 (Dropout)         (None, 1000)              0         \n",
      "_________________________________________________________________\n",
      "dense_64 (Dense)             (None, 250)               250250    \n",
      "_________________________________________________________________\n",
      "dropout_19 (Dropout)         (None, 250)               0         \n",
      "_________________________________________________________________\n",
      "dense_65 (Dense)             (None, 8)                 2008      \n",
      "=================================================================\n",
      "Total params: 5,498,258\n",
      "Trainable params: 5,498,258\n",
      "Non-trainable params: 0\n",
      "_________________________________________________________________\n"
     ]
    }
   ],
   "source": [
    "model_pca = Sequential()\n",
    "model_pca.add(layers.Dense(5000,input_dim=48, activation=\"relu\"))\n",
    "model_pca.add(layers.Dense(1000, activation=\"relu\"))\n",
    "model_pca.add(layers.Dropout(rate=0.1))\n",
    "model_pca.add(layers.Dense(250, activation=\"relu\"))\n",
    "model_pca.add(layers.Dropout(rate=0.1))\n",
    "model_pca.add(layers.Dense(8, activation=\"softmax\"))\n",
    "model_pca.summary()"
   ]
  },
  {
   "cell_type": "code",
   "execution_count": 158,
   "id": "7b6e4231",
   "metadata": {},
   "outputs": [
    {
     "name": "stdout",
     "output_type": "stream",
     "text": [
      "Epoch 1/1000\n",
      "927/927 [==============================] - 10s 11ms/step - loss: 1.5592 - root_mean_squared_error: 0.3043 - val_loss: 1.5179 - val_root_mean_squared_error: 0.3002\n",
      "Epoch 2/1000\n",
      "927/927 [==============================] - 10s 11ms/step - loss: 1.4878 - root_mean_squared_error: 0.2990 - val_loss: 1.4891 - val_root_mean_squared_error: 0.2982\n",
      "Epoch 3/1000\n",
      "927/927 [==============================] - 10s 11ms/step - loss: 1.4427 - root_mean_squared_error: 0.2964 - val_loss: 1.4737 - val_root_mean_squared_error: 0.2973\n",
      "Epoch 4/1000\n",
      "927/927 [==============================] - 10s 11ms/step - loss: 1.4095 - root_mean_squared_error: 0.2944 - val_loss: 1.4735 - val_root_mean_squared_error: 0.2971\n",
      "Epoch 5/1000\n",
      "927/927 [==============================] - 10s 11ms/step - loss: 1.3763 - root_mean_squared_error: 0.2919 - val_loss: 1.5101 - val_root_mean_squared_error: 0.2996\n",
      "Epoch 6/1000\n",
      "927/927 [==============================] - 11s 12ms/step - loss: 1.3179 - root_mean_squared_error: 0.2877 - val_loss: 1.5235 - val_root_mean_squared_error: 0.2997\n",
      "Epoch 7/1000\n",
      "927/927 [==============================] - 10s 11ms/step - loss: 1.2560 - root_mean_squared_error: 0.2826 - val_loss: 1.6037 - val_root_mean_squared_error: 0.3051\n",
      "Epoch 8/1000\n",
      "927/927 [==============================] - 10s 11ms/step - loss: 1.1803 - root_mean_squared_error: 0.2760 - val_loss: 1.6944 - val_root_mean_squared_error: 0.3102\n",
      "Epoch 9/1000\n",
      "927/927 [==============================] - 10s 11ms/step - loss: 1.0964 - root_mean_squared_error: 0.2667 - val_loss: 1.7434 - val_root_mean_squared_error: 0.3126\n",
      "Epoch 10/1000\n",
      "927/927 [==============================] - 10s 11ms/step - loss: 0.9866 - root_mean_squared_error: 0.2546 - val_loss: 1.8625 - val_root_mean_squared_error: 0.3167\n",
      "Epoch 11/1000\n",
      "927/927 [==============================] - 11s 12ms/step - loss: 0.8909 - root_mean_squared_error: 0.2427 - val_loss: 1.9688 - val_root_mean_squared_error: 0.3199\n",
      "Epoch 12/1000\n",
      "927/927 [==============================] - 11s 11ms/step - loss: 0.8018 - root_mean_squared_error: 0.2293 - val_loss: 2.2807 - val_root_mean_squared_error: 0.3287\n",
      "Epoch 13/1000\n",
      "927/927 [==============================] - 10s 11ms/step - loss: 0.7238 - root_mean_squared_error: 0.2186 - val_loss: 2.3974 - val_root_mean_squared_error: 0.3327\n",
      "Epoch 14/1000\n",
      "348/927 [==========>...................] - ETA: 6s - loss: 0.6054 - root_mean_squared_error: 0.2007"
     ]
    },
    {
     "ename": "KeyboardInterrupt",
     "evalue": "",
     "output_type": "error",
     "traceback": [
      "\u001b[0;31m---------------------------------------------------------------------------\u001b[0m",
      "\u001b[0;31mKeyboardInterrupt\u001b[0m                         Traceback (most recent call last)",
      "\u001b[0;32m/var/folders/rm/v4zjj0453jl2v5pmlsvnhgnc0000gn/T/ipykernel_18734/2668624104.py\u001b[0m in \u001b[0;36m<module>\u001b[0;34m\u001b[0m\n\u001b[1;32m      1\u001b[0m \u001b[0mmodel_pca\u001b[0m\u001b[0;34m.\u001b[0m\u001b[0mcompile\u001b[0m\u001b[0;34m(\u001b[0m\u001b[0moptimizer\u001b[0m\u001b[0;34m=\u001b[0m\u001b[0;34m'adam'\u001b[0m\u001b[0;34m,\u001b[0m \u001b[0mloss\u001b[0m\u001b[0;34m=\u001b[0m\u001b[0;34m'categorical_crossentropy'\u001b[0m\u001b[0;34m,\u001b[0m\u001b[0mmetrics\u001b[0m\u001b[0;34m=\u001b[0m\u001b[0;34m[\u001b[0m\u001b[0mRootMeanSquaredError\u001b[0m\u001b[0;34m(\u001b[0m\u001b[0;34m)\u001b[0m\u001b[0;34m]\u001b[0m\u001b[0;34m)\u001b[0m\u001b[0;34m\u001b[0m\u001b[0;34m\u001b[0m\u001b[0m\n\u001b[1;32m      2\u001b[0m \u001b[0mes\u001b[0m \u001b[0;34m=\u001b[0m \u001b[0mEarlyStopping\u001b[0m\u001b[0;34m(\u001b[0m\u001b[0mrestore_best_weights\u001b[0m\u001b[0;34m=\u001b[0m\u001b[0;32mTrue\u001b[0m\u001b[0;34m,\u001b[0m \u001b[0mpatience\u001b[0m\u001b[0;34m=\u001b[0m\u001b[0;36m10\u001b[0m\u001b[0;34m)\u001b[0m\u001b[0;34m\u001b[0m\u001b[0;34m\u001b[0m\u001b[0m\n\u001b[0;32m----> 3\u001b[0;31m \u001b[0mmodel_pca\u001b[0m\u001b[0;34m.\u001b[0m\u001b[0mfit\u001b[0m\u001b[0;34m(\u001b[0m\u001b[0mX_train_pca\u001b[0m\u001b[0;34m,\u001b[0m\u001b[0my_train_pca\u001b[0m\u001b[0;34m,\u001b[0m\u001b[0mbatch_size\u001b[0m\u001b[0;34m=\u001b[0m\u001b[0;36m8\u001b[0m\u001b[0;34m,\u001b[0m\u001b[0mepochs\u001b[0m\u001b[0;34m=\u001b[0m\u001b[0;36m1000\u001b[0m\u001b[0;34m,\u001b[0m \u001b[0mvalidation_split\u001b[0m\u001b[0;34m=\u001b[0m\u001b[0;36m0.3\u001b[0m\u001b[0;34m,\u001b[0m \u001b[0mcallbacks\u001b[0m\u001b[0;34m=\u001b[0m\u001b[0;34m[\u001b[0m\u001b[0mes\u001b[0m\u001b[0;34m]\u001b[0m\u001b[0;34m)\u001b[0m\u001b[0;34m\u001b[0m\u001b[0;34m\u001b[0m\u001b[0m\n\u001b[0m",
      "\u001b[0;32m~/.pyenv/versions/3.8.6/envs/lewagon/lib/python3.8/site-packages/tensorflow/python/keras/engine/training.py\u001b[0m in \u001b[0;36mfit\u001b[0;34m(self, x, y, batch_size, epochs, verbose, callbacks, validation_split, validation_data, shuffle, class_weight, sample_weight, initial_epoch, steps_per_epoch, validation_steps, validation_batch_size, validation_freq, max_queue_size, workers, use_multiprocessing)\u001b[0m\n\u001b[1;32m   1181\u001b[0m                 _r=1):\n\u001b[1;32m   1182\u001b[0m               \u001b[0mcallbacks\u001b[0m\u001b[0;34m.\u001b[0m\u001b[0mon_train_batch_begin\u001b[0m\u001b[0;34m(\u001b[0m\u001b[0mstep\u001b[0m\u001b[0;34m)\u001b[0m\u001b[0;34m\u001b[0m\u001b[0;34m\u001b[0m\u001b[0m\n\u001b[0;32m-> 1183\u001b[0;31m               \u001b[0mtmp_logs\u001b[0m \u001b[0;34m=\u001b[0m \u001b[0mself\u001b[0m\u001b[0;34m.\u001b[0m\u001b[0mtrain_function\u001b[0m\u001b[0;34m(\u001b[0m\u001b[0miterator\u001b[0m\u001b[0;34m)\u001b[0m\u001b[0;34m\u001b[0m\u001b[0;34m\u001b[0m\u001b[0m\n\u001b[0m\u001b[1;32m   1184\u001b[0m               \u001b[0;32mif\u001b[0m \u001b[0mdata_handler\u001b[0m\u001b[0;34m.\u001b[0m\u001b[0mshould_sync\u001b[0m\u001b[0;34m:\u001b[0m\u001b[0;34m\u001b[0m\u001b[0;34m\u001b[0m\u001b[0m\n\u001b[1;32m   1185\u001b[0m                 \u001b[0mcontext\u001b[0m\u001b[0;34m.\u001b[0m\u001b[0masync_wait\u001b[0m\u001b[0;34m(\u001b[0m\u001b[0;34m)\u001b[0m\u001b[0;34m\u001b[0m\u001b[0;34m\u001b[0m\u001b[0m\n",
      "\u001b[0;32m~/.pyenv/versions/3.8.6/envs/lewagon/lib/python3.8/site-packages/tensorflow/python/eager/def_function.py\u001b[0m in \u001b[0;36m__call__\u001b[0;34m(self, *args, **kwds)\u001b[0m\n\u001b[1;32m    887\u001b[0m \u001b[0;34m\u001b[0m\u001b[0m\n\u001b[1;32m    888\u001b[0m       \u001b[0;32mwith\u001b[0m \u001b[0mOptionalXlaContext\u001b[0m\u001b[0;34m(\u001b[0m\u001b[0mself\u001b[0m\u001b[0;34m.\u001b[0m\u001b[0m_jit_compile\u001b[0m\u001b[0;34m)\u001b[0m\u001b[0;34m:\u001b[0m\u001b[0;34m\u001b[0m\u001b[0;34m\u001b[0m\u001b[0m\n\u001b[0;32m--> 889\u001b[0;31m         \u001b[0mresult\u001b[0m \u001b[0;34m=\u001b[0m \u001b[0mself\u001b[0m\u001b[0;34m.\u001b[0m\u001b[0m_call\u001b[0m\u001b[0;34m(\u001b[0m\u001b[0;34m*\u001b[0m\u001b[0margs\u001b[0m\u001b[0;34m,\u001b[0m \u001b[0;34m**\u001b[0m\u001b[0mkwds\u001b[0m\u001b[0;34m)\u001b[0m\u001b[0;34m\u001b[0m\u001b[0;34m\u001b[0m\u001b[0m\n\u001b[0m\u001b[1;32m    890\u001b[0m \u001b[0;34m\u001b[0m\u001b[0m\n\u001b[1;32m    891\u001b[0m       \u001b[0mnew_tracing_count\u001b[0m \u001b[0;34m=\u001b[0m \u001b[0mself\u001b[0m\u001b[0;34m.\u001b[0m\u001b[0mexperimental_get_tracing_count\u001b[0m\u001b[0;34m(\u001b[0m\u001b[0;34m)\u001b[0m\u001b[0;34m\u001b[0m\u001b[0;34m\u001b[0m\u001b[0m\n",
      "\u001b[0;32m~/.pyenv/versions/3.8.6/envs/lewagon/lib/python3.8/site-packages/tensorflow/python/eager/def_function.py\u001b[0m in \u001b[0;36m_call\u001b[0;34m(self, *args, **kwds)\u001b[0m\n\u001b[1;32m    915\u001b[0m       \u001b[0;31m# In this case we have created variables on the first call, so we run the\u001b[0m\u001b[0;34m\u001b[0m\u001b[0;34m\u001b[0m\u001b[0;34m\u001b[0m\u001b[0m\n\u001b[1;32m    916\u001b[0m       \u001b[0;31m# defunned version which is guaranteed to never create variables.\u001b[0m\u001b[0;34m\u001b[0m\u001b[0;34m\u001b[0m\u001b[0;34m\u001b[0m\u001b[0m\n\u001b[0;32m--> 917\u001b[0;31m       \u001b[0;32mreturn\u001b[0m \u001b[0mself\u001b[0m\u001b[0;34m.\u001b[0m\u001b[0m_stateless_fn\u001b[0m\u001b[0;34m(\u001b[0m\u001b[0;34m*\u001b[0m\u001b[0margs\u001b[0m\u001b[0;34m,\u001b[0m \u001b[0;34m**\u001b[0m\u001b[0mkwds\u001b[0m\u001b[0;34m)\u001b[0m  \u001b[0;31m# pylint: disable=not-callable\u001b[0m\u001b[0;34m\u001b[0m\u001b[0;34m\u001b[0m\u001b[0m\n\u001b[0m\u001b[1;32m    918\u001b[0m     \u001b[0;32melif\u001b[0m \u001b[0mself\u001b[0m\u001b[0;34m.\u001b[0m\u001b[0m_stateful_fn\u001b[0m \u001b[0;32mis\u001b[0m \u001b[0;32mnot\u001b[0m \u001b[0;32mNone\u001b[0m\u001b[0;34m:\u001b[0m\u001b[0;34m\u001b[0m\u001b[0;34m\u001b[0m\u001b[0m\n\u001b[1;32m    919\u001b[0m       \u001b[0;31m# Release the lock early so that multiple threads can perform the call\u001b[0m\u001b[0;34m\u001b[0m\u001b[0;34m\u001b[0m\u001b[0;34m\u001b[0m\u001b[0m\n",
      "\u001b[0;32m~/.pyenv/versions/3.8.6/envs/lewagon/lib/python3.8/site-packages/tensorflow/python/eager/function.py\u001b[0m in \u001b[0;36m__call__\u001b[0;34m(self, *args, **kwargs)\u001b[0m\n\u001b[1;32m   3021\u001b[0m       (graph_function,\n\u001b[1;32m   3022\u001b[0m        filtered_flat_args) = self._maybe_define_function(args, kwargs)\n\u001b[0;32m-> 3023\u001b[0;31m     return graph_function._call_flat(\n\u001b[0m\u001b[1;32m   3024\u001b[0m         filtered_flat_args, captured_inputs=graph_function.captured_inputs)  # pylint: disable=protected-access\n\u001b[1;32m   3025\u001b[0m \u001b[0;34m\u001b[0m\u001b[0m\n",
      "\u001b[0;32m~/.pyenv/versions/3.8.6/envs/lewagon/lib/python3.8/site-packages/tensorflow/python/eager/function.py\u001b[0m in \u001b[0;36m_call_flat\u001b[0;34m(self, args, captured_inputs, cancellation_manager)\u001b[0m\n\u001b[1;32m   1958\u001b[0m         and executing_eagerly):\n\u001b[1;32m   1959\u001b[0m       \u001b[0;31m# No tape is watching; skip to running the function.\u001b[0m\u001b[0;34m\u001b[0m\u001b[0;34m\u001b[0m\u001b[0;34m\u001b[0m\u001b[0m\n\u001b[0;32m-> 1960\u001b[0;31m       return self._build_call_outputs(self._inference_function.call(\n\u001b[0m\u001b[1;32m   1961\u001b[0m           ctx, args, cancellation_manager=cancellation_manager))\n\u001b[1;32m   1962\u001b[0m     forward_backward = self._select_forward_and_backward_functions(\n",
      "\u001b[0;32m~/.pyenv/versions/3.8.6/envs/lewagon/lib/python3.8/site-packages/tensorflow/python/eager/function.py\u001b[0m in \u001b[0;36mcall\u001b[0;34m(self, ctx, args, cancellation_manager)\u001b[0m\n\u001b[1;32m    589\u001b[0m       \u001b[0;32mwith\u001b[0m \u001b[0m_InterpolateFunctionError\u001b[0m\u001b[0;34m(\u001b[0m\u001b[0mself\u001b[0m\u001b[0;34m)\u001b[0m\u001b[0;34m:\u001b[0m\u001b[0;34m\u001b[0m\u001b[0;34m\u001b[0m\u001b[0m\n\u001b[1;32m    590\u001b[0m         \u001b[0;32mif\u001b[0m \u001b[0mcancellation_manager\u001b[0m \u001b[0;32mis\u001b[0m \u001b[0;32mNone\u001b[0m\u001b[0;34m:\u001b[0m\u001b[0;34m\u001b[0m\u001b[0;34m\u001b[0m\u001b[0m\n\u001b[0;32m--> 591\u001b[0;31m           outputs = execute.execute(\n\u001b[0m\u001b[1;32m    592\u001b[0m               \u001b[0mstr\u001b[0m\u001b[0;34m(\u001b[0m\u001b[0mself\u001b[0m\u001b[0;34m.\u001b[0m\u001b[0msignature\u001b[0m\u001b[0;34m.\u001b[0m\u001b[0mname\u001b[0m\u001b[0;34m)\u001b[0m\u001b[0;34m,\u001b[0m\u001b[0;34m\u001b[0m\u001b[0;34m\u001b[0m\u001b[0m\n\u001b[1;32m    593\u001b[0m               \u001b[0mnum_outputs\u001b[0m\u001b[0;34m=\u001b[0m\u001b[0mself\u001b[0m\u001b[0;34m.\u001b[0m\u001b[0m_num_outputs\u001b[0m\u001b[0;34m,\u001b[0m\u001b[0;34m\u001b[0m\u001b[0;34m\u001b[0m\u001b[0m\n",
      "\u001b[0;32m~/.pyenv/versions/3.8.6/envs/lewagon/lib/python3.8/site-packages/tensorflow/python/eager/execute.py\u001b[0m in \u001b[0;36mquick_execute\u001b[0;34m(op_name, num_outputs, inputs, attrs, ctx, name)\u001b[0m\n\u001b[1;32m     57\u001b[0m   \u001b[0;32mtry\u001b[0m\u001b[0;34m:\u001b[0m\u001b[0;34m\u001b[0m\u001b[0;34m\u001b[0m\u001b[0m\n\u001b[1;32m     58\u001b[0m     \u001b[0mctx\u001b[0m\u001b[0;34m.\u001b[0m\u001b[0mensure_initialized\u001b[0m\u001b[0;34m(\u001b[0m\u001b[0;34m)\u001b[0m\u001b[0;34m\u001b[0m\u001b[0;34m\u001b[0m\u001b[0m\n\u001b[0;32m---> 59\u001b[0;31m     tensors = pywrap_tfe.TFE_Py_Execute(ctx._handle, device_name, op_name,\n\u001b[0m\u001b[1;32m     60\u001b[0m                                         inputs, attrs, num_outputs)\n\u001b[1;32m     61\u001b[0m   \u001b[0;32mexcept\u001b[0m \u001b[0mcore\u001b[0m\u001b[0;34m.\u001b[0m\u001b[0m_NotOkStatusException\u001b[0m \u001b[0;32mas\u001b[0m \u001b[0me\u001b[0m\u001b[0;34m:\u001b[0m\u001b[0;34m\u001b[0m\u001b[0;34m\u001b[0m\u001b[0m\n",
      "\u001b[0;31mKeyboardInterrupt\u001b[0m: "
     ]
    }
   ],
   "source": [
    "model_pca.compile(optimizer='adam', loss='categorical_crossentropy',metrics=[RootMeanSquaredError()])\n",
    "es = EarlyStopping(restore_best_weights=True, patience=10)\n",
    "model_pca.fit(X_train_pca,y_train_pca,batch_size=8,epochs=1000, validation_split=0.3, callbacks=[es])"
   ]
  },
  {
   "cell_type": "code",
   "execution_count": 130,
   "id": "474ac844",
   "metadata": {},
   "outputs": [
    {
     "name": "stdout",
     "output_type": "stream",
     "text": [
      "142/142 [==============================] - 1s 10ms/step - loss: 1.5054 - root_mean_squared_error: 0.2991\n"
     ]
    },
    {
     "data": {
      "text/plain": [
       "[1.505445957183838, 0.29910773038864136]"
      ]
     },
     "execution_count": 130,
     "metadata": {},
     "output_type": "execute_result"
    }
   ],
   "source": [
    "y_test_pca= to_categorical(y_test_pca)\n",
    "model_pca.evaluate(X_test_pca, y_test_pca)"
   ]
  },
  {
   "cell_type": "code",
   "execution_count": 131,
   "id": "588d61e6",
   "metadata": {},
   "outputs": [
    {
     "data": {
      "text/plain": [
       "<AxesSubplot:ylabel='Count'>"
      ]
     },
     "execution_count": 131,
     "metadata": {},
     "output_type": "execute_result"
    },
    {
     "data": {
      "image/png": "[encoded data removed]",
      "text/plain": [
       "<Figure size 432x288 with 1 Axes>"
      ]
     },
     "metadata": {
      "needs_background": "light"
     },
     "output_type": "display_data"
    }
   ],
   "source": [
    "azerty = model_pca.predict(X_test_pca)\n",
    "sns.histplot(np.argmax(azerty, axis=1))"
   ]
  },
  {
   "cell_type": "markdown",
   "id": "31ea46a5",
   "metadata": {},
   "source": [
    "# test kaggle challenge"
   ]
  },
  {
   "cell_type": "markdown",
   "id": "766d9b7f",
   "metadata": {},
   "source": [
    "## load data"
   ]
  },
  {
   "cell_type": "code",
   "execution_count": 216,
   "id": "5bd8a278",
   "metadata": {},
   "outputs": [
    {
     "name": "stderr",
     "output_type": "stream",
     "text": [
      "/Users/maximedupouy/.pyenv/versions/3.8.6/envs/lewagon/lib/python3.8/site-packages/IPython/core/interactiveshell.py:3441: DtypeWarning: Columns (73) have mixed types.Specify dtype option on import or set low_memory=False.\n",
      "  exec(code_obj, self.user_global_ns, self.user_ns)\n"
     ]
    }
   ],
   "source": [
    "path_test = '../data/IITG.AI HACKATHON 1 2021-22/test.csv'\n",
    "df_test = pd.read_csv(path_test)"
   ]
  },
  {
   "cell_type": "code",
   "execution_count": 217,
   "id": "bc86f91b",
   "metadata": {},
   "outputs": [],
   "source": [
    "index = df_test[\"id\"]"
   ]
  },
  {
   "cell_type": "code",
   "execution_count": 218,
   "id": "28955931",
   "metadata": {},
   "outputs": [
    {
     "data": {
      "text/html": [
       "<div>\n",
       "<style scoped>\n",
       "    .dataframe tbody tr th:only-of-type {\n",
       "        vertical-align: middle;\n",
       "    }\n",
       "\n",
       "    .dataframe tbody tr th {\n",
       "        vertical-align: top;\n",
       "    }\n",
       "\n",
       "    .dataframe thead th {\n",
       "        text-align: right;\n",
       "    }\n",
       "</style>\n",
       "<table border=\"1\" class=\"dataframe\">\n",
       "  <thead>\n",
       "    <tr style=\"text-align: right;\">\n",
       "      <th></th>\n",
       "      <th>id</th>\n",
       "      <th>Q1</th>\n",
       "      <th>Q2</th>\n",
       "      <th>Q3</th>\n",
       "      <th>Q4</th>\n",
       "      <th>Q5</th>\n",
       "      <th>Q6</th>\n",
       "      <th>Q7</th>\n",
       "      <th>Q8</th>\n",
       "      <th>Q9</th>\n",
       "      <th>...</th>\n",
       "      <th>familysize</th>\n",
       "      <th>major</th>\n",
       "      <th>race_arab</th>\n",
       "      <th>race_asian</th>\n",
       "      <th>race_black</th>\n",
       "      <th>race_white</th>\n",
       "      <th>race_hispanic</th>\n",
       "      <th>race_nativeam</th>\n",
       "      <th>race_nativeau</th>\n",
       "      <th>race_other</th>\n",
       "    </tr>\n",
       "  </thead>\n",
       "  <tbody>\n",
       "    <tr>\n",
       "      <th>0</th>\n",
       "      <td>869598</td>\n",
       "      <td>3</td>\n",
       "      <td>5</td>\n",
       "      <td>4</td>\n",
       "      <td>3</td>\n",
       "      <td>5</td>\n",
       "      <td>5</td>\n",
       "      <td>5</td>\n",
       "      <td>4</td>\n",
       "      <td>4</td>\n",
       "      <td>...</td>\n",
       "      <td>2</td>\n",
       "      <td>mechatronics engineering</td>\n",
       "      <td>0</td>\n",
       "      <td>0</td>\n",
       "      <td>0</td>\n",
       "      <td>1</td>\n",
       "      <td>1</td>\n",
       "      <td>0</td>\n",
       "      <td>0</td>\n",
       "      <td>0</td>\n",
       "    </tr>\n",
       "    <tr>\n",
       "      <th>1</th>\n",
       "      <td>682098</td>\n",
       "      <td>4</td>\n",
       "      <td>5</td>\n",
       "      <td>5</td>\n",
       "      <td>4</td>\n",
       "      <td>5</td>\n",
       "      <td>3</td>\n",
       "      <td>5</td>\n",
       "      <td>4</td>\n",
       "      <td>4</td>\n",
       "      <td>...</td>\n",
       "      <td>2</td>\n",
       "      <td>Education</td>\n",
       "      <td>0</td>\n",
       "      <td>0</td>\n",
       "      <td>0</td>\n",
       "      <td>1</td>\n",
       "      <td>0</td>\n",
       "      <td>0</td>\n",
       "      <td>0</td>\n",
       "      <td>0</td>\n",
       "    </tr>\n",
       "    <tr>\n",
       "      <th>2</th>\n",
       "      <td>278454</td>\n",
       "      <td>3</td>\n",
       "      <td>2</td>\n",
       "      <td>5</td>\n",
       "      <td>2</td>\n",
       "      <td>3</td>\n",
       "      <td>3</td>\n",
       "      <td>2</td>\n",
       "      <td>5</td>\n",
       "      <td>4</td>\n",
       "      <td>...</td>\n",
       "      <td>3</td>\n",
       "      <td>NaN</td>\n",
       "      <td>0</td>\n",
       "      <td>0</td>\n",
       "      <td>0</td>\n",
       "      <td>1</td>\n",
       "      <td>0</td>\n",
       "      <td>0</td>\n",
       "      <td>0</td>\n",
       "      <td>0</td>\n",
       "    </tr>\n",
       "    <tr>\n",
       "      <th>3</th>\n",
       "      <td>119007</td>\n",
       "      <td>0</td>\n",
       "      <td>5</td>\n",
       "      <td>5</td>\n",
       "      <td>4</td>\n",
       "      <td>3</td>\n",
       "      <td>5</td>\n",
       "      <td>5</td>\n",
       "      <td>1</td>\n",
       "      <td>5</td>\n",
       "      <td>...</td>\n",
       "      <td>3</td>\n",
       "      <td>chemical engineering</td>\n",
       "      <td>0</td>\n",
       "      <td>0</td>\n",
       "      <td>0</td>\n",
       "      <td>1</td>\n",
       "      <td>0</td>\n",
       "      <td>0</td>\n",
       "      <td>0</td>\n",
       "      <td>0</td>\n",
       "    </tr>\n",
       "    <tr>\n",
       "      <th>4</th>\n",
       "      <td>49950</td>\n",
       "      <td>5</td>\n",
       "      <td>5</td>\n",
       "      <td>5</td>\n",
       "      <td>4</td>\n",
       "      <td>5</td>\n",
       "      <td>4</td>\n",
       "      <td>5</td>\n",
       "      <td>5</td>\n",
       "      <td>5</td>\n",
       "      <td>...</td>\n",
       "      <td>3</td>\n",
       "      <td>computer science</td>\n",
       "      <td>0</td>\n",
       "      <td>0</td>\n",
       "      <td>0</td>\n",
       "      <td>1</td>\n",
       "      <td>0</td>\n",
       "      <td>0</td>\n",
       "      <td>0</td>\n",
       "      <td>1</td>\n",
       "    </tr>\n",
       "    <tr>\n",
       "      <th>5</th>\n",
       "      <td>984812</td>\n",
       "      <td>3</td>\n",
       "      <td>5</td>\n",
       "      <td>5</td>\n",
       "      <td>3</td>\n",
       "      <td>2</td>\n",
       "      <td>3</td>\n",
       "      <td>5</td>\n",
       "      <td>2</td>\n",
       "      <td>3</td>\n",
       "      <td>...</td>\n",
       "      <td>5</td>\n",
       "      <td>NaN</td>\n",
       "      <td>0</td>\n",
       "      <td>0</td>\n",
       "      <td>0</td>\n",
       "      <td>1</td>\n",
       "      <td>0</td>\n",
       "      <td>0</td>\n",
       "      <td>0</td>\n",
       "      <td>0</td>\n",
       "    </tr>\n",
       "    <tr>\n",
       "      <th>6</th>\n",
       "      <td>927608</td>\n",
       "      <td>4</td>\n",
       "      <td>4</td>\n",
       "      <td>5</td>\n",
       "      <td>4</td>\n",
       "      <td>3</td>\n",
       "      <td>5</td>\n",
       "      <td>5</td>\n",
       "      <td>5</td>\n",
       "      <td>5</td>\n",
       "      <td>...</td>\n",
       "      <td>1</td>\n",
       "      <td>biochemistry</td>\n",
       "      <td>0</td>\n",
       "      <td>0</td>\n",
       "      <td>0</td>\n",
       "      <td>1</td>\n",
       "      <td>0</td>\n",
       "      <td>0</td>\n",
       "      <td>0</td>\n",
       "      <td>0</td>\n",
       "    </tr>\n",
       "    <tr>\n",
       "      <th>7</th>\n",
       "      <td>481675</td>\n",
       "      <td>4</td>\n",
       "      <td>4</td>\n",
       "      <td>5</td>\n",
       "      <td>4</td>\n",
       "      <td>3</td>\n",
       "      <td>5</td>\n",
       "      <td>3</td>\n",
       "      <td>3</td>\n",
       "      <td>5</td>\n",
       "      <td>...</td>\n",
       "      <td>2</td>\n",
       "      <td>Animation</td>\n",
       "      <td>0</td>\n",
       "      <td>1</td>\n",
       "      <td>0</td>\n",
       "      <td>0</td>\n",
       "      <td>0</td>\n",
       "      <td>0</td>\n",
       "      <td>0</td>\n",
       "      <td>0</td>\n",
       "    </tr>\n",
       "    <tr>\n",
       "      <th>8</th>\n",
       "      <td>77421</td>\n",
       "      <td>4</td>\n",
       "      <td>2</td>\n",
       "      <td>5</td>\n",
       "      <td>4</td>\n",
       "      <td>5</td>\n",
       "      <td>3</td>\n",
       "      <td>4</td>\n",
       "      <td>5</td>\n",
       "      <td>5</td>\n",
       "      <td>...</td>\n",
       "      <td>2</td>\n",
       "      <td>NaN</td>\n",
       "      <td>0</td>\n",
       "      <td>0</td>\n",
       "      <td>0</td>\n",
       "      <td>1</td>\n",
       "      <td>0</td>\n",
       "      <td>0</td>\n",
       "      <td>0</td>\n",
       "      <td>0</td>\n",
       "    </tr>\n",
       "    <tr>\n",
       "      <th>9</th>\n",
       "      <td>862801</td>\n",
       "      <td>5</td>\n",
       "      <td>3</td>\n",
       "      <td>5</td>\n",
       "      <td>3</td>\n",
       "      <td>3</td>\n",
       "      <td>5</td>\n",
       "      <td>4</td>\n",
       "      <td>5</td>\n",
       "      <td>3</td>\n",
       "      <td>...</td>\n",
       "      <td>2</td>\n",
       "      <td>Not out of high school</td>\n",
       "      <td>0</td>\n",
       "      <td>0</td>\n",
       "      <td>0</td>\n",
       "      <td>1</td>\n",
       "      <td>1</td>\n",
       "      <td>0</td>\n",
       "      <td>0</td>\n",
       "      <td>0</td>\n",
       "    </tr>\n",
       "    <tr>\n",
       "      <th>10</th>\n",
       "      <td>787083</td>\n",
       "      <td>5</td>\n",
       "      <td>3</td>\n",
       "      <td>5</td>\n",
       "      <td>5</td>\n",
       "      <td>3</td>\n",
       "      <td>1</td>\n",
       "      <td>4</td>\n",
       "      <td>5</td>\n",
       "      <td>2</td>\n",
       "      <td>...</td>\n",
       "      <td>3</td>\n",
       "      <td>Music</td>\n",
       "      <td>0</td>\n",
       "      <td>0</td>\n",
       "      <td>0</td>\n",
       "      <td>1</td>\n",
       "      <td>0</td>\n",
       "      <td>0</td>\n",
       "      <td>0</td>\n",
       "      <td>0</td>\n",
       "    </tr>\n",
       "    <tr>\n",
       "      <th>11</th>\n",
       "      <td>318588</td>\n",
       "      <td>5</td>\n",
       "      <td>5</td>\n",
       "      <td>5</td>\n",
       "      <td>5</td>\n",
       "      <td>4</td>\n",
       "      <td>5</td>\n",
       "      <td>5</td>\n",
       "      <td>3</td>\n",
       "      <td>5</td>\n",
       "      <td>...</td>\n",
       "      <td>2</td>\n",
       "      <td>NaN</td>\n",
       "      <td>0</td>\n",
       "      <td>0</td>\n",
       "      <td>0</td>\n",
       "      <td>1</td>\n",
       "      <td>0</td>\n",
       "      <td>0</td>\n",
       "      <td>0</td>\n",
       "      <td>0</td>\n",
       "    </tr>\n",
       "    <tr>\n",
       "      <th>12</th>\n",
       "      <td>672758</td>\n",
       "      <td>4</td>\n",
       "      <td>5</td>\n",
       "      <td>5</td>\n",
       "      <td>3</td>\n",
       "      <td>3</td>\n",
       "      <td>3</td>\n",
       "      <td>5</td>\n",
       "      <td>4</td>\n",
       "      <td>4</td>\n",
       "      <td>...</td>\n",
       "      <td>2</td>\n",
       "      <td>NaN</td>\n",
       "      <td>0</td>\n",
       "      <td>0</td>\n",
       "      <td>0</td>\n",
       "      <td>1</td>\n",
       "      <td>0</td>\n",
       "      <td>0</td>\n",
       "      <td>0</td>\n",
       "      <td>0</td>\n",
       "    </tr>\n",
       "    <tr>\n",
       "      <th>13</th>\n",
       "      <td>721900</td>\n",
       "      <td>5</td>\n",
       "      <td>4</td>\n",
       "      <td>5</td>\n",
       "      <td>5</td>\n",
       "      <td>5</td>\n",
       "      <td>4</td>\n",
       "      <td>5</td>\n",
       "      <td>5</td>\n",
       "      <td>5</td>\n",
       "      <td>...</td>\n",
       "      <td>2</td>\n",
       "      <td>biology</td>\n",
       "      <td>0</td>\n",
       "      <td>0</td>\n",
       "      <td>0</td>\n",
       "      <td>1</td>\n",
       "      <td>0</td>\n",
       "      <td>0</td>\n",
       "      <td>0</td>\n",
       "      <td>0</td>\n",
       "    </tr>\n",
       "    <tr>\n",
       "      <th>14</th>\n",
       "      <td>488583</td>\n",
       "      <td>4</td>\n",
       "      <td>5</td>\n",
       "      <td>5</td>\n",
       "      <td>4</td>\n",
       "      <td>4</td>\n",
       "      <td>5</td>\n",
       "      <td>5</td>\n",
       "      <td>5</td>\n",
       "      <td>5</td>\n",
       "      <td>...</td>\n",
       "      <td>3</td>\n",
       "      <td>NaN</td>\n",
       "      <td>0</td>\n",
       "      <td>0</td>\n",
       "      <td>0</td>\n",
       "      <td>1</td>\n",
       "      <td>0</td>\n",
       "      <td>0</td>\n",
       "      <td>0</td>\n",
       "      <td>0</td>\n",
       "    </tr>\n",
       "    <tr>\n",
       "      <th>15</th>\n",
       "      <td>975803</td>\n",
       "      <td>4</td>\n",
       "      <td>5</td>\n",
       "      <td>5</td>\n",
       "      <td>4</td>\n",
       "      <td>1</td>\n",
       "      <td>3</td>\n",
       "      <td>4</td>\n",
       "      <td>5</td>\n",
       "      <td>4</td>\n",
       "      <td>...</td>\n",
       "      <td>1</td>\n",
       "      <td>NaN</td>\n",
       "      <td>0</td>\n",
       "      <td>0</td>\n",
       "      <td>0</td>\n",
       "      <td>1</td>\n",
       "      <td>0</td>\n",
       "      <td>0</td>\n",
       "      <td>0</td>\n",
       "      <td>0</td>\n",
       "    </tr>\n",
       "    <tr>\n",
       "      <th>16</th>\n",
       "      <td>519594</td>\n",
       "      <td>5</td>\n",
       "      <td>5</td>\n",
       "      <td>5</td>\n",
       "      <td>5</td>\n",
       "      <td>5</td>\n",
       "      <td>5</td>\n",
       "      <td>5</td>\n",
       "      <td>3</td>\n",
       "      <td>5</td>\n",
       "      <td>...</td>\n",
       "      <td>2</td>\n",
       "      <td>Software engineering</td>\n",
       "      <td>0</td>\n",
       "      <td>0</td>\n",
       "      <td>0</td>\n",
       "      <td>1</td>\n",
       "      <td>0</td>\n",
       "      <td>0</td>\n",
       "      <td>0</td>\n",
       "      <td>0</td>\n",
       "    </tr>\n",
       "    <tr>\n",
       "      <th>17</th>\n",
       "      <td>809583</td>\n",
       "      <td>3</td>\n",
       "      <td>5</td>\n",
       "      <td>3</td>\n",
       "      <td>5</td>\n",
       "      <td>5</td>\n",
       "      <td>5</td>\n",
       "      <td>5</td>\n",
       "      <td>3</td>\n",
       "      <td>5</td>\n",
       "      <td>...</td>\n",
       "      <td>3</td>\n",
       "      <td>Computer Science</td>\n",
       "      <td>0</td>\n",
       "      <td>0</td>\n",
       "      <td>0</td>\n",
       "      <td>1</td>\n",
       "      <td>0</td>\n",
       "      <td>0</td>\n",
       "      <td>0</td>\n",
       "      <td>0</td>\n",
       "    </tr>\n",
       "    <tr>\n",
       "      <th>18</th>\n",
       "      <td>759554</td>\n",
       "      <td>4</td>\n",
       "      <td>3</td>\n",
       "      <td>4</td>\n",
       "      <td>3</td>\n",
       "      <td>4</td>\n",
       "      <td>3</td>\n",
       "      <td>5</td>\n",
       "      <td>2</td>\n",
       "      <td>4</td>\n",
       "      <td>...</td>\n",
       "      <td>3</td>\n",
       "      <td>Information technology</td>\n",
       "      <td>0</td>\n",
       "      <td>0</td>\n",
       "      <td>0</td>\n",
       "      <td>1</td>\n",
       "      <td>0</td>\n",
       "      <td>0</td>\n",
       "      <td>0</td>\n",
       "      <td>0</td>\n",
       "    </tr>\n",
       "    <tr>\n",
       "      <th>19</th>\n",
       "      <td>982074</td>\n",
       "      <td>4</td>\n",
       "      <td>4</td>\n",
       "      <td>5</td>\n",
       "      <td>4</td>\n",
       "      <td>3</td>\n",
       "      <td>3</td>\n",
       "      <td>3</td>\n",
       "      <td>5</td>\n",
       "      <td>4</td>\n",
       "      <td>...</td>\n",
       "      <td>3</td>\n",
       "      <td>NaN</td>\n",
       "      <td>0</td>\n",
       "      <td>0</td>\n",
       "      <td>0</td>\n",
       "      <td>1</td>\n",
       "      <td>0</td>\n",
       "      <td>0</td>\n",
       "      <td>0</td>\n",
       "      <td>0</td>\n",
       "    </tr>\n",
       "  </tbody>\n",
       "</table>\n",
       "<p>20 rows × 79 columns</p>\n",
       "</div>"
      ],
      "text/plain": [
       "        id  Q1  Q2  Q3  Q4  Q5  Q6  Q7  Q8  Q9  ...  familysize  \\\n",
       "0   869598   3   5   4   3   5   5   5   4   4  ...           2   \n",
       "1   682098   4   5   5   4   5   3   5   4   4  ...           2   \n",
       "2   278454   3   2   5   2   3   3   2   5   4  ...           3   \n",
       "3   119007   0   5   5   4   3   5   5   1   5  ...           3   \n",
       "4    49950   5   5   5   4   5   4   5   5   5  ...           3   \n",
       "5   984812   3   5   5   3   2   3   5   2   3  ...           5   \n",
       "6   927608   4   4   5   4   3   5   5   5   5  ...           1   \n",
       "7   481675   4   4   5   4   3   5   3   3   5  ...           2   \n",
       "8    77421   4   2   5   4   5   3   4   5   5  ...           2   \n",
       "9   862801   5   3   5   3   3   5   4   5   3  ...           2   \n",
       "10  787083   5   3   5   5   3   1   4   5   2  ...           3   \n",
       "11  318588   5   5   5   5   4   5   5   3   5  ...           2   \n",
       "12  672758   4   5   5   3   3   3   5   4   4  ...           2   \n",
       "13  721900   5   4   5   5   5   4   5   5   5  ...           2   \n",
       "14  488583   4   5   5   4   4   5   5   5   5  ...           3   \n",
       "15  975803   4   5   5   4   1   3   4   5   4  ...           1   \n",
       "16  519594   5   5   5   5   5   5   5   3   5  ...           2   \n",
       "17  809583   3   5   3   5   5   5   5   3   5  ...           3   \n",
       "18  759554   4   3   4   3   4   3   5   2   4  ...           3   \n",
       "19  982074   4   4   5   4   3   3   3   5   4  ...           3   \n",
       "\n",
       "                       major  race_arab  race_asian  race_black  race_white  \\\n",
       "0   mechatronics engineering          0           0           0           1   \n",
       "1                  Education          0           0           0           1   \n",
       "2                        NaN          0           0           0           1   \n",
       "3       chemical engineering          0           0           0           1   \n",
       "4           computer science          0           0           0           1   \n",
       "5                        NaN          0           0           0           1   \n",
       "6               biochemistry          0           0           0           1   \n",
       "7                  Animation          0           1           0           0   \n",
       "8                        NaN          0           0           0           1   \n",
       "9     Not out of high school          0           0           0           1   \n",
       "10                     Music          0           0           0           1   \n",
       "11                       NaN          0           0           0           1   \n",
       "12                       NaN          0           0           0           1   \n",
       "13                   biology          0           0           0           1   \n",
       "14                       NaN          0           0           0           1   \n",
       "15                       NaN          0           0           0           1   \n",
       "16      Software engineering          0           0           0           1   \n",
       "17          Computer Science          0           0           0           1   \n",
       "18    Information technology          0           0           0           1   \n",
       "19                       NaN          0           0           0           1   \n",
       "\n",
       "    race_hispanic  race_nativeam  race_nativeau  race_other  \n",
       "0               1              0              0           0  \n",
       "1               0              0              0           0  \n",
       "2               0              0              0           0  \n",
       "3               0              0              0           0  \n",
       "4               0              0              0           1  \n",
       "5               0              0              0           0  \n",
       "6               0              0              0           0  \n",
       "7               0              0              0           0  \n",
       "8               0              0              0           0  \n",
       "9               1              0              0           0  \n",
       "10              0              0              0           0  \n",
       "11              0              0              0           0  \n",
       "12              0              0              0           0  \n",
       "13              0              0              0           0  \n",
       "14              0              0              0           0  \n",
       "15              0              0              0           0  \n",
       "16              0              0              0           0  \n",
       "17              0              0              0           0  \n",
       "18              0              0              0           0  \n",
       "19              0              0              0           0  \n",
       "\n",
       "[20 rows x 79 columns]"
      ]
     },
     "execution_count": 218,
     "metadata": {},
     "output_type": "execute_result"
    }
   ],
   "source": [
    "df_test.head(20)"
   ]
  },
  {
   "cell_type": "markdown",
   "id": "261be323",
   "metadata": {},
   "source": [
    "## preprocess"
   ]
  },
  {
   "cell_type": "code",
   "execution_count": 219,
   "id": "c71f80a7",
   "metadata": {},
   "outputs": [],
   "source": [
    "df_test = df_test.drop(columns=['country','introelapse', 'testelapse', 'surveyelapse'])"
   ]
  },
  {
   "cell_type": "code",
   "execution_count": 220,
   "id": "9d173ee3",
   "metadata": {},
   "outputs": [
    {
     "data": {
      "text/html": [
       "<div>\n",
       "<style scoped>\n",
       "    .dataframe tbody tr th:only-of-type {\n",
       "        vertical-align: middle;\n",
       "    }\n",
       "\n",
       "    .dataframe tbody tr th {\n",
       "        vertical-align: top;\n",
       "    }\n",
       "\n",
       "    .dataframe thead th {\n",
       "        text-align: right;\n",
       "    }\n",
       "</style>\n",
       "<table border=\"1\" class=\"dataframe\">\n",
       "  <thead>\n",
       "    <tr style=\"text-align: right;\">\n",
       "      <th></th>\n",
       "      <th>Q1</th>\n",
       "      <th>Q2</th>\n",
       "      <th>Q3</th>\n",
       "      <th>Q4</th>\n",
       "      <th>Q5</th>\n",
       "      <th>Q6</th>\n",
       "      <th>Q8</th>\n",
       "      <th>Q9</th>\n",
       "      <th>Q11</th>\n",
       "      <th>Q12</th>\n",
       "      <th>...</th>\n",
       "      <th>engnat</th>\n",
       "      <th>age</th>\n",
       "      <th>screenw</th>\n",
       "      <th>screenh</th>\n",
       "      <th>religion</th>\n",
       "      <th>orientation</th>\n",
       "      <th>familysize</th>\n",
       "      <th>race_arab</th>\n",
       "      <th>race_nativeam</th>\n",
       "      <th>race_nativeau</th>\n",
       "    </tr>\n",
       "  </thead>\n",
       "  <tbody>\n",
       "    <tr>\n",
       "      <th>0</th>\n",
       "      <td>3</td>\n",
       "      <td>5</td>\n",
       "      <td>4</td>\n",
       "      <td>3</td>\n",
       "      <td>5</td>\n",
       "      <td>5</td>\n",
       "      <td>4</td>\n",
       "      <td>4</td>\n",
       "      <td>5</td>\n",
       "      <td>5</td>\n",
       "      <td>...</td>\n",
       "      <td>2.0</td>\n",
       "      <td>23.0</td>\n",
       "      <td>1024</td>\n",
       "      <td>600</td>\n",
       "      <td>4.0</td>\n",
       "      <td>1.0</td>\n",
       "      <td>2.0</td>\n",
       "      <td>0</td>\n",
       "      <td>0</td>\n",
       "      <td>0</td>\n",
       "    </tr>\n",
       "    <tr>\n",
       "      <th>1</th>\n",
       "      <td>4</td>\n",
       "      <td>5</td>\n",
       "      <td>5</td>\n",
       "      <td>4</td>\n",
       "      <td>5</td>\n",
       "      <td>3</td>\n",
       "      <td>4</td>\n",
       "      <td>4</td>\n",
       "      <td>1</td>\n",
       "      <td>5</td>\n",
       "      <td>...</td>\n",
       "      <td>2.0</td>\n",
       "      <td>24.0</td>\n",
       "      <td>1920</td>\n",
       "      <td>1080</td>\n",
       "      <td>4.0</td>\n",
       "      <td>5.0</td>\n",
       "      <td>2.0</td>\n",
       "      <td>0</td>\n",
       "      <td>0</td>\n",
       "      <td>0</td>\n",
       "    </tr>\n",
       "    <tr>\n",
       "      <th>2</th>\n",
       "      <td>3</td>\n",
       "      <td>2</td>\n",
       "      <td>5</td>\n",
       "      <td>2</td>\n",
       "      <td>3</td>\n",
       "      <td>3</td>\n",
       "      <td>5</td>\n",
       "      <td>4</td>\n",
       "      <td>2</td>\n",
       "      <td>1</td>\n",
       "      <td>...</td>\n",
       "      <td>1.0</td>\n",
       "      <td>14.0</td>\n",
       "      <td>360</td>\n",
       "      <td>640</td>\n",
       "      <td>1.0</td>\n",
       "      <td>5.0</td>\n",
       "      <td>3.0</td>\n",
       "      <td>0</td>\n",
       "      <td>0</td>\n",
       "      <td>0</td>\n",
       "    </tr>\n",
       "    <tr>\n",
       "      <th>3</th>\n",
       "      <td>0</td>\n",
       "      <td>5</td>\n",
       "      <td>5</td>\n",
       "      <td>4</td>\n",
       "      <td>3</td>\n",
       "      <td>5</td>\n",
       "      <td>1</td>\n",
       "      <td>5</td>\n",
       "      <td>1</td>\n",
       "      <td>3</td>\n",
       "      <td>...</td>\n",
       "      <td>1.0</td>\n",
       "      <td>65.0</td>\n",
       "      <td>1920</td>\n",
       "      <td>1080</td>\n",
       "      <td>9.0</td>\n",
       "      <td>1.0</td>\n",
       "      <td>3.0</td>\n",
       "      <td>0</td>\n",
       "      <td>0</td>\n",
       "      <td>0</td>\n",
       "    </tr>\n",
       "    <tr>\n",
       "      <th>4</th>\n",
       "      <td>5</td>\n",
       "      <td>5</td>\n",
       "      <td>5</td>\n",
       "      <td>4</td>\n",
       "      <td>5</td>\n",
       "      <td>4</td>\n",
       "      <td>5</td>\n",
       "      <td>5</td>\n",
       "      <td>4</td>\n",
       "      <td>5</td>\n",
       "      <td>...</td>\n",
       "      <td>2.0</td>\n",
       "      <td>29.0</td>\n",
       "      <td>360</td>\n",
       "      <td>592</td>\n",
       "      <td>2.0</td>\n",
       "      <td>2.0</td>\n",
       "      <td>3.0</td>\n",
       "      <td>0</td>\n",
       "      <td>0</td>\n",
       "      <td>0</td>\n",
       "    </tr>\n",
       "  </tbody>\n",
       "</table>\n",
       "<p>5 rows × 48 columns</p>\n",
       "</div>"
      ],
      "text/plain": [
       "   Q1  Q2  Q3  Q4  Q5  Q6  Q8  Q9  Q11  Q12  ...  engnat   age  screenw  \\\n",
       "0   3   5   4   3   5   5   4   4    5    5  ...     2.0  23.0     1024   \n",
       "1   4   5   5   4   5   3   4   4    1    5  ...     2.0  24.0     1920   \n",
       "2   3   2   5   2   3   3   5   4    2    1  ...     1.0  14.0      360   \n",
       "3   0   5   5   4   3   5   1   5    1    3  ...     1.0  65.0     1920   \n",
       "4   5   5   5   4   5   4   5   5    4    5  ...     2.0  29.0      360   \n",
       "\n",
       "   screenh  religion  orientation  familysize  race_arab  race_nativeam  \\\n",
       "0      600       4.0          1.0         2.0          0              0   \n",
       "1     1080       4.0          5.0         2.0          0              0   \n",
       "2      640       1.0          5.0         3.0          0              0   \n",
       "3     1080       9.0          1.0         3.0          0              0   \n",
       "4      592       2.0          2.0         3.0          0              0   \n",
       "\n",
       "   race_nativeau  \n",
       "0              0  \n",
       "1              0  \n",
       "2              0  \n",
       "3              0  \n",
       "4              0  \n",
       "\n",
       "[5 rows x 48 columns]"
      ]
     },
     "execution_count": 220,
     "metadata": {},
     "output_type": "execute_result"
    }
   ],
   "source": [
    "for column in columns_race:\n",
    "    df_test[column] = df_test[column].apply(del_word)\n",
    "for column in tipi_columns[:-1]:\n",
    "    df_test[column] = df_test[column].replace(0, df_test[column].mean())\n",
    "for col in col__ :\n",
    "    df_test[col] = df_test[col].apply(lambda x : max_value(x, col))\n",
    "    df_test[col] = df_test[col].replace(0, df_test[col].mean())\n",
    "df_test['age'] = df_test['age'].apply(set_age)\n",
    "df_test = df_test[garbage[:-1]]\n",
    "\n",
    "df_test.head(5)"
   ]
  },
  {
   "cell_type": "code",
   "execution_count": 221,
   "id": "d0bec133",
   "metadata": {},
   "outputs": [
    {
     "data": {
      "text/plain": [
       "array([[-0.68476993,  0.85383129, -0.10730387, ..., -0.13437371,\n",
       "        -0.20155013, -0.05680857],\n",
       "       [ 0.14386944,  0.85383129,  0.80438167, ..., -0.13437371,\n",
       "        -0.20155013, -0.05680857],\n",
       "       [-0.68476993, -1.50865752,  0.80438167, ..., -0.13437371,\n",
       "        -0.20155013, -0.05680857],\n",
       "       ...,\n",
       "       [ 0.9725088 ,  0.06633502,  0.80438167, ..., -0.13437371,\n",
       "        -0.20155013, -0.05680857],\n",
       "       [ 0.14386944, -1.50865752, -0.10730387, ..., -0.13437371,\n",
       "        -0.20155013, -0.05680857],\n",
       "       [ 0.14386944,  0.06633502,  0.80438167, ..., -0.13437371,\n",
       "        -0.20155013, -0.05680857]])"
      ]
     },
     "execution_count": 221,
     "metadata": {},
     "output_type": "execute_result"
    }
   ],
   "source": [
    "X_test_clean=scaler_resample_pca.transform(df_test)\n",
    "X_test_clean"
   ]
  },
  {
   "cell_type": "code",
   "execution_count": 222,
   "id": "40ee8f47",
   "metadata": {},
   "outputs": [
    {
     "data": {
      "text/plain": [
       "array([[-2.42583739,  0.32652812,  0.03122431, ..., -0.15862401,\n",
       "        -0.49416934, -0.5651513 ],\n",
       "       [-0.43059009,  1.10700321, -0.82503019, ..., -0.52599914,\n",
       "         0.23181242,  0.08367442],\n",
       "       [ 1.19046083,  3.90789698,  1.57454083, ...,  0.19026509,\n",
       "         0.71426125,  0.23633852],\n",
       "       ...,\n",
       "       [ 0.1019645 ,  3.42277092, -1.74448835, ...,  0.10974442,\n",
       "         0.31856678, -0.30190837],\n",
       "       [-0.02003808, -0.75113353,  0.86505924, ..., -0.56052254,\n",
       "         0.17556824,  0.26364802],\n",
       "       [-1.78122216, -0.2858139 ,  2.2729307 , ...,  0.0498299 ,\n",
       "        -0.09524576,  0.52946246]])"
      ]
     },
     "execution_count": 222,
     "metadata": {},
     "output_type": "execute_result"
    }
   ],
   "source": [
    "X_test_clean_pca = pca_.transform(X_test_clean)\n",
    "X_test_clean_pca"
   ]
  },
  {
   "cell_type": "code",
   "execution_count": 223,
   "id": "80aeea02",
   "metadata": {},
   "outputs": [],
   "source": [
    "prediction_1 = model_resample_pca.predict(X_test_clean_pca)\n",
    "prediction_1 = np.argmax(prediction_1, axis=1)"
   ]
  },
  {
   "cell_type": "code",
   "execution_count": 224,
   "id": "62cce4a4",
   "metadata": {},
   "outputs": [],
   "source": [
    "prediction_1 = pd.DataFrame(prediction_1, columns=['nerdy'])\n",
    "prediction_1 = pd.concat([index, prediction_1], axis=1)"
   ]
  },
  {
   "cell_type": "code",
   "execution_count": 225,
   "id": "9293073d",
   "metadata": {},
   "outputs": [
    {
     "data": {
      "text/html": [
       "<div>\n",
       "<style scoped>\n",
       "    .dataframe tbody tr th:only-of-type {\n",
       "        vertical-align: middle;\n",
       "    }\n",
       "\n",
       "    .dataframe tbody tr th {\n",
       "        vertical-align: top;\n",
       "    }\n",
       "\n",
       "    .dataframe thead th {\n",
       "        text-align: right;\n",
       "    }\n",
       "</style>\n",
       "<table border=\"1\" class=\"dataframe\">\n",
       "  <thead>\n",
       "    <tr style=\"text-align: right;\">\n",
       "      <th></th>\n",
       "      <th>id</th>\n",
       "      <th>nerdy</th>\n",
       "    </tr>\n",
       "  </thead>\n",
       "  <tbody>\n",
       "    <tr>\n",
       "      <th>0</th>\n",
       "      <td>869598</td>\n",
       "      <td>6</td>\n",
       "    </tr>\n",
       "    <tr>\n",
       "      <th>1</th>\n",
       "      <td>682098</td>\n",
       "      <td>5</td>\n",
       "    </tr>\n",
       "    <tr>\n",
       "      <th>2</th>\n",
       "      <td>278454</td>\n",
       "      <td>4</td>\n",
       "    </tr>\n",
       "    <tr>\n",
       "      <th>3</th>\n",
       "      <td>119007</td>\n",
       "      <td>6</td>\n",
       "    </tr>\n",
       "    <tr>\n",
       "      <th>4</th>\n",
       "      <td>49950</td>\n",
       "      <td>7</td>\n",
       "    </tr>\n",
       "  </tbody>\n",
       "</table>\n",
       "</div>"
      ],
      "text/plain": [
       "       id  nerdy\n",
       "0  869598      6\n",
       "1  682098      5\n",
       "2  278454      4\n",
       "3  119007      6\n",
       "4   49950      7"
      ]
     },
     "execution_count": 225,
     "metadata": {},
     "output_type": "execute_result"
    }
   ],
   "source": [
    "prediction_1.head(5)"
   ]
  },
  {
   "cell_type": "code",
   "execution_count": 226,
   "id": "8987bccb",
   "metadata": {},
   "outputs": [
    {
     "data": {
      "text/plain": [
       "<AxesSubplot:xlabel='nerdy', ylabel='Count'>"
      ]
     },
     "execution_count": 226,
     "metadata": {},
     "output_type": "execute_result"
    },
    {
     "data": {
      "image/png": "[encoded data removed]",
      "text/plain": [
       "<Figure size 432x288 with 1 Axes>"
      ]
     },
     "metadata": {
      "needs_background": "light"
     },
     "output_type": "display_data"
    }
   ],
   "source": [
    "sns.histplot(prediction_1['nerdy'])"
   ]
  },
  {
   "cell_type": "code",
   "execution_count": 227,
   "id": "3adf6437",
   "metadata": {},
   "outputs": [],
   "source": [
    "prediction_1.to_csv('../test_challenge_kaggle/hackaton_1.csv', index=False)"
   ]
  },
  {
   "cell_type": "code",
   "execution_count": 240,
   "id": "97d6541f",
   "metadata": {},
   "outputs": [],
   "source": [
    "svc = SVC(kernel='linear')\n",
    "y_train_resample_pca = np.argmax(y_train_resample_pca, axis=1)\n",
    "model_svc = svc.fit(X_train_resample_pca,y_train_resample_pca)\n"
   ]
  },
  {
   "cell_type": "code",
   "execution_count": 243,
   "id": "3ec8ef4e",
   "metadata": {},
   "outputs": [
    {
     "data": {
      "text/plain": [
       "array([5, 5, 1, ..., 6, 5, 6])"
      ]
     },
     "execution_count": 243,
     "metadata": {},
     "output_type": "execute_result"
    }
   ],
   "source": [
    "from sklearn.metrics import mean_squared_error\n",
    "y_pred_clf = model_svc.predict(X_test_resample_pca)\n",
    "y_pred_clf"
   ]
  },
  {
   "cell_type": "code",
   "execution_count": 244,
   "id": "73f01d3f",
   "metadata": {},
   "outputs": [
    {
     "data": {
      "text/plain": [
       "4.001448855404231"
      ]
     },
     "execution_count": 244,
     "metadata": {},
     "output_type": "execute_result"
    }
   ],
   "source": [
    "mean_squared_error(y_test_resample_pca, y_pred_clf)"
   ]
  },
  {
   "cell_type": "code",
   "execution_count": 245,
   "id": "e9e55ff0",
   "metadata": {},
   "outputs": [
    {
     "data": {
      "text/plain": [
       "array([4, 4, 5, ..., 7, 3, 6])"
      ]
     },
     "execution_count": 245,
     "metadata": {},
     "output_type": "execute_result"
    }
   ],
   "source": [
    "y_test_resample_pca"
   ]
  },
  {
   "cell_type": "code",
   "execution_count": 230,
   "id": "8566a58d",
   "metadata": {},
   "outputs": [
    {
     "ename": "AxisError",
     "evalue": "axis 1 is out of bounds for array of dimension 1",
     "output_type": "error",
     "traceback": [
      "\u001b[0;31m---------------------------------------------------------------------------\u001b[0m",
      "\u001b[0;31mAxisError\u001b[0m                                 Traceback (most recent call last)",
      "\u001b[0;32m/var/folders/rm/v4zjj0453jl2v5pmlsvnhgnc0000gn/T/ipykernel_18734/401773545.py\u001b[0m in \u001b[0;36m<module>\u001b[0;34m\u001b[0m\n\u001b[0;32m----> 1\u001b[0;31m \u001b[0my_test_resample_pca\u001b[0m \u001b[0;34m=\u001b[0m \u001b[0mnp\u001b[0m\u001b[0;34m.\u001b[0m\u001b[0margmax\u001b[0m\u001b[0;34m(\u001b[0m\u001b[0my_test_resample_pca\u001b[0m\u001b[0;34m,\u001b[0m \u001b[0maxis\u001b[0m\u001b[0;34m=\u001b[0m\u001b[0;36m1\u001b[0m\u001b[0;34m)\u001b[0m\u001b[0;34m\u001b[0m\u001b[0;34m\u001b[0m\u001b[0m\n\u001b[0m\u001b[1;32m      2\u001b[0m \u001b[0my_test_resample_pca\u001b[0m\u001b[0;34m\u001b[0m\u001b[0;34m\u001b[0m\u001b[0m\n",
      "\u001b[0;32m<__array_function__ internals>\u001b[0m in \u001b[0;36margmax\u001b[0;34m(*args, **kwargs)\u001b[0m\n",
      "\u001b[0;32m~/.pyenv/versions/3.8.6/envs/lewagon/lib/python3.8/site-packages/numpy/core/fromnumeric.py\u001b[0m in \u001b[0;36margmax\u001b[0;34m(a, axis, out)\u001b[0m\n\u001b[1;32m   1186\u001b[0m \u001b[0;34m\u001b[0m\u001b[0m\n\u001b[1;32m   1187\u001b[0m     \"\"\"\n\u001b[0;32m-> 1188\u001b[0;31m     \u001b[0;32mreturn\u001b[0m \u001b[0m_wrapfunc\u001b[0m\u001b[0;34m(\u001b[0m\u001b[0ma\u001b[0m\u001b[0;34m,\u001b[0m \u001b[0;34m'argmax'\u001b[0m\u001b[0;34m,\u001b[0m \u001b[0maxis\u001b[0m\u001b[0;34m=\u001b[0m\u001b[0maxis\u001b[0m\u001b[0;34m,\u001b[0m \u001b[0mout\u001b[0m\u001b[0;34m=\u001b[0m\u001b[0mout\u001b[0m\u001b[0;34m)\u001b[0m\u001b[0;34m\u001b[0m\u001b[0;34m\u001b[0m\u001b[0m\n\u001b[0m\u001b[1;32m   1189\u001b[0m \u001b[0;34m\u001b[0m\u001b[0m\n\u001b[1;32m   1190\u001b[0m \u001b[0;34m\u001b[0m\u001b[0m\n",
      "\u001b[0;32m~/.pyenv/versions/3.8.6/envs/lewagon/lib/python3.8/site-packages/numpy/core/fromnumeric.py\u001b[0m in \u001b[0;36m_wrapfunc\u001b[0;34m(obj, method, *args, **kwds)\u001b[0m\n\u001b[1;32m     56\u001b[0m \u001b[0;34m\u001b[0m\u001b[0m\n\u001b[1;32m     57\u001b[0m     \u001b[0;32mtry\u001b[0m\u001b[0;34m:\u001b[0m\u001b[0;34m\u001b[0m\u001b[0;34m\u001b[0m\u001b[0m\n\u001b[0;32m---> 58\u001b[0;31m         \u001b[0;32mreturn\u001b[0m \u001b[0mbound\u001b[0m\u001b[0;34m(\u001b[0m\u001b[0;34m*\u001b[0m\u001b[0margs\u001b[0m\u001b[0;34m,\u001b[0m \u001b[0;34m**\u001b[0m\u001b[0mkwds\u001b[0m\u001b[0;34m)\u001b[0m\u001b[0;34m\u001b[0m\u001b[0;34m\u001b[0m\u001b[0m\n\u001b[0m\u001b[1;32m     59\u001b[0m     \u001b[0;32mexcept\u001b[0m \u001b[0mTypeError\u001b[0m\u001b[0;34m:\u001b[0m\u001b[0;34m\u001b[0m\u001b[0;34m\u001b[0m\u001b[0m\n\u001b[1;32m     60\u001b[0m         \u001b[0;31m# A TypeError occurs if the object does have such a method in its\u001b[0m\u001b[0;34m\u001b[0m\u001b[0;34m\u001b[0m\u001b[0;34m\u001b[0m\u001b[0m\n",
      "\u001b[0;31mAxisError\u001b[0m: axis 1 is out of bounds for array of dimension 1"
     ]
    }
   ],
   "source": [
    "y_test_resample_pca = np.argmax(y_test_resample_pca, axis=1)\n",
    "y_test_resample_pca"
   ]
  },
  {
   "cell_type": "code",
   "execution_count": 211,
   "id": "6c928c61",
   "metadata": {},
   "outputs": [
    {
     "data": {
      "text/plain": [
       "array([4, 4, 5, ..., 7, 3, 6])"
      ]
     },
     "execution_count": 211,
     "metadata": {},
     "output_type": "execute_result"
    }
   ],
   "source": [
    "y_test_resample_pca"
   ]
  },
  {
   "cell_type": "code",
   "execution_count": 246,
   "id": "1c524e6c",
   "metadata": {},
   "outputs": [
    {
     "data": {
      "text/plain": [
       "<AxesSubplot:ylabel='Count'>"
      ]
     },
     "execution_count": 246,
     "metadata": {},
     "output_type": "execute_result"
    },
    {
     "data": {
      "image/png": "[encoded data removed]",
      "text/plain": [
       "<Figure size 432x288 with 1 Axes>"
      ]
     },
     "metadata": {
      "needs_background": "light"
     },
     "output_type": "display_data"
    }
   ],
   "source": [
    "sns.histplot(y_pred_clf)"
   ]
  },
  {
   "cell_type": "code",
   "execution_count": null,
   "id": "bcc08e58",
   "metadata": {},
   "outputs": [],
   "source": []
  }
 ],
 "metadata": {
  "kernelspec": {
   "display_name": "Python 3 (ipykernel)",
   "language": "python",
   "name": "python3"
  },
  "language_info": {
   "codemirror_mode": {
    "name": "ipython",
    "version": 3
   },
   "file_extension": ".py",
   "mimetype": "text/x-python",
   "name": "python",
   "nbconvert_exporter": "python",
   "pygments_lexer": "ipython3",
   "version": "3.8.6"
  },
  "toc": {
   "base_numbering": 1,
   "nav_menu": {},
   "number_sections": true,
   "sideBar": true,
   "skip_h1_title": false,
   "title_cell": "Table of Contents",
   "title_sidebar": "Contents",
   "toc_cell": false,
   "toc_position": {},
   "toc_section_display": true,
   "toc_window_display": false
  }
 },
 "nbformat": 4,
 "nbformat_minor": 5
}
